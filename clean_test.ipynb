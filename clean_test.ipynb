{
 "cells": [
  {
   "cell_type": "code",
   "execution_count": 1,
   "metadata": {},
   "outputs": [],
   "source": [
    "import pandas as pd\n",
    "import numpy as np"
   ]
  },
  {
   "cell_type": "code",
   "execution_count": 2,
   "metadata": {},
   "outputs": [
    {
     "data": {
      "text/html": [
       "<div>\n",
       "<style scoped>\n",
       "    .dataframe tbody tr th:only-of-type {\n",
       "        vertical-align: middle;\n",
       "    }\n",
       "\n",
       "    .dataframe tbody tr th {\n",
       "        vertical-align: top;\n",
       "    }\n",
       "\n",
       "    .dataframe thead th {\n",
       "        text-align: right;\n",
       "    }\n",
       "</style>\n",
       "<table border=\"1\" class=\"dataframe\">\n",
       "  <thead>\n",
       "    <tr style=\"text-align: right;\">\n",
       "      <th></th>\n",
       "      <th>Id</th>\n",
       "      <th>MSSubClass</th>\n",
       "      <th>MSZoning</th>\n",
       "      <th>LotFrontage</th>\n",
       "      <th>LotArea</th>\n",
       "      <th>Street</th>\n",
       "      <th>Alley</th>\n",
       "      <th>LotShape</th>\n",
       "      <th>LandContour</th>\n",
       "      <th>Utilities</th>\n",
       "      <th>...</th>\n",
       "      <th>ScreenPorch</th>\n",
       "      <th>PoolArea</th>\n",
       "      <th>PoolQC</th>\n",
       "      <th>Fence</th>\n",
       "      <th>MiscFeature</th>\n",
       "      <th>MiscVal</th>\n",
       "      <th>MoSold</th>\n",
       "      <th>YrSold</th>\n",
       "      <th>SaleType</th>\n",
       "      <th>SaleCondition</th>\n",
       "    </tr>\n",
       "  </thead>\n",
       "  <tbody>\n",
       "    <tr>\n",
       "      <th>0</th>\n",
       "      <td>1461</td>\n",
       "      <td>20</td>\n",
       "      <td>RH</td>\n",
       "      <td>80.0</td>\n",
       "      <td>11622</td>\n",
       "      <td>Pave</td>\n",
       "      <td>NaN</td>\n",
       "      <td>Reg</td>\n",
       "      <td>Lvl</td>\n",
       "      <td>AllPub</td>\n",
       "      <td>...</td>\n",
       "      <td>120</td>\n",
       "      <td>0</td>\n",
       "      <td>NaN</td>\n",
       "      <td>MnPrv</td>\n",
       "      <td>NaN</td>\n",
       "      <td>0</td>\n",
       "      <td>6</td>\n",
       "      <td>2010</td>\n",
       "      <td>WD</td>\n",
       "      <td>Normal</td>\n",
       "    </tr>\n",
       "    <tr>\n",
       "      <th>1</th>\n",
       "      <td>1462</td>\n",
       "      <td>20</td>\n",
       "      <td>RL</td>\n",
       "      <td>81.0</td>\n",
       "      <td>14267</td>\n",
       "      <td>Pave</td>\n",
       "      <td>NaN</td>\n",
       "      <td>IR1</td>\n",
       "      <td>Lvl</td>\n",
       "      <td>AllPub</td>\n",
       "      <td>...</td>\n",
       "      <td>0</td>\n",
       "      <td>0</td>\n",
       "      <td>NaN</td>\n",
       "      <td>NaN</td>\n",
       "      <td>Gar2</td>\n",
       "      <td>12500</td>\n",
       "      <td>6</td>\n",
       "      <td>2010</td>\n",
       "      <td>WD</td>\n",
       "      <td>Normal</td>\n",
       "    </tr>\n",
       "    <tr>\n",
       "      <th>2</th>\n",
       "      <td>1463</td>\n",
       "      <td>60</td>\n",
       "      <td>RL</td>\n",
       "      <td>74.0</td>\n",
       "      <td>13830</td>\n",
       "      <td>Pave</td>\n",
       "      <td>NaN</td>\n",
       "      <td>IR1</td>\n",
       "      <td>Lvl</td>\n",
       "      <td>AllPub</td>\n",
       "      <td>...</td>\n",
       "      <td>0</td>\n",
       "      <td>0</td>\n",
       "      <td>NaN</td>\n",
       "      <td>MnPrv</td>\n",
       "      <td>NaN</td>\n",
       "      <td>0</td>\n",
       "      <td>3</td>\n",
       "      <td>2010</td>\n",
       "      <td>WD</td>\n",
       "      <td>Normal</td>\n",
       "    </tr>\n",
       "    <tr>\n",
       "      <th>3</th>\n",
       "      <td>1464</td>\n",
       "      <td>60</td>\n",
       "      <td>RL</td>\n",
       "      <td>78.0</td>\n",
       "      <td>9978</td>\n",
       "      <td>Pave</td>\n",
       "      <td>NaN</td>\n",
       "      <td>IR1</td>\n",
       "      <td>Lvl</td>\n",
       "      <td>AllPub</td>\n",
       "      <td>...</td>\n",
       "      <td>0</td>\n",
       "      <td>0</td>\n",
       "      <td>NaN</td>\n",
       "      <td>NaN</td>\n",
       "      <td>NaN</td>\n",
       "      <td>0</td>\n",
       "      <td>6</td>\n",
       "      <td>2010</td>\n",
       "      <td>WD</td>\n",
       "      <td>Normal</td>\n",
       "    </tr>\n",
       "    <tr>\n",
       "      <th>4</th>\n",
       "      <td>1465</td>\n",
       "      <td>120</td>\n",
       "      <td>RL</td>\n",
       "      <td>43.0</td>\n",
       "      <td>5005</td>\n",
       "      <td>Pave</td>\n",
       "      <td>NaN</td>\n",
       "      <td>IR1</td>\n",
       "      <td>HLS</td>\n",
       "      <td>AllPub</td>\n",
       "      <td>...</td>\n",
       "      <td>144</td>\n",
       "      <td>0</td>\n",
       "      <td>NaN</td>\n",
       "      <td>NaN</td>\n",
       "      <td>NaN</td>\n",
       "      <td>0</td>\n",
       "      <td>1</td>\n",
       "      <td>2010</td>\n",
       "      <td>WD</td>\n",
       "      <td>Normal</td>\n",
       "    </tr>\n",
       "  </tbody>\n",
       "</table>\n",
       "<p>5 rows × 80 columns</p>\n",
       "</div>"
      ],
      "text/plain": [
       "     Id  MSSubClass MSZoning  LotFrontage  LotArea Street Alley LotShape  \\\n",
       "0  1461          20       RH         80.0    11622   Pave   NaN      Reg   \n",
       "1  1462          20       RL         81.0    14267   Pave   NaN      IR1   \n",
       "2  1463          60       RL         74.0    13830   Pave   NaN      IR1   \n",
       "3  1464          60       RL         78.0     9978   Pave   NaN      IR1   \n",
       "4  1465         120       RL         43.0     5005   Pave   NaN      IR1   \n",
       "\n",
       "  LandContour Utilities      ...       ScreenPorch PoolArea PoolQC  Fence  \\\n",
       "0         Lvl    AllPub      ...               120        0    NaN  MnPrv   \n",
       "1         Lvl    AllPub      ...                 0        0    NaN    NaN   \n",
       "2         Lvl    AllPub      ...                 0        0    NaN  MnPrv   \n",
       "3         Lvl    AllPub      ...                 0        0    NaN    NaN   \n",
       "4         HLS    AllPub      ...               144        0    NaN    NaN   \n",
       "\n",
       "  MiscFeature MiscVal MoSold  YrSold  SaleType  SaleCondition  \n",
       "0         NaN       0      6    2010        WD         Normal  \n",
       "1        Gar2   12500      6    2010        WD         Normal  \n",
       "2         NaN       0      3    2010        WD         Normal  \n",
       "3         NaN       0      6    2010        WD         Normal  \n",
       "4         NaN       0      1    2010        WD         Normal  \n",
       "\n",
       "[5 rows x 80 columns]"
      ]
     },
     "execution_count": 2,
     "metadata": {},
     "output_type": "execute_result"
    }
   ],
   "source": [
    "file = 'test.csv'\n",
    "df = pd.read_csv(file)\n",
    "df.head()"
   ]
  },
  {
   "cell_type": "code",
   "execution_count": 3,
   "metadata": {},
   "outputs": [
    {
     "name": "stdout",
     "output_type": "stream",
     "text": [
      "<class 'pandas.core.frame.DataFrame'>\n",
      "RangeIndex: 1459 entries, 0 to 1458\n",
      "Data columns (total 80 columns):\n",
      "Id               1459 non-null int64\n",
      "MSSubClass       1459 non-null int64\n",
      "MSZoning         1455 non-null object\n",
      "LotFrontage      1232 non-null float64\n",
      "LotArea          1459 non-null int64\n",
      "Street           1459 non-null object\n",
      "Alley            107 non-null object\n",
      "LotShape         1459 non-null object\n",
      "LandContour      1459 non-null object\n",
      "Utilities        1457 non-null object\n",
      "LotConfig        1459 non-null object\n",
      "LandSlope        1459 non-null object\n",
      "Neighborhood     1459 non-null object\n",
      "Condition1       1459 non-null object\n",
      "Condition2       1459 non-null object\n",
      "BldgType         1459 non-null object\n",
      "HouseStyle       1459 non-null object\n",
      "OverallQual      1459 non-null int64\n",
      "OverallCond      1459 non-null int64\n",
      "YearBuilt        1459 non-null int64\n",
      "YearRemodAdd     1459 non-null int64\n",
      "RoofStyle        1459 non-null object\n",
      "RoofMatl         1459 non-null object\n",
      "Exterior1st      1458 non-null object\n",
      "Exterior2nd      1458 non-null object\n",
      "MasVnrType       1443 non-null object\n",
      "MasVnrArea       1444 non-null float64\n",
      "ExterQual        1459 non-null object\n",
      "ExterCond        1459 non-null object\n",
      "Foundation       1459 non-null object\n",
      "BsmtQual         1415 non-null object\n",
      "BsmtCond         1414 non-null object\n",
      "BsmtExposure     1415 non-null object\n",
      "BsmtFinType1     1417 non-null object\n",
      "BsmtFinSF1       1458 non-null float64\n",
      "BsmtFinType2     1417 non-null object\n",
      "BsmtFinSF2       1458 non-null float64\n",
      "BsmtUnfSF        1458 non-null float64\n",
      "TotalBsmtSF      1458 non-null float64\n",
      "Heating          1459 non-null object\n",
      "HeatingQC        1459 non-null object\n",
      "CentralAir       1459 non-null object\n",
      "Electrical       1459 non-null object\n",
      "1stFlrSF         1459 non-null int64\n",
      "2ndFlrSF         1459 non-null int64\n",
      "LowQualFinSF     1459 non-null int64\n",
      "GrLivArea        1459 non-null int64\n",
      "BsmtFullBath     1457 non-null float64\n",
      "BsmtHalfBath     1457 non-null float64\n",
      "FullBath         1459 non-null int64\n",
      "HalfBath         1459 non-null int64\n",
      "BedroomAbvGr     1459 non-null int64\n",
      "KitchenAbvGr     1459 non-null int64\n",
      "KitchenQual      1458 non-null object\n",
      "TotRmsAbvGrd     1459 non-null int64\n",
      "Functional       1457 non-null object\n",
      "Fireplaces       1459 non-null int64\n",
      "FireplaceQu      729 non-null object\n",
      "GarageType       1383 non-null object\n",
      "GarageYrBlt      1381 non-null float64\n",
      "GarageFinish     1381 non-null object\n",
      "GarageCars       1458 non-null float64\n",
      "GarageArea       1458 non-null float64\n",
      "GarageQual       1381 non-null object\n",
      "GarageCond       1381 non-null object\n",
      "PavedDrive       1459 non-null object\n",
      "WoodDeckSF       1459 non-null int64\n",
      "OpenPorchSF      1459 non-null int64\n",
      "EnclosedPorch    1459 non-null int64\n",
      "3SsnPorch        1459 non-null int64\n",
      "ScreenPorch      1459 non-null int64\n",
      "PoolArea         1459 non-null int64\n",
      "PoolQC           3 non-null object\n",
      "Fence            290 non-null object\n",
      "MiscFeature      51 non-null object\n",
      "MiscVal          1459 non-null int64\n",
      "MoSold           1459 non-null int64\n",
      "YrSold           1459 non-null int64\n",
      "SaleType         1458 non-null object\n",
      "SaleCondition    1459 non-null object\n",
      "dtypes: float64(11), int64(26), object(43)\n",
      "memory usage: 912.0+ KB\n"
     ]
    }
   ],
   "source": [
    "df.info()"
   ]
  },
  {
   "cell_type": "code",
   "execution_count": 4,
   "metadata": {},
   "outputs": [],
   "source": [
    "df_copy = df.copy()"
   ]
  },
  {
   "cell_type": "markdown",
   "metadata": {},
   "source": [
    "## Diccionario `dict_MSZoning`"
   ]
  },
  {
   "cell_type": "code",
   "execution_count": 5,
   "metadata": {},
   "outputs": [],
   "source": [
    "column = 'MSZoning'"
   ]
  },
  {
   "cell_type": "code",
   "execution_count": 6,
   "metadata": {},
   "outputs": [
    {
     "data": {
      "text/html": [
       "<div>\n",
       "<style scoped>\n",
       "    .dataframe tbody tr th:only-of-type {\n",
       "        vertical-align: middle;\n",
       "    }\n",
       "\n",
       "    .dataframe tbody tr th {\n",
       "        vertical-align: top;\n",
       "    }\n",
       "\n",
       "    .dataframe thead th {\n",
       "        text-align: right;\n",
       "    }\n",
       "</style>\n",
       "<table border=\"1\" class=\"dataframe\">\n",
       "  <thead>\n",
       "    <tr style=\"text-align: right;\">\n",
       "      <th></th>\n",
       "      <th>0</th>\n",
       "    </tr>\n",
       "  </thead>\n",
       "  <tbody>\n",
       "    <tr>\n",
       "      <th>0</th>\n",
       "      <td>RH</td>\n",
       "    </tr>\n",
       "    <tr>\n",
       "      <th>1</th>\n",
       "      <td>RL</td>\n",
       "    </tr>\n",
       "    <tr>\n",
       "      <th>2</th>\n",
       "      <td>RM</td>\n",
       "    </tr>\n",
       "    <tr>\n",
       "      <th>3</th>\n",
       "      <td>FV</td>\n",
       "    </tr>\n",
       "    <tr>\n",
       "      <th>4</th>\n",
       "      <td>C (all)</td>\n",
       "    </tr>\n",
       "  </tbody>\n",
       "</table>\n",
       "</div>"
      ],
      "text/plain": [
       "         0\n",
       "0       RH\n",
       "1       RL\n",
       "2       RM\n",
       "3       FV\n",
       "4  C (all)"
      ]
     },
     "execution_count": 6,
     "metadata": {},
     "output_type": "execute_result"
    }
   ],
   "source": [
    "grouped = pd.DataFrame(df_copy[column].dropna().unique())\n",
    "grouped.head()"
   ]
  },
  {
   "cell_type": "code",
   "execution_count": 7,
   "metadata": {},
   "outputs": [
    {
     "data": {
      "text/plain": [
       "Index(['index', 0], dtype='object')"
      ]
     },
     "execution_count": 7,
     "metadata": {},
     "output_type": "execute_result"
    }
   ],
   "source": [
    "grouped.reset_index(inplace=True)\n",
    "grouped.columns"
   ]
  },
  {
   "cell_type": "code",
   "execution_count": 8,
   "metadata": {},
   "outputs": [
    {
     "data": {
      "text/plain": [
       "Index(['index', 'Key'], dtype='object')"
      ]
     },
     "execution_count": 8,
     "metadata": {},
     "output_type": "execute_result"
    }
   ],
   "source": [
    "grouped.rename(columns={0: 'Key'}, inplace=True)\n",
    "grouped.columns"
   ]
  },
  {
   "cell_type": "code",
   "execution_count": 9,
   "metadata": {},
   "outputs": [
    {
     "data": {
      "text/plain": [
       "(5, 2)"
      ]
     },
     "execution_count": 9,
     "metadata": {},
     "output_type": "execute_result"
    }
   ],
   "source": [
    "grouped.shape"
   ]
  },
  {
   "cell_type": "code",
   "execution_count": 10,
   "metadata": {},
   "outputs": [
    {
     "data": {
      "text/html": [
       "<div>\n",
       "<style scoped>\n",
       "    .dataframe tbody tr th:only-of-type {\n",
       "        vertical-align: middle;\n",
       "    }\n",
       "\n",
       "    .dataframe tbody tr th {\n",
       "        vertical-align: top;\n",
       "    }\n",
       "\n",
       "    .dataframe thead th {\n",
       "        text-align: right;\n",
       "    }\n",
       "</style>\n",
       "<table border=\"1\" class=\"dataframe\">\n",
       "  <thead>\n",
       "    <tr style=\"text-align: right;\">\n",
       "      <th></th>\n",
       "      <th>index</th>\n",
       "      <th>Key</th>\n",
       "    </tr>\n",
       "  </thead>\n",
       "  <tbody>\n",
       "    <tr>\n",
       "      <th>0</th>\n",
       "      <td>1</td>\n",
       "      <td>RH</td>\n",
       "    </tr>\n",
       "    <tr>\n",
       "      <th>1</th>\n",
       "      <td>2</td>\n",
       "      <td>RL</td>\n",
       "    </tr>\n",
       "    <tr>\n",
       "      <th>2</th>\n",
       "      <td>3</td>\n",
       "      <td>RM</td>\n",
       "    </tr>\n",
       "    <tr>\n",
       "      <th>3</th>\n",
       "      <td>4</td>\n",
       "      <td>FV</td>\n",
       "    </tr>\n",
       "    <tr>\n",
       "      <th>4</th>\n",
       "      <td>5</td>\n",
       "      <td>C (all)</td>\n",
       "    </tr>\n",
       "  </tbody>\n",
       "</table>\n",
       "</div>"
      ],
      "text/plain": [
       "   index      Key\n",
       "0      1       RH\n",
       "1      2       RL\n",
       "2      3       RM\n",
       "3      4       FV\n",
       "4      5  C (all)"
      ]
     },
     "execution_count": 10,
     "metadata": {},
     "output_type": "execute_result"
    }
   ],
   "source": [
    "grouped['index'] += 1\n",
    "grouped"
   ]
  },
  {
   "cell_type": "code",
   "execution_count": 11,
   "metadata": {},
   "outputs": [
    {
     "data": {
      "text/plain": [
       "dict_keys(['index', 'columns', 'data'])"
      ]
     },
     "execution_count": 11,
     "metadata": {},
     "output_type": "execute_result"
    }
   ],
   "source": [
    "dict_ = grouped.to_dict(orient='split')\n",
    "dict_.keys()"
   ]
  },
  {
   "cell_type": "code",
   "execution_count": 12,
   "metadata": {},
   "outputs": [
    {
     "data": {
      "text/plain": [
       "{'data': [[1, 'RH'], [2, 'RL'], [3, 'RM'], [4, 'FV'], [5, 'C (all)']]}"
      ]
     },
     "execution_count": 12,
     "metadata": {},
     "output_type": "execute_result"
    }
   ],
   "source": [
    "dict_.pop('index')\n",
    "dict_.pop('columns')\n",
    "dict_"
   ]
  },
  {
   "cell_type": "code",
   "execution_count": 13,
   "metadata": {},
   "outputs": [
    {
     "data": {
      "text/plain": [
       "{'RH': 1, 'RL': 2, 'RM': 3, 'FV': 4, 'C (all)': 5}"
      ]
     },
     "execution_count": 13,
     "metadata": {},
     "output_type": "execute_result"
    }
   ],
   "source": [
    "dict__ = {}\n",
    "\n",
    "for line in dict_['data']:\n",
    "    #print(line[1], ' : ', line[0])\n",
    "    dict__[line[1]] = line[0]\n",
    "\n",
    "dict__"
   ]
  },
  {
   "cell_type": "code",
   "execution_count": 14,
   "metadata": {},
   "outputs": [
    {
     "ename": "ValueError",
     "evalue": "Cannot convert non-finite values (NA or inf) to integer",
     "output_type": "error",
     "traceback": [
      "\u001b[0;31m---------------------------------------------------------------------------\u001b[0m",
      "\u001b[0;31mValueError\u001b[0m                                Traceback (most recent call last)",
      "\u001b[0;32m<ipython-input-14-8e04dcc514ee>\u001b[0m in \u001b[0;36m<module>\u001b[0;34m()\u001b[0m\n\u001b[1;32m      1\u001b[0m \u001b[0mdf_copy\u001b[0m\u001b[0;34m[\u001b[0m\u001b[0mcolumn\u001b[0m\u001b[0;34m]\u001b[0m \u001b[0;34m=\u001b[0m \u001b[0mdf_copy\u001b[0m\u001b[0;34m[\u001b[0m\u001b[0mcolumn\u001b[0m\u001b[0;34m]\u001b[0m\u001b[0;34m.\u001b[0m\u001b[0mreplace\u001b[0m\u001b[0;34m(\u001b[0m\u001b[0mdict__\u001b[0m\u001b[0;34m)\u001b[0m\u001b[0;34m\u001b[0m\u001b[0m\n\u001b[0;32m----> 2\u001b[0;31m \u001b[0mdf_copy\u001b[0m\u001b[0;34m[\u001b[0m\u001b[0mcolumn\u001b[0m\u001b[0;34m]\u001b[0m \u001b[0;34m=\u001b[0m \u001b[0mdf_copy\u001b[0m\u001b[0;34m[\u001b[0m\u001b[0mcolumn\u001b[0m\u001b[0;34m]\u001b[0m\u001b[0;34m.\u001b[0m\u001b[0mastype\u001b[0m\u001b[0;34m(\u001b[0m\u001b[0;34m'int64'\u001b[0m\u001b[0;34m)\u001b[0m\u001b[0;34m\u001b[0m\u001b[0m\n\u001b[0m\u001b[1;32m      3\u001b[0m \u001b[0mdf_copy\u001b[0m\u001b[0;34m[\u001b[0m\u001b[0mcolumn\u001b[0m\u001b[0;34m]\u001b[0m\u001b[0;34m.\u001b[0m\u001b[0munique\u001b[0m\u001b[0;34m(\u001b[0m\u001b[0;34m)\u001b[0m\u001b[0;34m\u001b[0m\u001b[0m\n",
      "\u001b[0;32m~/.pyenv/versions/anaconda3-5.1.0/lib/python3.6/site-packages/pandas/util/_decorators.py\u001b[0m in \u001b[0;36mwrapper\u001b[0;34m(*args, **kwargs)\u001b[0m\n\u001b[1;32m    176\u001b[0m                 \u001b[0;32melse\u001b[0m\u001b[0;34m:\u001b[0m\u001b[0;34m\u001b[0m\u001b[0m\n\u001b[1;32m    177\u001b[0m                     \u001b[0mkwargs\u001b[0m\u001b[0;34m[\u001b[0m\u001b[0mnew_arg_name\u001b[0m\u001b[0;34m]\u001b[0m \u001b[0;34m=\u001b[0m \u001b[0mnew_arg_value\u001b[0m\u001b[0;34m\u001b[0m\u001b[0m\n\u001b[0;32m--> 178\u001b[0;31m             \u001b[0;32mreturn\u001b[0m \u001b[0mfunc\u001b[0m\u001b[0;34m(\u001b[0m\u001b[0;34m*\u001b[0m\u001b[0margs\u001b[0m\u001b[0;34m,\u001b[0m \u001b[0;34m**\u001b[0m\u001b[0mkwargs\u001b[0m\u001b[0;34m)\u001b[0m\u001b[0;34m\u001b[0m\u001b[0m\n\u001b[0m\u001b[1;32m    179\u001b[0m         \u001b[0;32mreturn\u001b[0m \u001b[0mwrapper\u001b[0m\u001b[0;34m\u001b[0m\u001b[0m\n\u001b[1;32m    180\u001b[0m     \u001b[0;32mreturn\u001b[0m \u001b[0m_deprecate_kwarg\u001b[0m\u001b[0;34m\u001b[0m\u001b[0m\n",
      "\u001b[0;32m~/.pyenv/versions/anaconda3-5.1.0/lib/python3.6/site-packages/pandas/core/generic.py\u001b[0m in \u001b[0;36mastype\u001b[0;34m(self, dtype, copy, errors, **kwargs)\u001b[0m\n\u001b[1;32m   4999\u001b[0m             \u001b[0;31m# else, only a single dtype is given\u001b[0m\u001b[0;34m\u001b[0m\u001b[0;34m\u001b[0m\u001b[0m\n\u001b[1;32m   5000\u001b[0m             new_data = self._data.astype(dtype=dtype, copy=copy, errors=errors,\n\u001b[0;32m-> 5001\u001b[0;31m                                          **kwargs)\n\u001b[0m\u001b[1;32m   5002\u001b[0m             \u001b[0;32mreturn\u001b[0m \u001b[0mself\u001b[0m\u001b[0;34m.\u001b[0m\u001b[0m_constructor\u001b[0m\u001b[0;34m(\u001b[0m\u001b[0mnew_data\u001b[0m\u001b[0;34m)\u001b[0m\u001b[0;34m.\u001b[0m\u001b[0m__finalize__\u001b[0m\u001b[0;34m(\u001b[0m\u001b[0mself\u001b[0m\u001b[0;34m)\u001b[0m\u001b[0;34m\u001b[0m\u001b[0m\n\u001b[1;32m   5003\u001b[0m \u001b[0;34m\u001b[0m\u001b[0m\n",
      "\u001b[0;32m~/.pyenv/versions/anaconda3-5.1.0/lib/python3.6/site-packages/pandas/core/internals.py\u001b[0m in \u001b[0;36mastype\u001b[0;34m(self, dtype, **kwargs)\u001b[0m\n\u001b[1;32m   3712\u001b[0m \u001b[0;34m\u001b[0m\u001b[0m\n\u001b[1;32m   3713\u001b[0m     \u001b[0;32mdef\u001b[0m \u001b[0mastype\u001b[0m\u001b[0;34m(\u001b[0m\u001b[0mself\u001b[0m\u001b[0;34m,\u001b[0m \u001b[0mdtype\u001b[0m\u001b[0;34m,\u001b[0m \u001b[0;34m**\u001b[0m\u001b[0mkwargs\u001b[0m\u001b[0;34m)\u001b[0m\u001b[0;34m:\u001b[0m\u001b[0;34m\u001b[0m\u001b[0m\n\u001b[0;32m-> 3714\u001b[0;31m         \u001b[0;32mreturn\u001b[0m \u001b[0mself\u001b[0m\u001b[0;34m.\u001b[0m\u001b[0mapply\u001b[0m\u001b[0;34m(\u001b[0m\u001b[0;34m'astype'\u001b[0m\u001b[0;34m,\u001b[0m \u001b[0mdtype\u001b[0m\u001b[0;34m=\u001b[0m\u001b[0mdtype\u001b[0m\u001b[0;34m,\u001b[0m \u001b[0;34m**\u001b[0m\u001b[0mkwargs\u001b[0m\u001b[0;34m)\u001b[0m\u001b[0;34m\u001b[0m\u001b[0m\n\u001b[0m\u001b[1;32m   3715\u001b[0m \u001b[0;34m\u001b[0m\u001b[0m\n\u001b[1;32m   3716\u001b[0m     \u001b[0;32mdef\u001b[0m \u001b[0mconvert\u001b[0m\u001b[0;34m(\u001b[0m\u001b[0mself\u001b[0m\u001b[0;34m,\u001b[0m \u001b[0;34m**\u001b[0m\u001b[0mkwargs\u001b[0m\u001b[0;34m)\u001b[0m\u001b[0;34m:\u001b[0m\u001b[0;34m\u001b[0m\u001b[0m\n",
      "\u001b[0;32m~/.pyenv/versions/anaconda3-5.1.0/lib/python3.6/site-packages/pandas/core/internals.py\u001b[0m in \u001b[0;36mapply\u001b[0;34m(self, f, axes, filter, do_integrity_check, consolidate, **kwargs)\u001b[0m\n\u001b[1;32m   3579\u001b[0m \u001b[0;34m\u001b[0m\u001b[0m\n\u001b[1;32m   3580\u001b[0m             \u001b[0mkwargs\u001b[0m\u001b[0;34m[\u001b[0m\u001b[0;34m'mgr'\u001b[0m\u001b[0;34m]\u001b[0m \u001b[0;34m=\u001b[0m \u001b[0mself\u001b[0m\u001b[0;34m\u001b[0m\u001b[0m\n\u001b[0;32m-> 3581\u001b[0;31m             \u001b[0mapplied\u001b[0m \u001b[0;34m=\u001b[0m \u001b[0mgetattr\u001b[0m\u001b[0;34m(\u001b[0m\u001b[0mb\u001b[0m\u001b[0;34m,\u001b[0m \u001b[0mf\u001b[0m\u001b[0;34m)\u001b[0m\u001b[0;34m(\u001b[0m\u001b[0;34m**\u001b[0m\u001b[0mkwargs\u001b[0m\u001b[0;34m)\u001b[0m\u001b[0;34m\u001b[0m\u001b[0m\n\u001b[0m\u001b[1;32m   3582\u001b[0m             \u001b[0mresult_blocks\u001b[0m \u001b[0;34m=\u001b[0m \u001b[0m_extend_blocks\u001b[0m\u001b[0;34m(\u001b[0m\u001b[0mapplied\u001b[0m\u001b[0;34m,\u001b[0m \u001b[0mresult_blocks\u001b[0m\u001b[0;34m)\u001b[0m\u001b[0;34m\u001b[0m\u001b[0m\n\u001b[1;32m   3583\u001b[0m \u001b[0;34m\u001b[0m\u001b[0m\n",
      "\u001b[0;32m~/.pyenv/versions/anaconda3-5.1.0/lib/python3.6/site-packages/pandas/core/internals.py\u001b[0m in \u001b[0;36mastype\u001b[0;34m(self, dtype, copy, errors, values, **kwargs)\u001b[0m\n\u001b[1;32m    573\u001b[0m     \u001b[0;32mdef\u001b[0m \u001b[0mastype\u001b[0m\u001b[0;34m(\u001b[0m\u001b[0mself\u001b[0m\u001b[0;34m,\u001b[0m \u001b[0mdtype\u001b[0m\u001b[0;34m,\u001b[0m \u001b[0mcopy\u001b[0m\u001b[0;34m=\u001b[0m\u001b[0;32mFalse\u001b[0m\u001b[0;34m,\u001b[0m \u001b[0merrors\u001b[0m\u001b[0;34m=\u001b[0m\u001b[0;34m'raise'\u001b[0m\u001b[0;34m,\u001b[0m \u001b[0mvalues\u001b[0m\u001b[0;34m=\u001b[0m\u001b[0;32mNone\u001b[0m\u001b[0;34m,\u001b[0m \u001b[0;34m**\u001b[0m\u001b[0mkwargs\u001b[0m\u001b[0;34m)\u001b[0m\u001b[0;34m:\u001b[0m\u001b[0;34m\u001b[0m\u001b[0m\n\u001b[1;32m    574\u001b[0m         return self._astype(dtype, copy=copy, errors=errors, values=values,\n\u001b[0;32m--> 575\u001b[0;31m                             **kwargs)\n\u001b[0m\u001b[1;32m    576\u001b[0m \u001b[0;34m\u001b[0m\u001b[0m\n\u001b[1;32m    577\u001b[0m     def _astype(self, dtype, copy=False, errors='raise', values=None,\n",
      "\u001b[0;32m~/.pyenv/versions/anaconda3-5.1.0/lib/python3.6/site-packages/pandas/core/internals.py\u001b[0m in \u001b[0;36m_astype\u001b[0;34m(self, dtype, copy, errors, values, klass, mgr, **kwargs)\u001b[0m\n\u001b[1;32m    662\u001b[0m \u001b[0;34m\u001b[0m\u001b[0m\n\u001b[1;32m    663\u001b[0m                 \u001b[0;31m# _astype_nansafe works fine with 1-d only\u001b[0m\u001b[0;34m\u001b[0m\u001b[0;34m\u001b[0m\u001b[0m\n\u001b[0;32m--> 664\u001b[0;31m                 \u001b[0mvalues\u001b[0m \u001b[0;34m=\u001b[0m \u001b[0mastype_nansafe\u001b[0m\u001b[0;34m(\u001b[0m\u001b[0mvalues\u001b[0m\u001b[0;34m.\u001b[0m\u001b[0mravel\u001b[0m\u001b[0;34m(\u001b[0m\u001b[0;34m)\u001b[0m\u001b[0;34m,\u001b[0m \u001b[0mdtype\u001b[0m\u001b[0;34m,\u001b[0m \u001b[0mcopy\u001b[0m\u001b[0;34m=\u001b[0m\u001b[0;32mTrue\u001b[0m\u001b[0;34m)\u001b[0m\u001b[0;34m\u001b[0m\u001b[0m\n\u001b[0m\u001b[1;32m    665\u001b[0m                 \u001b[0mvalues\u001b[0m \u001b[0;34m=\u001b[0m \u001b[0mvalues\u001b[0m\u001b[0;34m.\u001b[0m\u001b[0mreshape\u001b[0m\u001b[0;34m(\u001b[0m\u001b[0mself\u001b[0m\u001b[0;34m.\u001b[0m\u001b[0mshape\u001b[0m\u001b[0;34m)\u001b[0m\u001b[0;34m\u001b[0m\u001b[0m\n\u001b[1;32m    666\u001b[0m \u001b[0;34m\u001b[0m\u001b[0m\n",
      "\u001b[0;32m~/.pyenv/versions/anaconda3-5.1.0/lib/python3.6/site-packages/pandas/core/dtypes/cast.py\u001b[0m in \u001b[0;36mastype_nansafe\u001b[0;34m(arr, dtype, copy)\u001b[0m\n\u001b[1;32m    700\u001b[0m \u001b[0;34m\u001b[0m\u001b[0m\n\u001b[1;32m    701\u001b[0m         \u001b[0;32mif\u001b[0m \u001b[0;32mnot\u001b[0m \u001b[0mnp\u001b[0m\u001b[0;34m.\u001b[0m\u001b[0misfinite\u001b[0m\u001b[0;34m(\u001b[0m\u001b[0marr\u001b[0m\u001b[0;34m)\u001b[0m\u001b[0;34m.\u001b[0m\u001b[0mall\u001b[0m\u001b[0;34m(\u001b[0m\u001b[0;34m)\u001b[0m\u001b[0;34m:\u001b[0m\u001b[0;34m\u001b[0m\u001b[0m\n\u001b[0;32m--> 702\u001b[0;31m             raise ValueError('Cannot convert non-finite values (NA or inf) to '\n\u001b[0m\u001b[1;32m    703\u001b[0m                              'integer')\n\u001b[1;32m    704\u001b[0m \u001b[0;34m\u001b[0m\u001b[0m\n",
      "\u001b[0;31mValueError\u001b[0m: Cannot convert non-finite values (NA or inf) to integer"
     ]
    }
   ],
   "source": [
    "df_copy[column] = df_copy[column].replace(dict__)\n",
    "df_copy[column] = df_copy[column].astype('int64')\n",
    "df_copy[column].unique()"
   ]
  },
  {
   "cell_type": "markdown",
   "metadata": {},
   "source": [
    "## Diccionario `Street`"
   ]
  },
  {
   "cell_type": "code",
   "execution_count": null,
   "metadata": {},
   "outputs": [],
   "source": [
    "column = 'Street'"
   ]
  },
  {
   "cell_type": "code",
   "execution_count": null,
   "metadata": {},
   "outputs": [],
   "source": [
    "grouped = pd.DataFrame(df_copy[column].dropna().unique())\n",
    "grouped.head()"
   ]
  },
  {
   "cell_type": "code",
   "execution_count": null,
   "metadata": {},
   "outputs": [],
   "source": [
    "grouped.reset_index(inplace=True)\n",
    "grouped.columns"
   ]
  },
  {
   "cell_type": "code",
   "execution_count": null,
   "metadata": {},
   "outputs": [],
   "source": [
    "grouped.rename(columns={0: 'Key'}, inplace=True)\n",
    "grouped.columns"
   ]
  },
  {
   "cell_type": "code",
   "execution_count": null,
   "metadata": {},
   "outputs": [],
   "source": [
    "grouped.shape"
   ]
  },
  {
   "cell_type": "code",
   "execution_count": null,
   "metadata": {},
   "outputs": [],
   "source": [
    "grouped['index'] += 1\n",
    "grouped"
   ]
  },
  {
   "cell_type": "code",
   "execution_count": null,
   "metadata": {},
   "outputs": [],
   "source": [
    "dict_ = grouped.to_dict(orient='split')\n",
    "dict_.keys()"
   ]
  },
  {
   "cell_type": "code",
   "execution_count": null,
   "metadata": {},
   "outputs": [],
   "source": [
    "dict_.pop('index')\n",
    "dict_.pop('columns')\n",
    "dict_"
   ]
  },
  {
   "cell_type": "code",
   "execution_count": null,
   "metadata": {},
   "outputs": [],
   "source": [
    "dict__ = {}\n",
    "\n",
    "for line in dict_['data']:\n",
    "    #print(line[1], ' : ', line[0])\n",
    "    dict__[line[1]] = line[0]\n",
    "\n",
    "dict__"
   ]
  },
  {
   "cell_type": "code",
   "execution_count": null,
   "metadata": {},
   "outputs": [],
   "source": [
    "df_copy[column] = df_copy[column].replace(dict__)\n",
    "df_copy[column] = df_copy[column].astype('int64')\n",
    "df_copy[column].unique()"
   ]
  },
  {
   "cell_type": "markdown",
   "metadata": {},
   "source": [
    "## Diccionario `LotShape`"
   ]
  },
  {
   "cell_type": "code",
   "execution_count": null,
   "metadata": {},
   "outputs": [],
   "source": [
    "column = 'LotShape'"
   ]
  },
  {
   "cell_type": "code",
   "execution_count": null,
   "metadata": {},
   "outputs": [],
   "source": [
    "grouped = pd.DataFrame(df_copy[column].dropna().unique())\n",
    "grouped.head()"
   ]
  },
  {
   "cell_type": "code",
   "execution_count": null,
   "metadata": {},
   "outputs": [],
   "source": [
    "grouped.reset_index(inplace=True)\n",
    "grouped.columns"
   ]
  },
  {
   "cell_type": "code",
   "execution_count": null,
   "metadata": {},
   "outputs": [],
   "source": [
    "grouped.rename(columns={0: 'Key'}, inplace=True)\n",
    "grouped.columns"
   ]
  },
  {
   "cell_type": "code",
   "execution_count": null,
   "metadata": {},
   "outputs": [],
   "source": [
    "grouped.shape"
   ]
  },
  {
   "cell_type": "code",
   "execution_count": null,
   "metadata": {},
   "outputs": [],
   "source": [
    "grouped['index'] += 1\n",
    "grouped"
   ]
  },
  {
   "cell_type": "code",
   "execution_count": null,
   "metadata": {},
   "outputs": [],
   "source": [
    "dict_ = grouped.to_dict(orient='split')\n",
    "dict_.keys()"
   ]
  },
  {
   "cell_type": "code",
   "execution_count": null,
   "metadata": {},
   "outputs": [],
   "source": [
    "dict_.pop('index')\n",
    "dict_.pop('columns')\n",
    "dict_"
   ]
  },
  {
   "cell_type": "code",
   "execution_count": null,
   "metadata": {},
   "outputs": [],
   "source": [
    "dict__ = {}\n",
    "\n",
    "for line in dict_['data']:\n",
    "    #print(line[1], ' : ', line[0])\n",
    "    dict__[line[1]] = line[0]\n",
    "\n",
    "dict__"
   ]
  },
  {
   "cell_type": "code",
   "execution_count": null,
   "metadata": {},
   "outputs": [],
   "source": [
    "df_copy[column] = df_copy[column].replace(dict__)\n",
    "df_copy[column] = df_copy[column].astype('int64')\n",
    "df_copy[column].unique()"
   ]
  },
  {
   "cell_type": "markdown",
   "metadata": {},
   "source": [
    "## Diccionario `LandContour`"
   ]
  },
  {
   "cell_type": "code",
   "execution_count": null,
   "metadata": {},
   "outputs": [],
   "source": [
    "column = 'LandContour'"
   ]
  },
  {
   "cell_type": "code",
   "execution_count": null,
   "metadata": {},
   "outputs": [],
   "source": [
    "grouped = pd.DataFrame(df_copy[column].dropna().unique())\n",
    "grouped.head()"
   ]
  },
  {
   "cell_type": "code",
   "execution_count": null,
   "metadata": {},
   "outputs": [],
   "source": [
    "grouped.reset_index(inplace=True)\n",
    "grouped.columns"
   ]
  },
  {
   "cell_type": "code",
   "execution_count": null,
   "metadata": {},
   "outputs": [],
   "source": [
    "grouped.rename(columns={0: 'Key'}, inplace=True)\n",
    "grouped.columns"
   ]
  },
  {
   "cell_type": "code",
   "execution_count": null,
   "metadata": {},
   "outputs": [],
   "source": [
    "grouped.shape"
   ]
  },
  {
   "cell_type": "code",
   "execution_count": null,
   "metadata": {},
   "outputs": [],
   "source": [
    "grouped['index'] += 1\n",
    "grouped"
   ]
  },
  {
   "cell_type": "code",
   "execution_count": null,
   "metadata": {},
   "outputs": [],
   "source": [
    "dict_ = grouped.to_dict(orient='split')\n",
    "dict_.keys()"
   ]
  },
  {
   "cell_type": "code",
   "execution_count": null,
   "metadata": {},
   "outputs": [],
   "source": [
    "dict_.pop('index')\n",
    "dict_.pop('columns')\n",
    "dict_"
   ]
  },
  {
   "cell_type": "code",
   "execution_count": null,
   "metadata": {},
   "outputs": [],
   "source": [
    "dict__ = {}\n",
    "\n",
    "for line in dict_['data']:\n",
    "    #print(line[1], ' : ', line[0])\n",
    "    dict__[line[1]] = line[0]\n",
    "\n",
    "dict__"
   ]
  },
  {
   "cell_type": "code",
   "execution_count": null,
   "metadata": {},
   "outputs": [],
   "source": [
    "df_copy[column] = df_copy[column].replace(dict__)\n",
    "df_copy[column] = df_copy[column].astype('int64')\n",
    "df_copy[column].unique()"
   ]
  },
  {
   "cell_type": "markdown",
   "metadata": {},
   "source": [
    "## Diccionario `Utilities`"
   ]
  },
  {
   "cell_type": "code",
   "execution_count": null,
   "metadata": {},
   "outputs": [],
   "source": [
    "column = 'Utilities'"
   ]
  },
  {
   "cell_type": "code",
   "execution_count": null,
   "metadata": {},
   "outputs": [],
   "source": [
    "grouped = pd.DataFrame(df_copy[column].dropna().unique())\n",
    "grouped.head()"
   ]
  },
  {
   "cell_type": "code",
   "execution_count": null,
   "metadata": {},
   "outputs": [],
   "source": [
    "grouped.reset_index(inplace=True)\n",
    "grouped.columns"
   ]
  },
  {
   "cell_type": "code",
   "execution_count": null,
   "metadata": {},
   "outputs": [],
   "source": [
    "grouped.rename(columns={0: 'Key'}, inplace=True)\n",
    "grouped.columns"
   ]
  },
  {
   "cell_type": "code",
   "execution_count": null,
   "metadata": {},
   "outputs": [],
   "source": [
    "grouped.shape"
   ]
  },
  {
   "cell_type": "code",
   "execution_count": null,
   "metadata": {},
   "outputs": [],
   "source": [
    "grouped['index'] += 1\n",
    "grouped"
   ]
  },
  {
   "cell_type": "code",
   "execution_count": null,
   "metadata": {},
   "outputs": [],
   "source": [
    "dict_ = grouped.to_dict(orient='split')\n",
    "dict_.keys()"
   ]
  },
  {
   "cell_type": "code",
   "execution_count": null,
   "metadata": {},
   "outputs": [],
   "source": [
    "dict_.pop('index')\n",
    "dict_.pop('columns')\n",
    "dict_"
   ]
  },
  {
   "cell_type": "code",
   "execution_count": null,
   "metadata": {},
   "outputs": [],
   "source": [
    "dict__ = {}\n",
    "\n",
    "for line in dict_['data']:\n",
    "    #print(line[1], ' : ', line[0])\n",
    "    dict__[line[1]] = line[0]\n",
    "\n",
    "dict__"
   ]
  },
  {
   "cell_type": "code",
   "execution_count": null,
   "metadata": {},
   "outputs": [],
   "source": [
    "df_copy[column] = df_copy[column].replace(dict__)\n",
    "df_copy[column] = df_copy[column].astype('int64')\n",
    "df_copy[column].unique()"
   ]
  },
  {
   "cell_type": "markdown",
   "metadata": {},
   "source": [
    "## Diccionario `LotConfig`"
   ]
  },
  {
   "cell_type": "code",
   "execution_count": null,
   "metadata": {},
   "outputs": [],
   "source": [
    "column = 'LotConfig'"
   ]
  },
  {
   "cell_type": "code",
   "execution_count": null,
   "metadata": {},
   "outputs": [],
   "source": [
    "grouped = pd.DataFrame(df_copy[column].dropna().unique())\n",
    "grouped.head()"
   ]
  },
  {
   "cell_type": "code",
   "execution_count": null,
   "metadata": {},
   "outputs": [],
   "source": [
    "grouped.reset_index(inplace=True)\n",
    "grouped.columns"
   ]
  },
  {
   "cell_type": "code",
   "execution_count": null,
   "metadata": {},
   "outputs": [],
   "source": [
    "grouped.rename(columns={0: 'Key'}, inplace=True)\n",
    "grouped.columns"
   ]
  },
  {
   "cell_type": "code",
   "execution_count": null,
   "metadata": {},
   "outputs": [],
   "source": [
    "grouped.shape"
   ]
  },
  {
   "cell_type": "code",
   "execution_count": null,
   "metadata": {},
   "outputs": [],
   "source": [
    "grouped['index'] += 1\n",
    "grouped"
   ]
  },
  {
   "cell_type": "code",
   "execution_count": null,
   "metadata": {},
   "outputs": [],
   "source": [
    "dict_ = grouped.to_dict(orient='split')\n",
    "dict_.keys()"
   ]
  },
  {
   "cell_type": "code",
   "execution_count": null,
   "metadata": {},
   "outputs": [],
   "source": [
    "dict_.pop('index')\n",
    "dict_.pop('columns')\n",
    "dict_"
   ]
  },
  {
   "cell_type": "code",
   "execution_count": null,
   "metadata": {},
   "outputs": [],
   "source": [
    "dict__ = {}\n",
    "\n",
    "for line in dict_['data']:\n",
    "    #print(line[1], ' : ', line[0])\n",
    "    dict__[line[1]] = line[0]\n",
    "\n",
    "dict__"
   ]
  },
  {
   "cell_type": "code",
   "execution_count": null,
   "metadata": {},
   "outputs": [],
   "source": [
    "df_copy[column] = df_copy[column].replace(dict__)\n",
    "df_copy[column] = df_copy[column].astype('int64')\n",
    "df_copy[column].unique()"
   ]
  },
  {
   "cell_type": "markdown",
   "metadata": {},
   "source": [
    "## Diccionario `LandSlope`"
   ]
  },
  {
   "cell_type": "code",
   "execution_count": null,
   "metadata": {},
   "outputs": [],
   "source": [
    "column = 'LandSlope'"
   ]
  },
  {
   "cell_type": "code",
   "execution_count": null,
   "metadata": {},
   "outputs": [],
   "source": [
    "grouped = pd.DataFrame(df_copy[column].dropna().unique())\n",
    "grouped.head()"
   ]
  },
  {
   "cell_type": "code",
   "execution_count": null,
   "metadata": {},
   "outputs": [],
   "source": [
    "grouped.reset_index(inplace=True)\n",
    "grouped.columns"
   ]
  },
  {
   "cell_type": "code",
   "execution_count": null,
   "metadata": {},
   "outputs": [],
   "source": [
    "grouped.rename(columns={0: 'Key'}, inplace=True)\n",
    "grouped.columns"
   ]
  },
  {
   "cell_type": "code",
   "execution_count": null,
   "metadata": {},
   "outputs": [],
   "source": [
    "grouped.shape"
   ]
  },
  {
   "cell_type": "code",
   "execution_count": null,
   "metadata": {},
   "outputs": [],
   "source": [
    "grouped['index'] += 1\n",
    "grouped"
   ]
  },
  {
   "cell_type": "code",
   "execution_count": null,
   "metadata": {},
   "outputs": [],
   "source": [
    "dict_ = grouped.to_dict(orient='split')\n",
    "dict_.keys()"
   ]
  },
  {
   "cell_type": "code",
   "execution_count": null,
   "metadata": {},
   "outputs": [],
   "source": [
    "dict_.pop('index')\n",
    "dict_.pop('columns')\n",
    "dict_"
   ]
  },
  {
   "cell_type": "code",
   "execution_count": null,
   "metadata": {},
   "outputs": [],
   "source": [
    "dict__ = {}\n",
    "\n",
    "for line in dict_['data']:\n",
    "    #print(line[1], ' : ', line[0])\n",
    "    dict__[line[1]] = line[0]\n",
    "\n",
    "dict__"
   ]
  },
  {
   "cell_type": "code",
   "execution_count": null,
   "metadata": {},
   "outputs": [],
   "source": [
    "df_copy[column] = df_copy[column].replace(dict__)\n",
    "df_copy[column] = df_copy[column].astype('int64')\n",
    "df_copy[column].unique()"
   ]
  },
  {
   "cell_type": "markdown",
   "metadata": {},
   "source": [
    "## Diccionario `Neighborhood`"
   ]
  },
  {
   "cell_type": "code",
   "execution_count": null,
   "metadata": {},
   "outputs": [],
   "source": [
    "column = 'Neighborhood'"
   ]
  },
  {
   "cell_type": "code",
   "execution_count": null,
   "metadata": {},
   "outputs": [],
   "source": [
    "grouped = pd.DataFrame(df_copy[column].dropna().unique())\n",
    "grouped.head()"
   ]
  },
  {
   "cell_type": "code",
   "execution_count": null,
   "metadata": {},
   "outputs": [],
   "source": [
    "grouped.reset_index(inplace=True)\n",
    "grouped.columns"
   ]
  },
  {
   "cell_type": "code",
   "execution_count": null,
   "metadata": {},
   "outputs": [],
   "source": [
    "grouped.rename(columns={0: 'Key'}, inplace=True)\n",
    "grouped.columns"
   ]
  },
  {
   "cell_type": "code",
   "execution_count": null,
   "metadata": {},
   "outputs": [],
   "source": [
    "grouped.shape"
   ]
  },
  {
   "cell_type": "code",
   "execution_count": null,
   "metadata": {},
   "outputs": [],
   "source": [
    "grouped['index'] += 1\n",
    "grouped"
   ]
  },
  {
   "cell_type": "code",
   "execution_count": null,
   "metadata": {},
   "outputs": [],
   "source": [
    "dict_ = grouped.to_dict(orient='split')\n",
    "dict_.keys()"
   ]
  },
  {
   "cell_type": "code",
   "execution_count": null,
   "metadata": {},
   "outputs": [],
   "source": [
    "dict_.pop('index')\n",
    "dict_.pop('columns')\n",
    "dict_"
   ]
  },
  {
   "cell_type": "code",
   "execution_count": null,
   "metadata": {},
   "outputs": [],
   "source": [
    "dict__ = {}\n",
    "\n",
    "for line in dict_['data']:\n",
    "    #print(line[1], ' : ', line[0])\n",
    "    dict__[line[1]] = line[0]\n",
    "\n",
    "dict__"
   ]
  },
  {
   "cell_type": "code",
   "execution_count": null,
   "metadata": {},
   "outputs": [],
   "source": [
    "df_copy[column] = df_copy[column].replace(dict__)\n",
    "df_copy[column] = df_copy[column].astype('int64')\n",
    "df_copy[column].unique()"
   ]
  },
  {
   "cell_type": "markdown",
   "metadata": {},
   "source": [
    "## Diccionario `Condition1`"
   ]
  },
  {
   "cell_type": "code",
   "execution_count": null,
   "metadata": {},
   "outputs": [],
   "source": [
    "column = 'Condition1'"
   ]
  },
  {
   "cell_type": "code",
   "execution_count": null,
   "metadata": {},
   "outputs": [],
   "source": [
    "grouped = pd.DataFrame(df_copy[column].dropna().unique())\n",
    "grouped.head()"
   ]
  },
  {
   "cell_type": "code",
   "execution_count": null,
   "metadata": {},
   "outputs": [],
   "source": [
    "grouped.reset_index(inplace=True)\n",
    "grouped.columns"
   ]
  },
  {
   "cell_type": "code",
   "execution_count": null,
   "metadata": {},
   "outputs": [],
   "source": [
    "grouped.rename(columns={0: 'Key'}, inplace=True)\n",
    "grouped.columns"
   ]
  },
  {
   "cell_type": "code",
   "execution_count": null,
   "metadata": {},
   "outputs": [],
   "source": [
    "grouped.shape"
   ]
  },
  {
   "cell_type": "code",
   "execution_count": null,
   "metadata": {},
   "outputs": [],
   "source": [
    "grouped['index'] += 1\n",
    "grouped"
   ]
  },
  {
   "cell_type": "code",
   "execution_count": null,
   "metadata": {},
   "outputs": [],
   "source": [
    "dict_ = grouped.to_dict(orient='split')\n",
    "dict_.keys()"
   ]
  },
  {
   "cell_type": "code",
   "execution_count": null,
   "metadata": {},
   "outputs": [],
   "source": [
    "dict_.pop('index')\n",
    "dict_.pop('columns')\n",
    "dict_"
   ]
  },
  {
   "cell_type": "code",
   "execution_count": null,
   "metadata": {},
   "outputs": [],
   "source": [
    "dict__ = {}\n",
    "\n",
    "for line in dict_['data']:\n",
    "    #print(line[1], ' : ', line[0])\n",
    "    dict__[line[1]] = line[0]\n",
    "\n",
    "dict__"
   ]
  },
  {
   "cell_type": "code",
   "execution_count": null,
   "metadata": {},
   "outputs": [],
   "source": [
    "df_copy[column] = df_copy[column].replace(dict__)\n",
    "df_copy[column] = df_copy[column].astype('int64')\n",
    "df_copy[column].unique()"
   ]
  },
  {
   "cell_type": "markdown",
   "metadata": {},
   "source": [
    "## Diccionario `Condition2`"
   ]
  },
  {
   "cell_type": "code",
   "execution_count": null,
   "metadata": {},
   "outputs": [],
   "source": [
    "column = 'Condition2'"
   ]
  },
  {
   "cell_type": "code",
   "execution_count": null,
   "metadata": {},
   "outputs": [],
   "source": [
    "grouped = pd.DataFrame(df_copy[column].dropna().unique())\n",
    "grouped.head()"
   ]
  },
  {
   "cell_type": "code",
   "execution_count": null,
   "metadata": {},
   "outputs": [],
   "source": [
    "grouped.reset_index(inplace=True)\n",
    "grouped.columns"
   ]
  },
  {
   "cell_type": "code",
   "execution_count": null,
   "metadata": {},
   "outputs": [],
   "source": [
    "grouped.rename(columns={0: 'Key'}, inplace=True)\n",
    "grouped.columns"
   ]
  },
  {
   "cell_type": "code",
   "execution_count": null,
   "metadata": {},
   "outputs": [],
   "source": [
    "grouped.shape"
   ]
  },
  {
   "cell_type": "code",
   "execution_count": null,
   "metadata": {},
   "outputs": [],
   "source": [
    "grouped['index'] += 1\n",
    "grouped"
   ]
  },
  {
   "cell_type": "code",
   "execution_count": null,
   "metadata": {},
   "outputs": [],
   "source": [
    "dict_ = grouped.to_dict(orient='split')\n",
    "dict_.keys()"
   ]
  },
  {
   "cell_type": "code",
   "execution_count": null,
   "metadata": {},
   "outputs": [],
   "source": [
    "dict_.pop('index')\n",
    "dict_.pop('columns')\n",
    "dict_"
   ]
  },
  {
   "cell_type": "code",
   "execution_count": null,
   "metadata": {},
   "outputs": [],
   "source": [
    "dict__ = {}\n",
    "\n",
    "for line in dict_['data']:\n",
    "    #print(line[1], ' : ', line[0])\n",
    "    dict__[line[1]] = line[0]\n",
    "\n",
    "dict__"
   ]
  },
  {
   "cell_type": "code",
   "execution_count": null,
   "metadata": {},
   "outputs": [],
   "source": [
    "df_copy[column] = df_copy[column].replace(dict__)\n",
    "df_copy[column] = df_copy[column].astype('int64')\n",
    "df_copy[column].unique()"
   ]
  },
  {
   "cell_type": "markdown",
   "metadata": {},
   "source": [
    "## Diccionario `BldgType`"
   ]
  },
  {
   "cell_type": "code",
   "execution_count": null,
   "metadata": {},
   "outputs": [],
   "source": [
    "column = 'BldgType'"
   ]
  },
  {
   "cell_type": "code",
   "execution_count": null,
   "metadata": {},
   "outputs": [],
   "source": [
    "grouped = pd.DataFrame(df_copy[column].dropna().unique())\n",
    "grouped.head()"
   ]
  },
  {
   "cell_type": "code",
   "execution_count": null,
   "metadata": {},
   "outputs": [],
   "source": [
    "grouped.reset_index(inplace=True)\n",
    "grouped.columns"
   ]
  },
  {
   "cell_type": "code",
   "execution_count": null,
   "metadata": {},
   "outputs": [],
   "source": [
    "grouped.rename(columns={0: 'Key'}, inplace=True)\n",
    "grouped.columns"
   ]
  },
  {
   "cell_type": "code",
   "execution_count": null,
   "metadata": {},
   "outputs": [],
   "source": [
    "grouped.shape"
   ]
  },
  {
   "cell_type": "code",
   "execution_count": null,
   "metadata": {},
   "outputs": [],
   "source": [
    "grouped['index'] += 1\n",
    "grouped"
   ]
  },
  {
   "cell_type": "code",
   "execution_count": null,
   "metadata": {},
   "outputs": [],
   "source": [
    "dict_ = grouped.to_dict(orient='split')\n",
    "dict_.keys()"
   ]
  },
  {
   "cell_type": "code",
   "execution_count": null,
   "metadata": {},
   "outputs": [],
   "source": [
    "dict_.pop('index')\n",
    "dict_.pop('columns')\n",
    "dict_"
   ]
  },
  {
   "cell_type": "code",
   "execution_count": null,
   "metadata": {},
   "outputs": [],
   "source": [
    "dict__ = {}\n",
    "\n",
    "for line in dict_['data']:\n",
    "    #print(line[1], ' : ', line[0])\n",
    "    dict__[line[1]] = line[0]\n",
    "\n",
    "dict__"
   ]
  },
  {
   "cell_type": "code",
   "execution_count": null,
   "metadata": {},
   "outputs": [],
   "source": [
    "df_copy[column] = df_copy[column].replace(dict__)\n",
    "df_copy[column] = df_copy[column].astype('int64')\n",
    "df_copy[column].unique()"
   ]
  },
  {
   "cell_type": "markdown",
   "metadata": {},
   "source": [
    "## Diccionario `HouseStyle`"
   ]
  },
  {
   "cell_type": "code",
   "execution_count": null,
   "metadata": {},
   "outputs": [],
   "source": [
    "column = 'HouseStyle'"
   ]
  },
  {
   "cell_type": "code",
   "execution_count": null,
   "metadata": {},
   "outputs": [],
   "source": [
    "grouped = pd.DataFrame(df_copy[column].dropna().unique())\n",
    "grouped.head()"
   ]
  },
  {
   "cell_type": "code",
   "execution_count": null,
   "metadata": {},
   "outputs": [],
   "source": [
    "grouped.reset_index(inplace=True)\n",
    "grouped.columns"
   ]
  },
  {
   "cell_type": "code",
   "execution_count": null,
   "metadata": {},
   "outputs": [],
   "source": [
    "grouped.rename(columns={0: 'Key'}, inplace=True)\n",
    "grouped.columns"
   ]
  },
  {
   "cell_type": "code",
   "execution_count": null,
   "metadata": {},
   "outputs": [],
   "source": [
    "grouped.shape"
   ]
  },
  {
   "cell_type": "code",
   "execution_count": null,
   "metadata": {},
   "outputs": [],
   "source": [
    "grouped['index'] += 1\n",
    "grouped"
   ]
  },
  {
   "cell_type": "code",
   "execution_count": null,
   "metadata": {},
   "outputs": [],
   "source": [
    "dict_ = grouped.to_dict(orient='split')\n",
    "dict_.keys()"
   ]
  },
  {
   "cell_type": "code",
   "execution_count": null,
   "metadata": {},
   "outputs": [],
   "source": [
    "dict_.pop('index')\n",
    "dict_.pop('columns')\n",
    "dict_"
   ]
  },
  {
   "cell_type": "code",
   "execution_count": null,
   "metadata": {},
   "outputs": [],
   "source": [
    "dict__ = {}\n",
    "\n",
    "for line in dict_['data']:\n",
    "    #print(line[1], ' : ', line[0])\n",
    "    dict__[line[1]] = line[0]\n",
    "\n",
    "dict__"
   ]
  },
  {
   "cell_type": "code",
   "execution_count": null,
   "metadata": {},
   "outputs": [],
   "source": [
    "df_copy[column] = df_copy[column].replace(dict__)\n",
    "df_copy[column] = df_copy[column].astype('int64')\n",
    "df_copy[column].unique()"
   ]
  },
  {
   "cell_type": "markdown",
   "metadata": {},
   "source": [
    "## Diccionario `RoofStyle`"
   ]
  },
  {
   "cell_type": "code",
   "execution_count": null,
   "metadata": {},
   "outputs": [],
   "source": [
    "column = 'RoofStyle'"
   ]
  },
  {
   "cell_type": "code",
   "execution_count": null,
   "metadata": {},
   "outputs": [],
   "source": [
    "grouped = pd.DataFrame(df_copy[column].dropna().unique())\n",
    "grouped.head()"
   ]
  },
  {
   "cell_type": "code",
   "execution_count": null,
   "metadata": {},
   "outputs": [],
   "source": [
    "grouped.reset_index(inplace=True)\n",
    "grouped.columns"
   ]
  },
  {
   "cell_type": "code",
   "execution_count": null,
   "metadata": {},
   "outputs": [],
   "source": [
    "grouped.rename(columns={0: 'Key'}, inplace=True)\n",
    "grouped.columns"
   ]
  },
  {
   "cell_type": "code",
   "execution_count": null,
   "metadata": {},
   "outputs": [],
   "source": [
    "grouped.shape"
   ]
  },
  {
   "cell_type": "code",
   "execution_count": null,
   "metadata": {},
   "outputs": [],
   "source": [
    "grouped['index'] += 1\n",
    "grouped"
   ]
  },
  {
   "cell_type": "code",
   "execution_count": null,
   "metadata": {},
   "outputs": [],
   "source": [
    "dict_ = grouped.to_dict(orient='split')\n",
    "dict_.keys()"
   ]
  },
  {
   "cell_type": "code",
   "execution_count": null,
   "metadata": {},
   "outputs": [],
   "source": [
    "dict_.pop('index')\n",
    "dict_.pop('columns')\n",
    "dict_"
   ]
  },
  {
   "cell_type": "code",
   "execution_count": null,
   "metadata": {},
   "outputs": [],
   "source": [
    "dict__ = {}\n",
    "\n",
    "for line in dict_['data']:\n",
    "    #print(line[1], ' : ', line[0])\n",
    "    dict__[line[1]] = line[0]\n",
    "\n",
    "dict__"
   ]
  },
  {
   "cell_type": "code",
   "execution_count": null,
   "metadata": {},
   "outputs": [],
   "source": [
    "df_copy[column] = df_copy[column].replace(dict__)\n",
    "df_copy[column] = df_copy[column].astype('int64')\n",
    "df_copy[column].unique()"
   ]
  },
  {
   "cell_type": "markdown",
   "metadata": {},
   "source": [
    "## Diccionario `RoofMatl`"
   ]
  },
  {
   "cell_type": "code",
   "execution_count": null,
   "metadata": {},
   "outputs": [],
   "source": [
    "column = 'RoofMatl'"
   ]
  },
  {
   "cell_type": "code",
   "execution_count": null,
   "metadata": {},
   "outputs": [],
   "source": [
    "grouped = pd.DataFrame(df_copy[column].dropna().unique())\n",
    "grouped.head()"
   ]
  },
  {
   "cell_type": "code",
   "execution_count": null,
   "metadata": {},
   "outputs": [],
   "source": [
    "grouped.reset_index(inplace=True)\n",
    "grouped.columns"
   ]
  },
  {
   "cell_type": "code",
   "execution_count": null,
   "metadata": {},
   "outputs": [],
   "source": [
    "grouped.rename(columns={0: 'Key'}, inplace=True)\n",
    "grouped.columns"
   ]
  },
  {
   "cell_type": "code",
   "execution_count": null,
   "metadata": {},
   "outputs": [],
   "source": [
    "grouped.shape"
   ]
  },
  {
   "cell_type": "code",
   "execution_count": null,
   "metadata": {},
   "outputs": [],
   "source": [
    "grouped['index'] += 1\n",
    "grouped"
   ]
  },
  {
   "cell_type": "code",
   "execution_count": null,
   "metadata": {},
   "outputs": [],
   "source": [
    "dict_ = grouped.to_dict(orient='split')\n",
    "dict_.keys()"
   ]
  },
  {
   "cell_type": "code",
   "execution_count": null,
   "metadata": {},
   "outputs": [],
   "source": [
    "dict_.pop('index')\n",
    "dict_.pop('columns')\n",
    "dict_"
   ]
  },
  {
   "cell_type": "code",
   "execution_count": null,
   "metadata": {},
   "outputs": [],
   "source": [
    "dict__ = {}\n",
    "\n",
    "for line in dict_['data']:\n",
    "    #print(line[1], ' : ', line[0])\n",
    "    dict__[line[1]] = line[0]\n",
    "\n",
    "dict__"
   ]
  },
  {
   "cell_type": "code",
   "execution_count": null,
   "metadata": {},
   "outputs": [],
   "source": [
    "df_copy[column] = df_copy[column].replace(dict__)\n",
    "df_copy[column] = df_copy[column].astype('int64')\n",
    "df_copy[column].unique()"
   ]
  },
  {
   "cell_type": "markdown",
   "metadata": {},
   "source": [
    "## Diccionario `Exterior1st`"
   ]
  },
  {
   "cell_type": "code",
   "execution_count": null,
   "metadata": {},
   "outputs": [],
   "source": [
    "column = 'Exterior1st'"
   ]
  },
  {
   "cell_type": "code",
   "execution_count": null,
   "metadata": {},
   "outputs": [],
   "source": [
    "grouped = pd.DataFrame(df_copy[column].dropna().unique())\n",
    "grouped.head()"
   ]
  },
  {
   "cell_type": "code",
   "execution_count": null,
   "metadata": {},
   "outputs": [],
   "source": [
    "grouped.reset_index(inplace=True)\n",
    "grouped.columns"
   ]
  },
  {
   "cell_type": "code",
   "execution_count": null,
   "metadata": {},
   "outputs": [],
   "source": [
    "grouped.rename(columns={0: 'Key'}, inplace=True)\n",
    "grouped.columns"
   ]
  },
  {
   "cell_type": "code",
   "execution_count": null,
   "metadata": {},
   "outputs": [],
   "source": [
    "grouped.shape"
   ]
  },
  {
   "cell_type": "code",
   "execution_count": null,
   "metadata": {},
   "outputs": [],
   "source": [
    "grouped['index'] += 1\n",
    "grouped"
   ]
  },
  {
   "cell_type": "code",
   "execution_count": null,
   "metadata": {},
   "outputs": [],
   "source": [
    "dict_ = grouped.to_dict(orient='split')\n",
    "dict_.keys()"
   ]
  },
  {
   "cell_type": "code",
   "execution_count": null,
   "metadata": {},
   "outputs": [],
   "source": [
    "dict_.pop('index')\n",
    "dict_.pop('columns')\n",
    "dict_"
   ]
  },
  {
   "cell_type": "code",
   "execution_count": null,
   "metadata": {},
   "outputs": [],
   "source": [
    "dict__ = {}\n",
    "\n",
    "for line in dict_['data']:\n",
    "    #print(line[1], ' : ', line[0])\n",
    "    dict__[line[1]] = line[0]\n",
    "\n",
    "dict__"
   ]
  },
  {
   "cell_type": "code",
   "execution_count": null,
   "metadata": {},
   "outputs": [],
   "source": [
    "df_copy[column] = df_copy[column].replace(dict__)\n",
    "df_copy[column] = df_copy[column].astype('int64')\n",
    "df_copy[column].unique()"
   ]
  },
  {
   "cell_type": "markdown",
   "metadata": {},
   "source": [
    "## Diccionario `Exterior2nd`"
   ]
  },
  {
   "cell_type": "code",
   "execution_count": null,
   "metadata": {},
   "outputs": [],
   "source": [
    "column = 'Exterior2nd'"
   ]
  },
  {
   "cell_type": "code",
   "execution_count": null,
   "metadata": {},
   "outputs": [],
   "source": [
    "grouped = pd.DataFrame(df_copy[column].dropna().unique())\n",
    "grouped.head()"
   ]
  },
  {
   "cell_type": "code",
   "execution_count": null,
   "metadata": {},
   "outputs": [],
   "source": [
    "grouped.reset_index(inplace=True)\n",
    "grouped.columns"
   ]
  },
  {
   "cell_type": "code",
   "execution_count": null,
   "metadata": {},
   "outputs": [],
   "source": [
    "grouped.rename(columns={0: 'Key'}, inplace=True)\n",
    "grouped.columns"
   ]
  },
  {
   "cell_type": "code",
   "execution_count": null,
   "metadata": {},
   "outputs": [],
   "source": [
    "grouped.shape"
   ]
  },
  {
   "cell_type": "code",
   "execution_count": null,
   "metadata": {},
   "outputs": [],
   "source": [
    "grouped['index'] += 1\n",
    "grouped"
   ]
  },
  {
   "cell_type": "code",
   "execution_count": null,
   "metadata": {},
   "outputs": [],
   "source": [
    "dict_ = grouped.to_dict(orient='split')\n",
    "dict_.keys()"
   ]
  },
  {
   "cell_type": "code",
   "execution_count": null,
   "metadata": {},
   "outputs": [],
   "source": [
    "dict_.pop('index')\n",
    "dict_.pop('columns')\n",
    "dict_"
   ]
  },
  {
   "cell_type": "code",
   "execution_count": null,
   "metadata": {},
   "outputs": [],
   "source": [
    "dict__ = {}\n",
    "\n",
    "for line in dict_['data']:\n",
    "    #print(line[1], ' : ', line[0])\n",
    "    dict__[line[1]] = line[0]\n",
    "\n",
    "dict__"
   ]
  },
  {
   "cell_type": "code",
   "execution_count": null,
   "metadata": {},
   "outputs": [],
   "source": [
    "df_copy[column] = df_copy[column].replace(dict__)\n",
    "df_copy[column] = df_copy[column].astype('int64')\n",
    "df_copy[column].unique()"
   ]
  },
  {
   "cell_type": "markdown",
   "metadata": {},
   "source": [
    "## Diccionario `MasVnrType`"
   ]
  },
  {
   "cell_type": "code",
   "execution_count": null,
   "metadata": {},
   "outputs": [],
   "source": [
    "column = 'MasVnrType'"
   ]
  },
  {
   "cell_type": "code",
   "execution_count": null,
   "metadata": {},
   "outputs": [],
   "source": [
    "grouped = pd.DataFrame(df_copy[column].dropna().unique())\n",
    "grouped.head()"
   ]
  },
  {
   "cell_type": "code",
   "execution_count": null,
   "metadata": {},
   "outputs": [],
   "source": [
    "grouped.reset_index(inplace=True)\n",
    "grouped.columns"
   ]
  },
  {
   "cell_type": "code",
   "execution_count": null,
   "metadata": {},
   "outputs": [],
   "source": [
    "grouped.rename(columns={0: 'Key'}, inplace=True)\n",
    "grouped.columns"
   ]
  },
  {
   "cell_type": "code",
   "execution_count": null,
   "metadata": {},
   "outputs": [],
   "source": [
    "grouped.shape"
   ]
  },
  {
   "cell_type": "code",
   "execution_count": null,
   "metadata": {},
   "outputs": [],
   "source": [
    "grouped['index'] += 1\n",
    "grouped"
   ]
  },
  {
   "cell_type": "code",
   "execution_count": null,
   "metadata": {},
   "outputs": [],
   "source": [
    "dict_ = grouped.to_dict(orient='split')\n",
    "dict_.keys()"
   ]
  },
  {
   "cell_type": "code",
   "execution_count": null,
   "metadata": {},
   "outputs": [],
   "source": [
    "dict_.pop('index')\n",
    "dict_.pop('columns')\n",
    "dict_"
   ]
  },
  {
   "cell_type": "code",
   "execution_count": null,
   "metadata": {},
   "outputs": [],
   "source": [
    "dict__ = {}\n",
    "\n",
    "for line in dict_['data']:\n",
    "    #print(line[1], ' : ', line[0])\n",
    "    dict__[line[1]] = line[0]\n",
    "\n",
    "dict__"
   ]
  },
  {
   "cell_type": "code",
   "execution_count": null,
   "metadata": {},
   "outputs": [],
   "source": [
    "df_copy[column] = df_copy[column].replace(dict__)\n",
    "#df_copy[column] = df_copy[column].astype('int64')\n",
    "df_copy[column].unique()"
   ]
  },
  {
   "cell_type": "markdown",
   "metadata": {},
   "source": [
    "## Diccionario `ExterQual`"
   ]
  },
  {
   "cell_type": "code",
   "execution_count": null,
   "metadata": {},
   "outputs": [],
   "source": [
    "column = 'ExterQual'"
   ]
  },
  {
   "cell_type": "code",
   "execution_count": null,
   "metadata": {},
   "outputs": [],
   "source": [
    "grouped = pd.DataFrame(df_copy[column].dropna().unique())\n",
    "grouped.head()"
   ]
  },
  {
   "cell_type": "code",
   "execution_count": null,
   "metadata": {},
   "outputs": [],
   "source": [
    "grouped.reset_index(inplace=True)\n",
    "grouped.columns"
   ]
  },
  {
   "cell_type": "code",
   "execution_count": null,
   "metadata": {},
   "outputs": [],
   "source": [
    "grouped.rename(columns={0: 'Key'}, inplace=True)\n",
    "grouped.columns"
   ]
  },
  {
   "cell_type": "code",
   "execution_count": null,
   "metadata": {},
   "outputs": [],
   "source": [
    "grouped.shape"
   ]
  },
  {
   "cell_type": "code",
   "execution_count": null,
   "metadata": {},
   "outputs": [],
   "source": [
    "grouped['index'] += 1\n",
    "grouped"
   ]
  },
  {
   "cell_type": "code",
   "execution_count": null,
   "metadata": {},
   "outputs": [],
   "source": [
    "dict_ = grouped.to_dict(orient='split')\n",
    "dict_.keys()"
   ]
  },
  {
   "cell_type": "code",
   "execution_count": null,
   "metadata": {},
   "outputs": [],
   "source": [
    "dict_.pop('index')\n",
    "dict_.pop('columns')\n",
    "dict_"
   ]
  },
  {
   "cell_type": "code",
   "execution_count": null,
   "metadata": {},
   "outputs": [],
   "source": [
    "dict__ = {}\n",
    "\n",
    "for line in dict_['data']:\n",
    "    #print(line[1], ' : ', line[0])\n",
    "    dict__[line[1]] = line[0]\n",
    "\n",
    "dict__"
   ]
  },
  {
   "cell_type": "code",
   "execution_count": null,
   "metadata": {},
   "outputs": [],
   "source": [
    "df_copy[column] = df_copy[column].replace(dict__)\n",
    "df_copy[column] = df_copy[column].astype('int64')\n",
    "df_copy[column].unique()"
   ]
  },
  {
   "cell_type": "markdown",
   "metadata": {},
   "source": [
    "## Diccionario `ExterCond`"
   ]
  },
  {
   "cell_type": "code",
   "execution_count": null,
   "metadata": {},
   "outputs": [],
   "source": [
    "column = 'ExterCond'"
   ]
  },
  {
   "cell_type": "code",
   "execution_count": null,
   "metadata": {},
   "outputs": [],
   "source": [
    "grouped = pd.DataFrame(df_copy[column].dropna().unique())\n",
    "grouped.head()"
   ]
  },
  {
   "cell_type": "code",
   "execution_count": null,
   "metadata": {},
   "outputs": [],
   "source": [
    "grouped.reset_index(inplace=True)\n",
    "grouped.columns"
   ]
  },
  {
   "cell_type": "code",
   "execution_count": null,
   "metadata": {},
   "outputs": [],
   "source": [
    "grouped.rename(columns={0: 'Key'}, inplace=True)\n",
    "grouped.columns"
   ]
  },
  {
   "cell_type": "code",
   "execution_count": null,
   "metadata": {},
   "outputs": [],
   "source": [
    "grouped.shape"
   ]
  },
  {
   "cell_type": "code",
   "execution_count": null,
   "metadata": {},
   "outputs": [],
   "source": [
    "grouped['index'] += 1\n",
    "grouped"
   ]
  },
  {
   "cell_type": "code",
   "execution_count": null,
   "metadata": {},
   "outputs": [],
   "source": [
    "dict_ = grouped.to_dict(orient='split')\n",
    "dict_.keys()"
   ]
  },
  {
   "cell_type": "code",
   "execution_count": null,
   "metadata": {},
   "outputs": [],
   "source": [
    "dict_.pop('index')\n",
    "dict_.pop('columns')\n",
    "dict_"
   ]
  },
  {
   "cell_type": "code",
   "execution_count": null,
   "metadata": {},
   "outputs": [],
   "source": [
    "dict__ = {}\n",
    "\n",
    "for line in dict_['data']:\n",
    "    #print(line[1], ' : ', line[0])\n",
    "    dict__[line[1]] = line[0]\n",
    "\n",
    "dict__"
   ]
  },
  {
   "cell_type": "code",
   "execution_count": null,
   "metadata": {},
   "outputs": [],
   "source": [
    "df_copy[column] = df_copy[column].replace(dict__)\n",
    "df_copy[column] = df_copy[column].astype('int64')\n",
    "df_copy[column].unique()"
   ]
  },
  {
   "cell_type": "markdown",
   "metadata": {},
   "source": [
    "## Diccionario `Foundation`"
   ]
  },
  {
   "cell_type": "code",
   "execution_count": null,
   "metadata": {},
   "outputs": [],
   "source": [
    "column = 'Foundation'"
   ]
  },
  {
   "cell_type": "code",
   "execution_count": null,
   "metadata": {},
   "outputs": [],
   "source": [
    "grouped = pd.DataFrame(df_copy[column].dropna().unique())\n",
    "grouped.head()"
   ]
  },
  {
   "cell_type": "code",
   "execution_count": null,
   "metadata": {},
   "outputs": [],
   "source": [
    "grouped.reset_index(inplace=True)\n",
    "grouped.columns"
   ]
  },
  {
   "cell_type": "code",
   "execution_count": null,
   "metadata": {},
   "outputs": [],
   "source": [
    "grouped.rename(columns={0: 'Key'}, inplace=True)\n",
    "grouped.columns"
   ]
  },
  {
   "cell_type": "code",
   "execution_count": null,
   "metadata": {},
   "outputs": [],
   "source": [
    "grouped.shape"
   ]
  },
  {
   "cell_type": "code",
   "execution_count": null,
   "metadata": {},
   "outputs": [],
   "source": [
    "grouped['index'] += 1\n",
    "grouped"
   ]
  },
  {
   "cell_type": "code",
   "execution_count": null,
   "metadata": {},
   "outputs": [],
   "source": [
    "dict_ = grouped.to_dict(orient='split')\n",
    "dict_.keys()"
   ]
  },
  {
   "cell_type": "code",
   "execution_count": null,
   "metadata": {},
   "outputs": [],
   "source": [
    "dict_.pop('index')\n",
    "dict_.pop('columns')\n",
    "dict_"
   ]
  },
  {
   "cell_type": "code",
   "execution_count": null,
   "metadata": {},
   "outputs": [],
   "source": [
    "dict__ = {}\n",
    "\n",
    "for line in dict_['data']:\n",
    "    #print(line[1], ' : ', line[0])\n",
    "    dict__[line[1]] = line[0]\n",
    "\n",
    "dict__"
   ]
  },
  {
   "cell_type": "code",
   "execution_count": null,
   "metadata": {},
   "outputs": [],
   "source": [
    "df_copy[column] = df_copy[column].replace(dict__)\n",
    "df_copy[column] = df_copy[column].astype('int64')\n",
    "df_copy[column].unique()"
   ]
  },
  {
   "cell_type": "markdown",
   "metadata": {},
   "source": [
    "## Diccionario `BsmtQual`"
   ]
  },
  {
   "cell_type": "code",
   "execution_count": null,
   "metadata": {},
   "outputs": [],
   "source": [
    "column = 'BsmtQual'"
   ]
  },
  {
   "cell_type": "code",
   "execution_count": null,
   "metadata": {},
   "outputs": [],
   "source": [
    "grouped = pd.DataFrame(df_copy[column].dropna().unique())\n",
    "grouped.head()"
   ]
  },
  {
   "cell_type": "code",
   "execution_count": null,
   "metadata": {},
   "outputs": [],
   "source": [
    "grouped.reset_index(inplace=True)\n",
    "grouped.columns"
   ]
  },
  {
   "cell_type": "code",
   "execution_count": null,
   "metadata": {},
   "outputs": [],
   "source": [
    "grouped.rename(columns={0: 'Key'}, inplace=True)\n",
    "grouped.columns"
   ]
  },
  {
   "cell_type": "code",
   "execution_count": null,
   "metadata": {},
   "outputs": [],
   "source": [
    "grouped.shape"
   ]
  },
  {
   "cell_type": "code",
   "execution_count": null,
   "metadata": {},
   "outputs": [],
   "source": [
    "grouped['index'] += 1\n",
    "grouped"
   ]
  },
  {
   "cell_type": "code",
   "execution_count": null,
   "metadata": {},
   "outputs": [],
   "source": [
    "dict_ = grouped.to_dict(orient='split')\n",
    "dict_.keys()"
   ]
  },
  {
   "cell_type": "code",
   "execution_count": null,
   "metadata": {},
   "outputs": [],
   "source": [
    "dict_.pop('index')\n",
    "dict_.pop('columns')\n",
    "dict_"
   ]
  },
  {
   "cell_type": "code",
   "execution_count": null,
   "metadata": {},
   "outputs": [],
   "source": [
    "dict__ = {}\n",
    "\n",
    "for line in dict_['data']:\n",
    "    #print(line[1], ' : ', line[0])\n",
    "    dict__[line[1]] = line[0]\n",
    "\n",
    "dict__"
   ]
  },
  {
   "cell_type": "code",
   "execution_count": null,
   "metadata": {},
   "outputs": [],
   "source": [
    "df_copy[column] = df_copy[column].replace(dict__)\n",
    "#df_copy[column] = df_copy[column].astype('int64')\n",
    "df_copy[column].unique()"
   ]
  },
  {
   "cell_type": "markdown",
   "metadata": {},
   "source": [
    "## Diccionario `BsmtCond`"
   ]
  },
  {
   "cell_type": "code",
   "execution_count": null,
   "metadata": {},
   "outputs": [],
   "source": [
    "column = 'BsmtCond'"
   ]
  },
  {
   "cell_type": "code",
   "execution_count": null,
   "metadata": {},
   "outputs": [],
   "source": [
    "grouped = pd.DataFrame(df_copy[column].dropna().unique())\n",
    "grouped.head()"
   ]
  },
  {
   "cell_type": "code",
   "execution_count": null,
   "metadata": {},
   "outputs": [],
   "source": [
    "grouped.reset_index(inplace=True)\n",
    "grouped.columns"
   ]
  },
  {
   "cell_type": "code",
   "execution_count": null,
   "metadata": {},
   "outputs": [],
   "source": [
    "grouped.rename(columns={0: 'Key'}, inplace=True)\n",
    "grouped.columns"
   ]
  },
  {
   "cell_type": "code",
   "execution_count": null,
   "metadata": {},
   "outputs": [],
   "source": [
    "grouped.shape"
   ]
  },
  {
   "cell_type": "code",
   "execution_count": null,
   "metadata": {},
   "outputs": [],
   "source": [
    "grouped['index'] += 1\n",
    "grouped"
   ]
  },
  {
   "cell_type": "code",
   "execution_count": null,
   "metadata": {},
   "outputs": [],
   "source": [
    "dict_ = grouped.to_dict(orient='split')\n",
    "dict_.keys()"
   ]
  },
  {
   "cell_type": "code",
   "execution_count": null,
   "metadata": {},
   "outputs": [],
   "source": [
    "dict_.pop('index')\n",
    "dict_.pop('columns')\n",
    "dict_"
   ]
  },
  {
   "cell_type": "code",
   "execution_count": null,
   "metadata": {},
   "outputs": [],
   "source": [
    "dict__ = {}\n",
    "\n",
    "for line in dict_['data']:\n",
    "    #print(line[1], ' : ', line[0])\n",
    "    dict__[line[1]] = line[0]\n",
    "\n",
    "dict__"
   ]
  },
  {
   "cell_type": "code",
   "execution_count": null,
   "metadata": {},
   "outputs": [],
   "source": [
    "df_copy[column] = df_copy[column].replace(dict__)\n",
    "#df_copy[column] = df_copy[column].astype('int64')\n",
    "df_copy[column].unique()"
   ]
  },
  {
   "cell_type": "markdown",
   "metadata": {},
   "source": [
    "## Diccionario `BsmtExposure`"
   ]
  },
  {
   "cell_type": "code",
   "execution_count": null,
   "metadata": {},
   "outputs": [],
   "source": [
    "column = 'BsmtExposure'"
   ]
  },
  {
   "cell_type": "code",
   "execution_count": null,
   "metadata": {},
   "outputs": [],
   "source": [
    "grouped = pd.DataFrame(df_copy[column].dropna().unique())\n",
    "grouped.head()"
   ]
  },
  {
   "cell_type": "code",
   "execution_count": 15,
   "metadata": {},
   "outputs": [
    {
     "data": {
      "text/plain": [
       "Index(['level_0', 'index', 'Key'], dtype='object')"
      ]
     },
     "execution_count": 15,
     "metadata": {},
     "output_type": "execute_result"
    }
   ],
   "source": [
    "grouped.reset_index(inplace=True)\n",
    "grouped.columns"
   ]
  },
  {
   "cell_type": "code",
   "execution_count": 16,
   "metadata": {},
   "outputs": [
    {
     "data": {
      "text/plain": [
       "Index(['level_0', 'index', 'Key'], dtype='object')"
      ]
     },
     "execution_count": 16,
     "metadata": {},
     "output_type": "execute_result"
    }
   ],
   "source": [
    "grouped.rename(columns={0: 'Key'}, inplace=True)\n",
    "grouped.columns"
   ]
  },
  {
   "cell_type": "code",
   "execution_count": 17,
   "metadata": {},
   "outputs": [
    {
     "data": {
      "text/plain": [
       "(5, 3)"
      ]
     },
     "execution_count": 17,
     "metadata": {},
     "output_type": "execute_result"
    }
   ],
   "source": [
    "grouped.shape"
   ]
  },
  {
   "cell_type": "code",
   "execution_count": 18,
   "metadata": {},
   "outputs": [
    {
     "data": {
      "text/html": [
       "<div>\n",
       "<style scoped>\n",
       "    .dataframe tbody tr th:only-of-type {\n",
       "        vertical-align: middle;\n",
       "    }\n",
       "\n",
       "    .dataframe tbody tr th {\n",
       "        vertical-align: top;\n",
       "    }\n",
       "\n",
       "    .dataframe thead th {\n",
       "        text-align: right;\n",
       "    }\n",
       "</style>\n",
       "<table border=\"1\" class=\"dataframe\">\n",
       "  <thead>\n",
       "    <tr style=\"text-align: right;\">\n",
       "      <th></th>\n",
       "      <th>level_0</th>\n",
       "      <th>index</th>\n",
       "      <th>Key</th>\n",
       "    </tr>\n",
       "  </thead>\n",
       "  <tbody>\n",
       "    <tr>\n",
       "      <th>0</th>\n",
       "      <td>0</td>\n",
       "      <td>2</td>\n",
       "      <td>RH</td>\n",
       "    </tr>\n",
       "    <tr>\n",
       "      <th>1</th>\n",
       "      <td>1</td>\n",
       "      <td>3</td>\n",
       "      <td>RL</td>\n",
       "    </tr>\n",
       "    <tr>\n",
       "      <th>2</th>\n",
       "      <td>2</td>\n",
       "      <td>4</td>\n",
       "      <td>RM</td>\n",
       "    </tr>\n",
       "    <tr>\n",
       "      <th>3</th>\n",
       "      <td>3</td>\n",
       "      <td>5</td>\n",
       "      <td>FV</td>\n",
       "    </tr>\n",
       "    <tr>\n",
       "      <th>4</th>\n",
       "      <td>4</td>\n",
       "      <td>6</td>\n",
       "      <td>C (all)</td>\n",
       "    </tr>\n",
       "  </tbody>\n",
       "</table>\n",
       "</div>"
      ],
      "text/plain": [
       "   level_0  index      Key\n",
       "0        0      2       RH\n",
       "1        1      3       RL\n",
       "2        2      4       RM\n",
       "3        3      5       FV\n",
       "4        4      6  C (all)"
      ]
     },
     "execution_count": 18,
     "metadata": {},
     "output_type": "execute_result"
    }
   ],
   "source": [
    "grouped['index'] += 1\n",
    "grouped"
   ]
  },
  {
   "cell_type": "code",
   "execution_count": 19,
   "metadata": {},
   "outputs": [
    {
     "data": {
      "text/plain": [
       "dict_keys(['index', 'columns', 'data'])"
      ]
     },
     "execution_count": 19,
     "metadata": {},
     "output_type": "execute_result"
    }
   ],
   "source": [
    "dict_ = grouped.to_dict(orient='split')\n",
    "dict_.keys()"
   ]
  },
  {
   "cell_type": "code",
   "execution_count": 20,
   "metadata": {},
   "outputs": [
    {
     "data": {
      "text/plain": [
       "{'data': [[0, 2, 'RH'],\n",
       "  [1, 3, 'RL'],\n",
       "  [2, 4, 'RM'],\n",
       "  [3, 5, 'FV'],\n",
       "  [4, 6, 'C (all)']]}"
      ]
     },
     "execution_count": 20,
     "metadata": {},
     "output_type": "execute_result"
    }
   ],
   "source": [
    "dict_.pop('index')\n",
    "dict_.pop('columns')\n",
    "dict_"
   ]
  },
  {
   "cell_type": "code",
   "execution_count": 21,
   "metadata": {},
   "outputs": [
    {
     "data": {
      "text/plain": [
       "{2: 0, 3: 1, 4: 2, 5: 3, 6: 4}"
      ]
     },
     "execution_count": 21,
     "metadata": {},
     "output_type": "execute_result"
    }
   ],
   "source": [
    "dict__ = {}\n",
    "\n",
    "for line in dict_['data']:\n",
    "    #print(line[1], ' : ', line[0])\n",
    "    dict__[line[1]] = line[0]\n",
    "\n",
    "dict__"
   ]
  },
  {
   "cell_type": "code",
   "execution_count": 22,
   "metadata": {},
   "outputs": [
    {
     "data": {
      "text/plain": [
       "array([ 1.,  0.,  2.,  3., nan])"
      ]
     },
     "execution_count": 22,
     "metadata": {},
     "output_type": "execute_result"
    }
   ],
   "source": [
    "df_copy[column] = df_copy[column].replace(dict__)\n",
    "#df_copy[column] = df_copy[column].astype('int64')\n",
    "df_copy[column].unique()"
   ]
  },
  {
   "cell_type": "markdown",
   "metadata": {},
   "source": [
    "## Diccionario `BsmtFinType1`"
   ]
  },
  {
   "cell_type": "code",
   "execution_count": 23,
   "metadata": {},
   "outputs": [],
   "source": [
    "column = 'BsmtFinType1'"
   ]
  },
  {
   "cell_type": "code",
   "execution_count": 24,
   "metadata": {},
   "outputs": [
    {
     "data": {
      "text/html": [
       "<div>\n",
       "<style scoped>\n",
       "    .dataframe tbody tr th:only-of-type {\n",
       "        vertical-align: middle;\n",
       "    }\n",
       "\n",
       "    .dataframe tbody tr th {\n",
       "        vertical-align: top;\n",
       "    }\n",
       "\n",
       "    .dataframe thead th {\n",
       "        text-align: right;\n",
       "    }\n",
       "</style>\n",
       "<table border=\"1\" class=\"dataframe\">\n",
       "  <thead>\n",
       "    <tr style=\"text-align: right;\">\n",
       "      <th></th>\n",
       "      <th>0</th>\n",
       "    </tr>\n",
       "  </thead>\n",
       "  <tbody>\n",
       "    <tr>\n",
       "      <th>0</th>\n",
       "      <td>Rec</td>\n",
       "    </tr>\n",
       "    <tr>\n",
       "      <th>1</th>\n",
       "      <td>ALQ</td>\n",
       "    </tr>\n",
       "    <tr>\n",
       "      <th>2</th>\n",
       "      <td>GLQ</td>\n",
       "    </tr>\n",
       "    <tr>\n",
       "      <th>3</th>\n",
       "      <td>Unf</td>\n",
       "    </tr>\n",
       "    <tr>\n",
       "      <th>4</th>\n",
       "      <td>BLQ</td>\n",
       "    </tr>\n",
       "  </tbody>\n",
       "</table>\n",
       "</div>"
      ],
      "text/plain": [
       "     0\n",
       "0  Rec\n",
       "1  ALQ\n",
       "2  GLQ\n",
       "3  Unf\n",
       "4  BLQ"
      ]
     },
     "execution_count": 24,
     "metadata": {},
     "output_type": "execute_result"
    }
   ],
   "source": [
    "grouped = pd.DataFrame(df_copy[column].dropna().unique())\n",
    "grouped.head()"
   ]
  },
  {
   "cell_type": "code",
   "execution_count": 25,
   "metadata": {},
   "outputs": [
    {
     "data": {
      "text/plain": [
       "Index(['index', 0], dtype='object')"
      ]
     },
     "execution_count": 25,
     "metadata": {},
     "output_type": "execute_result"
    }
   ],
   "source": [
    "grouped.reset_index(inplace=True)\n",
    "grouped.columns"
   ]
  },
  {
   "cell_type": "code",
   "execution_count": 26,
   "metadata": {},
   "outputs": [
    {
     "data": {
      "text/plain": [
       "Index(['index', 'Key'], dtype='object')"
      ]
     },
     "execution_count": 26,
     "metadata": {},
     "output_type": "execute_result"
    }
   ],
   "source": [
    "grouped.rename(columns={0: 'Key'}, inplace=True)\n",
    "grouped.columns"
   ]
  },
  {
   "cell_type": "code",
   "execution_count": 27,
   "metadata": {},
   "outputs": [
    {
     "data": {
      "text/plain": [
       "(6, 2)"
      ]
     },
     "execution_count": 27,
     "metadata": {},
     "output_type": "execute_result"
    }
   ],
   "source": [
    "grouped.shape"
   ]
  },
  {
   "cell_type": "code",
   "execution_count": 28,
   "metadata": {},
   "outputs": [
    {
     "data": {
      "text/html": [
       "<div>\n",
       "<style scoped>\n",
       "    .dataframe tbody tr th:only-of-type {\n",
       "        vertical-align: middle;\n",
       "    }\n",
       "\n",
       "    .dataframe tbody tr th {\n",
       "        vertical-align: top;\n",
       "    }\n",
       "\n",
       "    .dataframe thead th {\n",
       "        text-align: right;\n",
       "    }\n",
       "</style>\n",
       "<table border=\"1\" class=\"dataframe\">\n",
       "  <thead>\n",
       "    <tr style=\"text-align: right;\">\n",
       "      <th></th>\n",
       "      <th>index</th>\n",
       "      <th>Key</th>\n",
       "    </tr>\n",
       "  </thead>\n",
       "  <tbody>\n",
       "    <tr>\n",
       "      <th>0</th>\n",
       "      <td>1</td>\n",
       "      <td>Rec</td>\n",
       "    </tr>\n",
       "    <tr>\n",
       "      <th>1</th>\n",
       "      <td>2</td>\n",
       "      <td>ALQ</td>\n",
       "    </tr>\n",
       "    <tr>\n",
       "      <th>2</th>\n",
       "      <td>3</td>\n",
       "      <td>GLQ</td>\n",
       "    </tr>\n",
       "    <tr>\n",
       "      <th>3</th>\n",
       "      <td>4</td>\n",
       "      <td>Unf</td>\n",
       "    </tr>\n",
       "    <tr>\n",
       "      <th>4</th>\n",
       "      <td>5</td>\n",
       "      <td>BLQ</td>\n",
       "    </tr>\n",
       "    <tr>\n",
       "      <th>5</th>\n",
       "      <td>6</td>\n",
       "      <td>LwQ</td>\n",
       "    </tr>\n",
       "  </tbody>\n",
       "</table>\n",
       "</div>"
      ],
      "text/plain": [
       "   index  Key\n",
       "0      1  Rec\n",
       "1      2  ALQ\n",
       "2      3  GLQ\n",
       "3      4  Unf\n",
       "4      5  BLQ\n",
       "5      6  LwQ"
      ]
     },
     "execution_count": 28,
     "metadata": {},
     "output_type": "execute_result"
    }
   ],
   "source": [
    "grouped['index'] += 1\n",
    "grouped"
   ]
  },
  {
   "cell_type": "code",
   "execution_count": 29,
   "metadata": {},
   "outputs": [
    {
     "data": {
      "text/plain": [
       "dict_keys(['index', 'columns', 'data'])"
      ]
     },
     "execution_count": 29,
     "metadata": {},
     "output_type": "execute_result"
    }
   ],
   "source": [
    "dict_ = grouped.to_dict(orient='split')\n",
    "dict_.keys()"
   ]
  },
  {
   "cell_type": "code",
   "execution_count": 30,
   "metadata": {},
   "outputs": [
    {
     "data": {
      "text/plain": [
       "{'data': [[1, 'Rec'],\n",
       "  [2, 'ALQ'],\n",
       "  [3, 'GLQ'],\n",
       "  [4, 'Unf'],\n",
       "  [5, 'BLQ'],\n",
       "  [6, 'LwQ']]}"
      ]
     },
     "execution_count": 30,
     "metadata": {},
     "output_type": "execute_result"
    }
   ],
   "source": [
    "dict_.pop('index')\n",
    "dict_.pop('columns')\n",
    "dict_"
   ]
  },
  {
   "cell_type": "code",
   "execution_count": 31,
   "metadata": {},
   "outputs": [
    {
     "data": {
      "text/plain": [
       "{'Rec': 1, 'ALQ': 2, 'GLQ': 3, 'Unf': 4, 'BLQ': 5, 'LwQ': 6}"
      ]
     },
     "execution_count": 31,
     "metadata": {},
     "output_type": "execute_result"
    }
   ],
   "source": [
    "dict__ = {}\n",
    "\n",
    "for line in dict_['data']:\n",
    "    #print(line[1], ' : ', line[0])\n",
    "    dict__[line[1]] = line[0]\n",
    "\n",
    "dict__"
   ]
  },
  {
   "cell_type": "code",
   "execution_count": 32,
   "metadata": {},
   "outputs": [
    {
     "data": {
      "text/plain": [
       "array([ 1.,  2.,  3.,  4.,  5.,  6., nan])"
      ]
     },
     "execution_count": 32,
     "metadata": {},
     "output_type": "execute_result"
    }
   ],
   "source": [
    "df_copy[column] = df_copy[column].replace(dict__)\n",
    "#df_copy[column] = df_copy[column].astype('int64')\n",
    "df_copy[column].unique()"
   ]
  },
  {
   "cell_type": "markdown",
   "metadata": {},
   "source": [
    "## Diccionario `BsmtFinType2`"
   ]
  },
  {
   "cell_type": "code",
   "execution_count": 33,
   "metadata": {},
   "outputs": [],
   "source": [
    "column = 'BsmtFinType2'"
   ]
  },
  {
   "cell_type": "code",
   "execution_count": 34,
   "metadata": {},
   "outputs": [
    {
     "data": {
      "text/html": [
       "<div>\n",
       "<style scoped>\n",
       "    .dataframe tbody tr th:only-of-type {\n",
       "        vertical-align: middle;\n",
       "    }\n",
       "\n",
       "    .dataframe tbody tr th {\n",
       "        vertical-align: top;\n",
       "    }\n",
       "\n",
       "    .dataframe thead th {\n",
       "        text-align: right;\n",
       "    }\n",
       "</style>\n",
       "<table border=\"1\" class=\"dataframe\">\n",
       "  <thead>\n",
       "    <tr style=\"text-align: right;\">\n",
       "      <th></th>\n",
       "      <th>0</th>\n",
       "    </tr>\n",
       "  </thead>\n",
       "  <tbody>\n",
       "    <tr>\n",
       "      <th>0</th>\n",
       "      <td>LwQ</td>\n",
       "    </tr>\n",
       "    <tr>\n",
       "      <th>1</th>\n",
       "      <td>Unf</td>\n",
       "    </tr>\n",
       "    <tr>\n",
       "      <th>2</th>\n",
       "      <td>Rec</td>\n",
       "    </tr>\n",
       "    <tr>\n",
       "      <th>3</th>\n",
       "      <td>BLQ</td>\n",
       "    </tr>\n",
       "    <tr>\n",
       "      <th>4</th>\n",
       "      <td>GLQ</td>\n",
       "    </tr>\n",
       "  </tbody>\n",
       "</table>\n",
       "</div>"
      ],
      "text/plain": [
       "     0\n",
       "0  LwQ\n",
       "1  Unf\n",
       "2  Rec\n",
       "3  BLQ\n",
       "4  GLQ"
      ]
     },
     "execution_count": 34,
     "metadata": {},
     "output_type": "execute_result"
    }
   ],
   "source": [
    "grouped = pd.DataFrame(df_copy[column].dropna().unique())\n",
    "grouped.head()"
   ]
  },
  {
   "cell_type": "code",
   "execution_count": 35,
   "metadata": {},
   "outputs": [
    {
     "data": {
      "text/plain": [
       "Index(['index', 0], dtype='object')"
      ]
     },
     "execution_count": 35,
     "metadata": {},
     "output_type": "execute_result"
    }
   ],
   "source": [
    "grouped.reset_index(inplace=True)\n",
    "grouped.columns"
   ]
  },
  {
   "cell_type": "code",
   "execution_count": 36,
   "metadata": {},
   "outputs": [
    {
     "data": {
      "text/plain": [
       "Index(['index', 'Key'], dtype='object')"
      ]
     },
     "execution_count": 36,
     "metadata": {},
     "output_type": "execute_result"
    }
   ],
   "source": [
    "grouped.rename(columns={0: 'Key'}, inplace=True)\n",
    "grouped.columns"
   ]
  },
  {
   "cell_type": "code",
   "execution_count": 37,
   "metadata": {},
   "outputs": [
    {
     "data": {
      "text/plain": [
       "(6, 2)"
      ]
     },
     "execution_count": 37,
     "metadata": {},
     "output_type": "execute_result"
    }
   ],
   "source": [
    "grouped.shape"
   ]
  },
  {
   "cell_type": "code",
   "execution_count": 38,
   "metadata": {},
   "outputs": [
    {
     "data": {
      "text/html": [
       "<div>\n",
       "<style scoped>\n",
       "    .dataframe tbody tr th:only-of-type {\n",
       "        vertical-align: middle;\n",
       "    }\n",
       "\n",
       "    .dataframe tbody tr th {\n",
       "        vertical-align: top;\n",
       "    }\n",
       "\n",
       "    .dataframe thead th {\n",
       "        text-align: right;\n",
       "    }\n",
       "</style>\n",
       "<table border=\"1\" class=\"dataframe\">\n",
       "  <thead>\n",
       "    <tr style=\"text-align: right;\">\n",
       "      <th></th>\n",
       "      <th>index</th>\n",
       "      <th>Key</th>\n",
       "    </tr>\n",
       "  </thead>\n",
       "  <tbody>\n",
       "    <tr>\n",
       "      <th>0</th>\n",
       "      <td>1</td>\n",
       "      <td>LwQ</td>\n",
       "    </tr>\n",
       "    <tr>\n",
       "      <th>1</th>\n",
       "      <td>2</td>\n",
       "      <td>Unf</td>\n",
       "    </tr>\n",
       "    <tr>\n",
       "      <th>2</th>\n",
       "      <td>3</td>\n",
       "      <td>Rec</td>\n",
       "    </tr>\n",
       "    <tr>\n",
       "      <th>3</th>\n",
       "      <td>4</td>\n",
       "      <td>BLQ</td>\n",
       "    </tr>\n",
       "    <tr>\n",
       "      <th>4</th>\n",
       "      <td>5</td>\n",
       "      <td>GLQ</td>\n",
       "    </tr>\n",
       "    <tr>\n",
       "      <th>5</th>\n",
       "      <td>6</td>\n",
       "      <td>ALQ</td>\n",
       "    </tr>\n",
       "  </tbody>\n",
       "</table>\n",
       "</div>"
      ],
      "text/plain": [
       "   index  Key\n",
       "0      1  LwQ\n",
       "1      2  Unf\n",
       "2      3  Rec\n",
       "3      4  BLQ\n",
       "4      5  GLQ\n",
       "5      6  ALQ"
      ]
     },
     "execution_count": 38,
     "metadata": {},
     "output_type": "execute_result"
    }
   ],
   "source": [
    "grouped['index'] += 1\n",
    "grouped"
   ]
  },
  {
   "cell_type": "code",
   "execution_count": 39,
   "metadata": {},
   "outputs": [
    {
     "data": {
      "text/plain": [
       "dict_keys(['index', 'columns', 'data'])"
      ]
     },
     "execution_count": 39,
     "metadata": {},
     "output_type": "execute_result"
    }
   ],
   "source": [
    "dict_ = grouped.to_dict(orient='split')\n",
    "dict_.keys()"
   ]
  },
  {
   "cell_type": "code",
   "execution_count": 40,
   "metadata": {},
   "outputs": [
    {
     "data": {
      "text/plain": [
       "{'data': [[1, 'LwQ'],\n",
       "  [2, 'Unf'],\n",
       "  [3, 'Rec'],\n",
       "  [4, 'BLQ'],\n",
       "  [5, 'GLQ'],\n",
       "  [6, 'ALQ']]}"
      ]
     },
     "execution_count": 40,
     "metadata": {},
     "output_type": "execute_result"
    }
   ],
   "source": [
    "dict_.pop('index')\n",
    "dict_.pop('columns')\n",
    "dict_"
   ]
  },
  {
   "cell_type": "code",
   "execution_count": 41,
   "metadata": {},
   "outputs": [
    {
     "data": {
      "text/plain": [
       "{'LwQ': 1, 'Unf': 2, 'Rec': 3, 'BLQ': 4, 'GLQ': 5, 'ALQ': 6}"
      ]
     },
     "execution_count": 41,
     "metadata": {},
     "output_type": "execute_result"
    }
   ],
   "source": [
    "dict__ = {}\n",
    "\n",
    "for line in dict_['data']:\n",
    "    #print(line[1], ' : ', line[0])\n",
    "    dict__[line[1]] = line[0]\n",
    "\n",
    "dict__"
   ]
  },
  {
   "cell_type": "code",
   "execution_count": 42,
   "metadata": {},
   "outputs": [
    {
     "data": {
      "text/plain": [
       "array([ 1.,  2.,  3.,  4.,  5.,  6., nan])"
      ]
     },
     "execution_count": 42,
     "metadata": {},
     "output_type": "execute_result"
    }
   ],
   "source": [
    "df_copy[column] = df_copy[column].replace(dict__)\n",
    "#df_copy[column] = df_copy[column].astype('int64')\n",
    "df_copy[column].unique()"
   ]
  },
  {
   "cell_type": "markdown",
   "metadata": {},
   "source": [
    "## Diccionario `Heating`"
   ]
  },
  {
   "cell_type": "code",
   "execution_count": 43,
   "metadata": {},
   "outputs": [],
   "source": [
    "column = 'Heating'"
   ]
  },
  {
   "cell_type": "code",
   "execution_count": 44,
   "metadata": {},
   "outputs": [
    {
     "data": {
      "text/html": [
       "<div>\n",
       "<style scoped>\n",
       "    .dataframe tbody tr th:only-of-type {\n",
       "        vertical-align: middle;\n",
       "    }\n",
       "\n",
       "    .dataframe tbody tr th {\n",
       "        vertical-align: top;\n",
       "    }\n",
       "\n",
       "    .dataframe thead th {\n",
       "        text-align: right;\n",
       "    }\n",
       "</style>\n",
       "<table border=\"1\" class=\"dataframe\">\n",
       "  <thead>\n",
       "    <tr style=\"text-align: right;\">\n",
       "      <th></th>\n",
       "      <th>0</th>\n",
       "    </tr>\n",
       "  </thead>\n",
       "  <tbody>\n",
       "    <tr>\n",
       "      <th>0</th>\n",
       "      <td>GasA</td>\n",
       "    </tr>\n",
       "    <tr>\n",
       "      <th>1</th>\n",
       "      <td>GasW</td>\n",
       "    </tr>\n",
       "    <tr>\n",
       "      <th>2</th>\n",
       "      <td>Grav</td>\n",
       "    </tr>\n",
       "    <tr>\n",
       "      <th>3</th>\n",
       "      <td>Wall</td>\n",
       "    </tr>\n",
       "  </tbody>\n",
       "</table>\n",
       "</div>"
      ],
      "text/plain": [
       "      0\n",
       "0  GasA\n",
       "1  GasW\n",
       "2  Grav\n",
       "3  Wall"
      ]
     },
     "execution_count": 44,
     "metadata": {},
     "output_type": "execute_result"
    }
   ],
   "source": [
    "grouped = pd.DataFrame(df_copy[column].dropna().unique())\n",
    "grouped.head()"
   ]
  },
  {
   "cell_type": "code",
   "execution_count": 45,
   "metadata": {},
   "outputs": [
    {
     "data": {
      "text/plain": [
       "Index(['index', 0], dtype='object')"
      ]
     },
     "execution_count": 45,
     "metadata": {},
     "output_type": "execute_result"
    }
   ],
   "source": [
    "grouped.reset_index(inplace=True)\n",
    "grouped.columns"
   ]
  },
  {
   "cell_type": "code",
   "execution_count": 46,
   "metadata": {},
   "outputs": [
    {
     "data": {
      "text/plain": [
       "Index(['index', 'Key'], dtype='object')"
      ]
     },
     "execution_count": 46,
     "metadata": {},
     "output_type": "execute_result"
    }
   ],
   "source": [
    "grouped.rename(columns={0: 'Key'}, inplace=True)\n",
    "grouped.columns"
   ]
  },
  {
   "cell_type": "code",
   "execution_count": 47,
   "metadata": {},
   "outputs": [
    {
     "data": {
      "text/plain": [
       "(4, 2)"
      ]
     },
     "execution_count": 47,
     "metadata": {},
     "output_type": "execute_result"
    }
   ],
   "source": [
    "grouped.shape"
   ]
  },
  {
   "cell_type": "code",
   "execution_count": 48,
   "metadata": {},
   "outputs": [
    {
     "data": {
      "text/html": [
       "<div>\n",
       "<style scoped>\n",
       "    .dataframe tbody tr th:only-of-type {\n",
       "        vertical-align: middle;\n",
       "    }\n",
       "\n",
       "    .dataframe tbody tr th {\n",
       "        vertical-align: top;\n",
       "    }\n",
       "\n",
       "    .dataframe thead th {\n",
       "        text-align: right;\n",
       "    }\n",
       "</style>\n",
       "<table border=\"1\" class=\"dataframe\">\n",
       "  <thead>\n",
       "    <tr style=\"text-align: right;\">\n",
       "      <th></th>\n",
       "      <th>index</th>\n",
       "      <th>Key</th>\n",
       "    </tr>\n",
       "  </thead>\n",
       "  <tbody>\n",
       "    <tr>\n",
       "      <th>0</th>\n",
       "      <td>1</td>\n",
       "      <td>GasA</td>\n",
       "    </tr>\n",
       "    <tr>\n",
       "      <th>1</th>\n",
       "      <td>2</td>\n",
       "      <td>GasW</td>\n",
       "    </tr>\n",
       "    <tr>\n",
       "      <th>2</th>\n",
       "      <td>3</td>\n",
       "      <td>Grav</td>\n",
       "    </tr>\n",
       "    <tr>\n",
       "      <th>3</th>\n",
       "      <td>4</td>\n",
       "      <td>Wall</td>\n",
       "    </tr>\n",
       "  </tbody>\n",
       "</table>\n",
       "</div>"
      ],
      "text/plain": [
       "   index   Key\n",
       "0      1  GasA\n",
       "1      2  GasW\n",
       "2      3  Grav\n",
       "3      4  Wall"
      ]
     },
     "execution_count": 48,
     "metadata": {},
     "output_type": "execute_result"
    }
   ],
   "source": [
    "grouped['index'] += 1\n",
    "grouped"
   ]
  },
  {
   "cell_type": "code",
   "execution_count": 49,
   "metadata": {},
   "outputs": [
    {
     "data": {
      "text/plain": [
       "dict_keys(['index', 'columns', 'data'])"
      ]
     },
     "execution_count": 49,
     "metadata": {},
     "output_type": "execute_result"
    }
   ],
   "source": [
    "dict_ = grouped.to_dict(orient='split')\n",
    "dict_.keys()"
   ]
  },
  {
   "cell_type": "code",
   "execution_count": 50,
   "metadata": {},
   "outputs": [
    {
     "data": {
      "text/plain": [
       "{'data': [[1, 'GasA'], [2, 'GasW'], [3, 'Grav'], [4, 'Wall']]}"
      ]
     },
     "execution_count": 50,
     "metadata": {},
     "output_type": "execute_result"
    }
   ],
   "source": [
    "dict_.pop('index')\n",
    "dict_.pop('columns')\n",
    "dict_"
   ]
  },
  {
   "cell_type": "code",
   "execution_count": 51,
   "metadata": {},
   "outputs": [
    {
     "data": {
      "text/plain": [
       "{'GasA': 1, 'GasW': 2, 'Grav': 3, 'Wall': 4}"
      ]
     },
     "execution_count": 51,
     "metadata": {},
     "output_type": "execute_result"
    }
   ],
   "source": [
    "dict__ = {}\n",
    "\n",
    "for line in dict_['data']:\n",
    "    #print(line[1], ' : ', line[0])\n",
    "    dict__[line[1]] = line[0]\n",
    "\n",
    "dict__"
   ]
  },
  {
   "cell_type": "code",
   "execution_count": 52,
   "metadata": {},
   "outputs": [
    {
     "data": {
      "text/plain": [
       "array([1, 2, 3, 4])"
      ]
     },
     "execution_count": 52,
     "metadata": {},
     "output_type": "execute_result"
    }
   ],
   "source": [
    "df_copy[column] = df_copy[column].replace(dict__)\n",
    "#df_copy[column] = df_copy[column].astype('int64')\n",
    "df_copy[column].unique()"
   ]
  },
  {
   "cell_type": "markdown",
   "metadata": {},
   "source": [
    "## Diccionario `HeatingQC`"
   ]
  },
  {
   "cell_type": "code",
   "execution_count": 53,
   "metadata": {},
   "outputs": [],
   "source": [
    "column = 'HeatingQC'"
   ]
  },
  {
   "cell_type": "code",
   "execution_count": 54,
   "metadata": {},
   "outputs": [
    {
     "data": {
      "text/html": [
       "<div>\n",
       "<style scoped>\n",
       "    .dataframe tbody tr th:only-of-type {\n",
       "        vertical-align: middle;\n",
       "    }\n",
       "\n",
       "    .dataframe tbody tr th {\n",
       "        vertical-align: top;\n",
       "    }\n",
       "\n",
       "    .dataframe thead th {\n",
       "        text-align: right;\n",
       "    }\n",
       "</style>\n",
       "<table border=\"1\" class=\"dataframe\">\n",
       "  <thead>\n",
       "    <tr style=\"text-align: right;\">\n",
       "      <th></th>\n",
       "      <th>0</th>\n",
       "    </tr>\n",
       "  </thead>\n",
       "  <tbody>\n",
       "    <tr>\n",
       "      <th>0</th>\n",
       "      <td>TA</td>\n",
       "    </tr>\n",
       "    <tr>\n",
       "      <th>1</th>\n",
       "      <td>Gd</td>\n",
       "    </tr>\n",
       "    <tr>\n",
       "      <th>2</th>\n",
       "      <td>Ex</td>\n",
       "    </tr>\n",
       "    <tr>\n",
       "      <th>3</th>\n",
       "      <td>Fa</td>\n",
       "    </tr>\n",
       "    <tr>\n",
       "      <th>4</th>\n",
       "      <td>Po</td>\n",
       "    </tr>\n",
       "  </tbody>\n",
       "</table>\n",
       "</div>"
      ],
      "text/plain": [
       "    0\n",
       "0  TA\n",
       "1  Gd\n",
       "2  Ex\n",
       "3  Fa\n",
       "4  Po"
      ]
     },
     "execution_count": 54,
     "metadata": {},
     "output_type": "execute_result"
    }
   ],
   "source": [
    "grouped = pd.DataFrame(df_copy[column].dropna().unique())\n",
    "grouped.head()"
   ]
  },
  {
   "cell_type": "code",
   "execution_count": 55,
   "metadata": {},
   "outputs": [
    {
     "data": {
      "text/plain": [
       "Index(['index', 0], dtype='object')"
      ]
     },
     "execution_count": 55,
     "metadata": {},
     "output_type": "execute_result"
    }
   ],
   "source": [
    "grouped.reset_index(inplace=True)\n",
    "grouped.columns"
   ]
  },
  {
   "cell_type": "code",
   "execution_count": 56,
   "metadata": {},
   "outputs": [
    {
     "data": {
      "text/plain": [
       "Index(['index', 'Key'], dtype='object')"
      ]
     },
     "execution_count": 56,
     "metadata": {},
     "output_type": "execute_result"
    }
   ],
   "source": [
    "grouped.rename(columns={0: 'Key'}, inplace=True)\n",
    "grouped.columns"
   ]
  },
  {
   "cell_type": "code",
   "execution_count": 57,
   "metadata": {},
   "outputs": [
    {
     "data": {
      "text/plain": [
       "(5, 2)"
      ]
     },
     "execution_count": 57,
     "metadata": {},
     "output_type": "execute_result"
    }
   ],
   "source": [
    "grouped.shape"
   ]
  },
  {
   "cell_type": "code",
   "execution_count": 58,
   "metadata": {},
   "outputs": [
    {
     "data": {
      "text/html": [
       "<div>\n",
       "<style scoped>\n",
       "    .dataframe tbody tr th:only-of-type {\n",
       "        vertical-align: middle;\n",
       "    }\n",
       "\n",
       "    .dataframe tbody tr th {\n",
       "        vertical-align: top;\n",
       "    }\n",
       "\n",
       "    .dataframe thead th {\n",
       "        text-align: right;\n",
       "    }\n",
       "</style>\n",
       "<table border=\"1\" class=\"dataframe\">\n",
       "  <thead>\n",
       "    <tr style=\"text-align: right;\">\n",
       "      <th></th>\n",
       "      <th>index</th>\n",
       "      <th>Key</th>\n",
       "    </tr>\n",
       "  </thead>\n",
       "  <tbody>\n",
       "    <tr>\n",
       "      <th>0</th>\n",
       "      <td>1</td>\n",
       "      <td>TA</td>\n",
       "    </tr>\n",
       "    <tr>\n",
       "      <th>1</th>\n",
       "      <td>2</td>\n",
       "      <td>Gd</td>\n",
       "    </tr>\n",
       "    <tr>\n",
       "      <th>2</th>\n",
       "      <td>3</td>\n",
       "      <td>Ex</td>\n",
       "    </tr>\n",
       "    <tr>\n",
       "      <th>3</th>\n",
       "      <td>4</td>\n",
       "      <td>Fa</td>\n",
       "    </tr>\n",
       "    <tr>\n",
       "      <th>4</th>\n",
       "      <td>5</td>\n",
       "      <td>Po</td>\n",
       "    </tr>\n",
       "  </tbody>\n",
       "</table>\n",
       "</div>"
      ],
      "text/plain": [
       "   index Key\n",
       "0      1  TA\n",
       "1      2  Gd\n",
       "2      3  Ex\n",
       "3      4  Fa\n",
       "4      5  Po"
      ]
     },
     "execution_count": 58,
     "metadata": {},
     "output_type": "execute_result"
    }
   ],
   "source": [
    "grouped['index'] += 1\n",
    "grouped"
   ]
  },
  {
   "cell_type": "code",
   "execution_count": 59,
   "metadata": {},
   "outputs": [
    {
     "data": {
      "text/plain": [
       "dict_keys(['index', 'columns', 'data'])"
      ]
     },
     "execution_count": 59,
     "metadata": {},
     "output_type": "execute_result"
    }
   ],
   "source": [
    "dict_ = grouped.to_dict(orient='split')\n",
    "dict_.keys()"
   ]
  },
  {
   "cell_type": "code",
   "execution_count": 60,
   "metadata": {},
   "outputs": [
    {
     "data": {
      "text/plain": [
       "{'data': [[1, 'TA'], [2, 'Gd'], [3, 'Ex'], [4, 'Fa'], [5, 'Po']]}"
      ]
     },
     "execution_count": 60,
     "metadata": {},
     "output_type": "execute_result"
    }
   ],
   "source": [
    "dict_.pop('index')\n",
    "dict_.pop('columns')\n",
    "dict_"
   ]
  },
  {
   "cell_type": "code",
   "execution_count": 61,
   "metadata": {},
   "outputs": [
    {
     "data": {
      "text/plain": [
       "{'TA': 1, 'Gd': 2, 'Ex': 3, 'Fa': 4, 'Po': 5}"
      ]
     },
     "execution_count": 61,
     "metadata": {},
     "output_type": "execute_result"
    }
   ],
   "source": [
    "dict__ = {}\n",
    "\n",
    "for line in dict_['data']:\n",
    "    #print(line[1], ' : ', line[0])\n",
    "    dict__[line[1]] = line[0]\n",
    "\n",
    "dict__"
   ]
  },
  {
   "cell_type": "code",
   "execution_count": 62,
   "metadata": {},
   "outputs": [
    {
     "data": {
      "text/plain": [
       "array([1, 2, 3, 4, 5])"
      ]
     },
     "execution_count": 62,
     "metadata": {},
     "output_type": "execute_result"
    }
   ],
   "source": [
    "df_copy[column] = df_copy[column].replace(dict__)\n",
    "#df_copy[column] = df_copy[column].astype('int64')\n",
    "df_copy[column].unique()"
   ]
  },
  {
   "cell_type": "markdown",
   "metadata": {},
   "source": [
    "## Diccionario `CentralAir`"
   ]
  },
  {
   "cell_type": "code",
   "execution_count": 63,
   "metadata": {},
   "outputs": [],
   "source": [
    "column = 'CentralAir'"
   ]
  },
  {
   "cell_type": "code",
   "execution_count": 64,
   "metadata": {},
   "outputs": [
    {
     "data": {
      "text/html": [
       "<div>\n",
       "<style scoped>\n",
       "    .dataframe tbody tr th:only-of-type {\n",
       "        vertical-align: middle;\n",
       "    }\n",
       "\n",
       "    .dataframe tbody tr th {\n",
       "        vertical-align: top;\n",
       "    }\n",
       "\n",
       "    .dataframe thead th {\n",
       "        text-align: right;\n",
       "    }\n",
       "</style>\n",
       "<table border=\"1\" class=\"dataframe\">\n",
       "  <thead>\n",
       "    <tr style=\"text-align: right;\">\n",
       "      <th></th>\n",
       "      <th>0</th>\n",
       "    </tr>\n",
       "  </thead>\n",
       "  <tbody>\n",
       "    <tr>\n",
       "      <th>0</th>\n",
       "      <td>Y</td>\n",
       "    </tr>\n",
       "    <tr>\n",
       "      <th>1</th>\n",
       "      <td>N</td>\n",
       "    </tr>\n",
       "  </tbody>\n",
       "</table>\n",
       "</div>"
      ],
      "text/plain": [
       "   0\n",
       "0  Y\n",
       "1  N"
      ]
     },
     "execution_count": 64,
     "metadata": {},
     "output_type": "execute_result"
    }
   ],
   "source": [
    "grouped = pd.DataFrame(df_copy[column].dropna().unique())\n",
    "grouped.head()"
   ]
  },
  {
   "cell_type": "code",
   "execution_count": 65,
   "metadata": {},
   "outputs": [
    {
     "data": {
      "text/plain": [
       "Index(['index', 0], dtype='object')"
      ]
     },
     "execution_count": 65,
     "metadata": {},
     "output_type": "execute_result"
    }
   ],
   "source": [
    "grouped.reset_index(inplace=True)\n",
    "grouped.columns"
   ]
  },
  {
   "cell_type": "code",
   "execution_count": 66,
   "metadata": {},
   "outputs": [
    {
     "data": {
      "text/plain": [
       "Index(['index', 'Key'], dtype='object')"
      ]
     },
     "execution_count": 66,
     "metadata": {},
     "output_type": "execute_result"
    }
   ],
   "source": [
    "grouped.rename(columns={0: 'Key'}, inplace=True)\n",
    "grouped.columns"
   ]
  },
  {
   "cell_type": "code",
   "execution_count": 67,
   "metadata": {},
   "outputs": [
    {
     "data": {
      "text/plain": [
       "(2, 2)"
      ]
     },
     "execution_count": 67,
     "metadata": {},
     "output_type": "execute_result"
    }
   ],
   "source": [
    "grouped.shape"
   ]
  },
  {
   "cell_type": "code",
   "execution_count": 68,
   "metadata": {},
   "outputs": [
    {
     "data": {
      "text/html": [
       "<div>\n",
       "<style scoped>\n",
       "    .dataframe tbody tr th:only-of-type {\n",
       "        vertical-align: middle;\n",
       "    }\n",
       "\n",
       "    .dataframe tbody tr th {\n",
       "        vertical-align: top;\n",
       "    }\n",
       "\n",
       "    .dataframe thead th {\n",
       "        text-align: right;\n",
       "    }\n",
       "</style>\n",
       "<table border=\"1\" class=\"dataframe\">\n",
       "  <thead>\n",
       "    <tr style=\"text-align: right;\">\n",
       "      <th></th>\n",
       "      <th>index</th>\n",
       "      <th>Key</th>\n",
       "    </tr>\n",
       "  </thead>\n",
       "  <tbody>\n",
       "    <tr>\n",
       "      <th>0</th>\n",
       "      <td>1</td>\n",
       "      <td>Y</td>\n",
       "    </tr>\n",
       "    <tr>\n",
       "      <th>1</th>\n",
       "      <td>2</td>\n",
       "      <td>N</td>\n",
       "    </tr>\n",
       "  </tbody>\n",
       "</table>\n",
       "</div>"
      ],
      "text/plain": [
       "   index Key\n",
       "0      1   Y\n",
       "1      2   N"
      ]
     },
     "execution_count": 68,
     "metadata": {},
     "output_type": "execute_result"
    }
   ],
   "source": [
    "grouped['index'] += 1\n",
    "grouped"
   ]
  },
  {
   "cell_type": "code",
   "execution_count": 69,
   "metadata": {},
   "outputs": [
    {
     "data": {
      "text/plain": [
       "dict_keys(['index', 'columns', 'data'])"
      ]
     },
     "execution_count": 69,
     "metadata": {},
     "output_type": "execute_result"
    }
   ],
   "source": [
    "dict_ = grouped.to_dict(orient='split')\n",
    "dict_.keys()"
   ]
  },
  {
   "cell_type": "code",
   "execution_count": 70,
   "metadata": {},
   "outputs": [
    {
     "data": {
      "text/plain": [
       "{'data': [[1, 'Y'], [2, 'N']]}"
      ]
     },
     "execution_count": 70,
     "metadata": {},
     "output_type": "execute_result"
    }
   ],
   "source": [
    "dict_.pop('index')\n",
    "dict_.pop('columns')\n",
    "dict_"
   ]
  },
  {
   "cell_type": "code",
   "execution_count": 71,
   "metadata": {},
   "outputs": [
    {
     "data": {
      "text/plain": [
       "{'Y': 1, 'N': 2}"
      ]
     },
     "execution_count": 71,
     "metadata": {},
     "output_type": "execute_result"
    }
   ],
   "source": [
    "dict__ = {}\n",
    "\n",
    "for line in dict_['data']:\n",
    "    #print(line[1], ' : ', line[0])\n",
    "    dict__[line[1]] = line[0]\n",
    "\n",
    "dict__"
   ]
  },
  {
   "cell_type": "code",
   "execution_count": 72,
   "metadata": {},
   "outputs": [
    {
     "data": {
      "text/plain": [
       "array([1, 2])"
      ]
     },
     "execution_count": 72,
     "metadata": {},
     "output_type": "execute_result"
    }
   ],
   "source": [
    "df_copy[column] = df_copy[column].replace(dict__)\n",
    "#df_copy[column] = df_copy[column].astype('int64')\n",
    "df_copy[column].unique()"
   ]
  },
  {
   "cell_type": "markdown",
   "metadata": {},
   "source": [
    "## Diccionario `Electrical`"
   ]
  },
  {
   "cell_type": "code",
   "execution_count": 73,
   "metadata": {},
   "outputs": [],
   "source": [
    "column = 'Electrical'"
   ]
  },
  {
   "cell_type": "code",
   "execution_count": 74,
   "metadata": {},
   "outputs": [
    {
     "data": {
      "text/html": [
       "<div>\n",
       "<style scoped>\n",
       "    .dataframe tbody tr th:only-of-type {\n",
       "        vertical-align: middle;\n",
       "    }\n",
       "\n",
       "    .dataframe tbody tr th {\n",
       "        vertical-align: top;\n",
       "    }\n",
       "\n",
       "    .dataframe thead th {\n",
       "        text-align: right;\n",
       "    }\n",
       "</style>\n",
       "<table border=\"1\" class=\"dataframe\">\n",
       "  <thead>\n",
       "    <tr style=\"text-align: right;\">\n",
       "      <th></th>\n",
       "      <th>0</th>\n",
       "    </tr>\n",
       "  </thead>\n",
       "  <tbody>\n",
       "    <tr>\n",
       "      <th>0</th>\n",
       "      <td>SBrkr</td>\n",
       "    </tr>\n",
       "    <tr>\n",
       "      <th>1</th>\n",
       "      <td>FuseA</td>\n",
       "    </tr>\n",
       "    <tr>\n",
       "      <th>2</th>\n",
       "      <td>FuseF</td>\n",
       "    </tr>\n",
       "    <tr>\n",
       "      <th>3</th>\n",
       "      <td>FuseP</td>\n",
       "    </tr>\n",
       "  </tbody>\n",
       "</table>\n",
       "</div>"
      ],
      "text/plain": [
       "       0\n",
       "0  SBrkr\n",
       "1  FuseA\n",
       "2  FuseF\n",
       "3  FuseP"
      ]
     },
     "execution_count": 74,
     "metadata": {},
     "output_type": "execute_result"
    }
   ],
   "source": [
    "grouped = pd.DataFrame(df_copy[column].dropna().unique())\n",
    "grouped.head()"
   ]
  },
  {
   "cell_type": "code",
   "execution_count": 75,
   "metadata": {},
   "outputs": [
    {
     "data": {
      "text/plain": [
       "Index(['index', 0], dtype='object')"
      ]
     },
     "execution_count": 75,
     "metadata": {},
     "output_type": "execute_result"
    }
   ],
   "source": [
    "grouped.reset_index(inplace=True)\n",
    "grouped.columns"
   ]
  },
  {
   "cell_type": "code",
   "execution_count": 76,
   "metadata": {},
   "outputs": [
    {
     "data": {
      "text/plain": [
       "Index(['index', 'Key'], dtype='object')"
      ]
     },
     "execution_count": 76,
     "metadata": {},
     "output_type": "execute_result"
    }
   ],
   "source": [
    "grouped.rename(columns={0: 'Key'}, inplace=True)\n",
    "grouped.columns"
   ]
  },
  {
   "cell_type": "code",
   "execution_count": 77,
   "metadata": {},
   "outputs": [
    {
     "data": {
      "text/plain": [
       "(4, 2)"
      ]
     },
     "execution_count": 77,
     "metadata": {},
     "output_type": "execute_result"
    }
   ],
   "source": [
    "grouped.shape"
   ]
  },
  {
   "cell_type": "code",
   "execution_count": 78,
   "metadata": {},
   "outputs": [
    {
     "data": {
      "text/html": [
       "<div>\n",
       "<style scoped>\n",
       "    .dataframe tbody tr th:only-of-type {\n",
       "        vertical-align: middle;\n",
       "    }\n",
       "\n",
       "    .dataframe tbody tr th {\n",
       "        vertical-align: top;\n",
       "    }\n",
       "\n",
       "    .dataframe thead th {\n",
       "        text-align: right;\n",
       "    }\n",
       "</style>\n",
       "<table border=\"1\" class=\"dataframe\">\n",
       "  <thead>\n",
       "    <tr style=\"text-align: right;\">\n",
       "      <th></th>\n",
       "      <th>index</th>\n",
       "      <th>Key</th>\n",
       "    </tr>\n",
       "  </thead>\n",
       "  <tbody>\n",
       "    <tr>\n",
       "      <th>0</th>\n",
       "      <td>1</td>\n",
       "      <td>SBrkr</td>\n",
       "    </tr>\n",
       "    <tr>\n",
       "      <th>1</th>\n",
       "      <td>2</td>\n",
       "      <td>FuseA</td>\n",
       "    </tr>\n",
       "    <tr>\n",
       "      <th>2</th>\n",
       "      <td>3</td>\n",
       "      <td>FuseF</td>\n",
       "    </tr>\n",
       "    <tr>\n",
       "      <th>3</th>\n",
       "      <td>4</td>\n",
       "      <td>FuseP</td>\n",
       "    </tr>\n",
       "  </tbody>\n",
       "</table>\n",
       "</div>"
      ],
      "text/plain": [
       "   index    Key\n",
       "0      1  SBrkr\n",
       "1      2  FuseA\n",
       "2      3  FuseF\n",
       "3      4  FuseP"
      ]
     },
     "execution_count": 78,
     "metadata": {},
     "output_type": "execute_result"
    }
   ],
   "source": [
    "grouped['index'] += 1\n",
    "grouped"
   ]
  },
  {
   "cell_type": "code",
   "execution_count": 79,
   "metadata": {},
   "outputs": [
    {
     "data": {
      "text/plain": [
       "dict_keys(['index', 'columns', 'data'])"
      ]
     },
     "execution_count": 79,
     "metadata": {},
     "output_type": "execute_result"
    }
   ],
   "source": [
    "dict_ = grouped.to_dict(orient='split')\n",
    "dict_.keys()"
   ]
  },
  {
   "cell_type": "code",
   "execution_count": 80,
   "metadata": {},
   "outputs": [
    {
     "data": {
      "text/plain": [
       "{'data': [[1, 'SBrkr'], [2, 'FuseA'], [3, 'FuseF'], [4, 'FuseP']]}"
      ]
     },
     "execution_count": 80,
     "metadata": {},
     "output_type": "execute_result"
    }
   ],
   "source": [
    "dict_.pop('index')\n",
    "dict_.pop('columns')\n",
    "dict_"
   ]
  },
  {
   "cell_type": "code",
   "execution_count": 81,
   "metadata": {},
   "outputs": [
    {
     "data": {
      "text/plain": [
       "{'SBrkr': 1, 'FuseA': 2, 'FuseF': 3, 'FuseP': 4}"
      ]
     },
     "execution_count": 81,
     "metadata": {},
     "output_type": "execute_result"
    }
   ],
   "source": [
    "dict__ = {}\n",
    "\n",
    "for line in dict_['data']:\n",
    "    #print(line[1], ' : ', line[0])\n",
    "    dict__[line[1]] = line[0]\n",
    "\n",
    "dict__"
   ]
  },
  {
   "cell_type": "code",
   "execution_count": 82,
   "metadata": {},
   "outputs": [
    {
     "data": {
      "text/plain": [
       "array([1, 2, 3, 4])"
      ]
     },
     "execution_count": 82,
     "metadata": {},
     "output_type": "execute_result"
    }
   ],
   "source": [
    "df_copy[column] = df_copy[column].replace(dict__)\n",
    "#df_copy[column] = df_copy[column].astype('int64')\n",
    "df_copy[column].unique()"
   ]
  },
  {
   "cell_type": "markdown",
   "metadata": {},
   "source": [
    "## Diccionario `KitchenQual`"
   ]
  },
  {
   "cell_type": "code",
   "execution_count": 83,
   "metadata": {},
   "outputs": [],
   "source": [
    "column = 'KitchenQual'"
   ]
  },
  {
   "cell_type": "code",
   "execution_count": 84,
   "metadata": {},
   "outputs": [
    {
     "data": {
      "text/html": [
       "<div>\n",
       "<style scoped>\n",
       "    .dataframe tbody tr th:only-of-type {\n",
       "        vertical-align: middle;\n",
       "    }\n",
       "\n",
       "    .dataframe tbody tr th {\n",
       "        vertical-align: top;\n",
       "    }\n",
       "\n",
       "    .dataframe thead th {\n",
       "        text-align: right;\n",
       "    }\n",
       "</style>\n",
       "<table border=\"1\" class=\"dataframe\">\n",
       "  <thead>\n",
       "    <tr style=\"text-align: right;\">\n",
       "      <th></th>\n",
       "      <th>0</th>\n",
       "    </tr>\n",
       "  </thead>\n",
       "  <tbody>\n",
       "    <tr>\n",
       "      <th>0</th>\n",
       "      <td>TA</td>\n",
       "    </tr>\n",
       "    <tr>\n",
       "      <th>1</th>\n",
       "      <td>Gd</td>\n",
       "    </tr>\n",
       "    <tr>\n",
       "      <th>2</th>\n",
       "      <td>Ex</td>\n",
       "    </tr>\n",
       "    <tr>\n",
       "      <th>3</th>\n",
       "      <td>Fa</td>\n",
       "    </tr>\n",
       "  </tbody>\n",
       "</table>\n",
       "</div>"
      ],
      "text/plain": [
       "    0\n",
       "0  TA\n",
       "1  Gd\n",
       "2  Ex\n",
       "3  Fa"
      ]
     },
     "execution_count": 84,
     "metadata": {},
     "output_type": "execute_result"
    }
   ],
   "source": [
    "grouped = pd.DataFrame(df_copy[column].dropna().unique())\n",
    "grouped.head()"
   ]
  },
  {
   "cell_type": "code",
   "execution_count": 85,
   "metadata": {},
   "outputs": [
    {
     "data": {
      "text/plain": [
       "Index(['index', 0], dtype='object')"
      ]
     },
     "execution_count": 85,
     "metadata": {},
     "output_type": "execute_result"
    }
   ],
   "source": [
    "grouped.reset_index(inplace=True)\n",
    "grouped.columns"
   ]
  },
  {
   "cell_type": "code",
   "execution_count": 86,
   "metadata": {},
   "outputs": [
    {
     "data": {
      "text/plain": [
       "Index(['index', 'Key'], dtype='object')"
      ]
     },
     "execution_count": 86,
     "metadata": {},
     "output_type": "execute_result"
    }
   ],
   "source": [
    "grouped.rename(columns={0: 'Key'}, inplace=True)\n",
    "grouped.columns"
   ]
  },
  {
   "cell_type": "code",
   "execution_count": 87,
   "metadata": {},
   "outputs": [
    {
     "data": {
      "text/plain": [
       "(4, 2)"
      ]
     },
     "execution_count": 87,
     "metadata": {},
     "output_type": "execute_result"
    }
   ],
   "source": [
    "grouped.shape"
   ]
  },
  {
   "cell_type": "code",
   "execution_count": 88,
   "metadata": {},
   "outputs": [
    {
     "data": {
      "text/html": [
       "<div>\n",
       "<style scoped>\n",
       "    .dataframe tbody tr th:only-of-type {\n",
       "        vertical-align: middle;\n",
       "    }\n",
       "\n",
       "    .dataframe tbody tr th {\n",
       "        vertical-align: top;\n",
       "    }\n",
       "\n",
       "    .dataframe thead th {\n",
       "        text-align: right;\n",
       "    }\n",
       "</style>\n",
       "<table border=\"1\" class=\"dataframe\">\n",
       "  <thead>\n",
       "    <tr style=\"text-align: right;\">\n",
       "      <th></th>\n",
       "      <th>index</th>\n",
       "      <th>Key</th>\n",
       "    </tr>\n",
       "  </thead>\n",
       "  <tbody>\n",
       "    <tr>\n",
       "      <th>0</th>\n",
       "      <td>1</td>\n",
       "      <td>TA</td>\n",
       "    </tr>\n",
       "    <tr>\n",
       "      <th>1</th>\n",
       "      <td>2</td>\n",
       "      <td>Gd</td>\n",
       "    </tr>\n",
       "    <tr>\n",
       "      <th>2</th>\n",
       "      <td>3</td>\n",
       "      <td>Ex</td>\n",
       "    </tr>\n",
       "    <tr>\n",
       "      <th>3</th>\n",
       "      <td>4</td>\n",
       "      <td>Fa</td>\n",
       "    </tr>\n",
       "  </tbody>\n",
       "</table>\n",
       "</div>"
      ],
      "text/plain": [
       "   index Key\n",
       "0      1  TA\n",
       "1      2  Gd\n",
       "2      3  Ex\n",
       "3      4  Fa"
      ]
     },
     "execution_count": 88,
     "metadata": {},
     "output_type": "execute_result"
    }
   ],
   "source": [
    "grouped['index'] += 1\n",
    "grouped"
   ]
  },
  {
   "cell_type": "code",
   "execution_count": 89,
   "metadata": {},
   "outputs": [
    {
     "data": {
      "text/plain": [
       "dict_keys(['index', 'columns', 'data'])"
      ]
     },
     "execution_count": 89,
     "metadata": {},
     "output_type": "execute_result"
    }
   ],
   "source": [
    "dict_ = grouped.to_dict(orient='split')\n",
    "dict_.keys()"
   ]
  },
  {
   "cell_type": "code",
   "execution_count": 90,
   "metadata": {},
   "outputs": [
    {
     "data": {
      "text/plain": [
       "{'data': [[1, 'TA'], [2, 'Gd'], [3, 'Ex'], [4, 'Fa']]}"
      ]
     },
     "execution_count": 90,
     "metadata": {},
     "output_type": "execute_result"
    }
   ],
   "source": [
    "dict_.pop('index')\n",
    "dict_.pop('columns')\n",
    "dict_"
   ]
  },
  {
   "cell_type": "code",
   "execution_count": 91,
   "metadata": {},
   "outputs": [
    {
     "data": {
      "text/plain": [
       "{'TA': 1, 'Gd': 2, 'Ex': 3, 'Fa': 4}"
      ]
     },
     "execution_count": 91,
     "metadata": {},
     "output_type": "execute_result"
    }
   ],
   "source": [
    "dict__ = {}\n",
    "\n",
    "for line in dict_['data']:\n",
    "    #print(line[1], ' : ', line[0])\n",
    "    dict__[line[1]] = line[0]\n",
    "\n",
    "dict__"
   ]
  },
  {
   "cell_type": "code",
   "execution_count": 92,
   "metadata": {},
   "outputs": [
    {
     "data": {
      "text/plain": [
       "array([ 1.,  2.,  3.,  4., nan])"
      ]
     },
     "execution_count": 92,
     "metadata": {},
     "output_type": "execute_result"
    }
   ],
   "source": [
    "df_copy[column] = df_copy[column].replace(dict__)\n",
    "#df_copy[column] = df_copy[column].astype('int64')\n",
    "df_copy[column].unique()"
   ]
  },
  {
   "cell_type": "markdown",
   "metadata": {},
   "source": [
    "## Diccionario `Functional`"
   ]
  },
  {
   "cell_type": "code",
   "execution_count": 93,
   "metadata": {},
   "outputs": [],
   "source": [
    "column = 'Functional'"
   ]
  },
  {
   "cell_type": "code",
   "execution_count": 94,
   "metadata": {},
   "outputs": [
    {
     "data": {
      "text/html": [
       "<div>\n",
       "<style scoped>\n",
       "    .dataframe tbody tr th:only-of-type {\n",
       "        vertical-align: middle;\n",
       "    }\n",
       "\n",
       "    .dataframe tbody tr th {\n",
       "        vertical-align: top;\n",
       "    }\n",
       "\n",
       "    .dataframe thead th {\n",
       "        text-align: right;\n",
       "    }\n",
       "</style>\n",
       "<table border=\"1\" class=\"dataframe\">\n",
       "  <thead>\n",
       "    <tr style=\"text-align: right;\">\n",
       "      <th></th>\n",
       "      <th>0</th>\n",
       "    </tr>\n",
       "  </thead>\n",
       "  <tbody>\n",
       "    <tr>\n",
       "      <th>0</th>\n",
       "      <td>Typ</td>\n",
       "    </tr>\n",
       "    <tr>\n",
       "      <th>1</th>\n",
       "      <td>Min2</td>\n",
       "    </tr>\n",
       "    <tr>\n",
       "      <th>2</th>\n",
       "      <td>Min1</td>\n",
       "    </tr>\n",
       "    <tr>\n",
       "      <th>3</th>\n",
       "      <td>Mod</td>\n",
       "    </tr>\n",
       "    <tr>\n",
       "      <th>4</th>\n",
       "      <td>Maj1</td>\n",
       "    </tr>\n",
       "  </tbody>\n",
       "</table>\n",
       "</div>"
      ],
      "text/plain": [
       "      0\n",
       "0   Typ\n",
       "1  Min2\n",
       "2  Min1\n",
       "3   Mod\n",
       "4  Maj1"
      ]
     },
     "execution_count": 94,
     "metadata": {},
     "output_type": "execute_result"
    }
   ],
   "source": [
    "grouped = pd.DataFrame(df_copy[column].dropna().unique())\n",
    "grouped.head()"
   ]
  },
  {
   "cell_type": "code",
   "execution_count": 95,
   "metadata": {},
   "outputs": [
    {
     "data": {
      "text/plain": [
       "Index(['index', 0], dtype='object')"
      ]
     },
     "execution_count": 95,
     "metadata": {},
     "output_type": "execute_result"
    }
   ],
   "source": [
    "grouped.reset_index(inplace=True)\n",
    "grouped.columns"
   ]
  },
  {
   "cell_type": "code",
   "execution_count": 96,
   "metadata": {},
   "outputs": [
    {
     "data": {
      "text/plain": [
       "Index(['index', 'Key'], dtype='object')"
      ]
     },
     "execution_count": 96,
     "metadata": {},
     "output_type": "execute_result"
    }
   ],
   "source": [
    "grouped.rename(columns={0: 'Key'}, inplace=True)\n",
    "grouped.columns"
   ]
  },
  {
   "cell_type": "code",
   "execution_count": 97,
   "metadata": {},
   "outputs": [
    {
     "data": {
      "text/plain": [
       "(7, 2)"
      ]
     },
     "execution_count": 97,
     "metadata": {},
     "output_type": "execute_result"
    }
   ],
   "source": [
    "grouped.shape"
   ]
  },
  {
   "cell_type": "code",
   "execution_count": 98,
   "metadata": {},
   "outputs": [
    {
     "data": {
      "text/html": [
       "<div>\n",
       "<style scoped>\n",
       "    .dataframe tbody tr th:only-of-type {\n",
       "        vertical-align: middle;\n",
       "    }\n",
       "\n",
       "    .dataframe tbody tr th {\n",
       "        vertical-align: top;\n",
       "    }\n",
       "\n",
       "    .dataframe thead th {\n",
       "        text-align: right;\n",
       "    }\n",
       "</style>\n",
       "<table border=\"1\" class=\"dataframe\">\n",
       "  <thead>\n",
       "    <tr style=\"text-align: right;\">\n",
       "      <th></th>\n",
       "      <th>index</th>\n",
       "      <th>Key</th>\n",
       "    </tr>\n",
       "  </thead>\n",
       "  <tbody>\n",
       "    <tr>\n",
       "      <th>0</th>\n",
       "      <td>1</td>\n",
       "      <td>Typ</td>\n",
       "    </tr>\n",
       "    <tr>\n",
       "      <th>1</th>\n",
       "      <td>2</td>\n",
       "      <td>Min2</td>\n",
       "    </tr>\n",
       "    <tr>\n",
       "      <th>2</th>\n",
       "      <td>3</td>\n",
       "      <td>Min1</td>\n",
       "    </tr>\n",
       "    <tr>\n",
       "      <th>3</th>\n",
       "      <td>4</td>\n",
       "      <td>Mod</td>\n",
       "    </tr>\n",
       "    <tr>\n",
       "      <th>4</th>\n",
       "      <td>5</td>\n",
       "      <td>Maj1</td>\n",
       "    </tr>\n",
       "    <tr>\n",
       "      <th>5</th>\n",
       "      <td>6</td>\n",
       "      <td>Sev</td>\n",
       "    </tr>\n",
       "    <tr>\n",
       "      <th>6</th>\n",
       "      <td>7</td>\n",
       "      <td>Maj2</td>\n",
       "    </tr>\n",
       "  </tbody>\n",
       "</table>\n",
       "</div>"
      ],
      "text/plain": [
       "   index   Key\n",
       "0      1   Typ\n",
       "1      2  Min2\n",
       "2      3  Min1\n",
       "3      4   Mod\n",
       "4      5  Maj1\n",
       "5      6   Sev\n",
       "6      7  Maj2"
      ]
     },
     "execution_count": 98,
     "metadata": {},
     "output_type": "execute_result"
    }
   ],
   "source": [
    "grouped['index'] += 1\n",
    "grouped"
   ]
  },
  {
   "cell_type": "code",
   "execution_count": 99,
   "metadata": {},
   "outputs": [
    {
     "data": {
      "text/plain": [
       "dict_keys(['index', 'columns', 'data'])"
      ]
     },
     "execution_count": 99,
     "metadata": {},
     "output_type": "execute_result"
    }
   ],
   "source": [
    "dict_ = grouped.to_dict(orient='split')\n",
    "dict_.keys()"
   ]
  },
  {
   "cell_type": "code",
   "execution_count": 100,
   "metadata": {},
   "outputs": [
    {
     "data": {
      "text/plain": [
       "{'data': [[1, 'Typ'],\n",
       "  [2, 'Min2'],\n",
       "  [3, 'Min1'],\n",
       "  [4, 'Mod'],\n",
       "  [5, 'Maj1'],\n",
       "  [6, 'Sev'],\n",
       "  [7, 'Maj2']]}"
      ]
     },
     "execution_count": 100,
     "metadata": {},
     "output_type": "execute_result"
    }
   ],
   "source": [
    "dict_.pop('index')\n",
    "dict_.pop('columns')\n",
    "dict_"
   ]
  },
  {
   "cell_type": "code",
   "execution_count": 101,
   "metadata": {},
   "outputs": [
    {
     "data": {
      "text/plain": [
       "{'Typ': 1, 'Min2': 2, 'Min1': 3, 'Mod': 4, 'Maj1': 5, 'Sev': 6, 'Maj2': 7}"
      ]
     },
     "execution_count": 101,
     "metadata": {},
     "output_type": "execute_result"
    }
   ],
   "source": [
    "dict__ = {}\n",
    "\n",
    "for line in dict_['data']:\n",
    "    #print(line[1], ' : ', line[0])\n",
    "    dict__[line[1]] = line[0]\n",
    "\n",
    "dict__"
   ]
  },
  {
   "cell_type": "code",
   "execution_count": 102,
   "metadata": {},
   "outputs": [
    {
     "data": {
      "text/plain": [
       "array([ 1.,  2.,  3.,  4.,  5.,  6.,  7., nan])"
      ]
     },
     "execution_count": 102,
     "metadata": {},
     "output_type": "execute_result"
    }
   ],
   "source": [
    "df_copy[column] = df_copy[column].replace(dict__)\n",
    "#df_copy[column] = df_copy[column].astype('int64')\n",
    "df_copy[column].unique()"
   ]
  },
  {
   "cell_type": "markdown",
   "metadata": {},
   "source": [
    "## Diccionario `FireplaceQu`"
   ]
  },
  {
   "cell_type": "code",
   "execution_count": 103,
   "metadata": {},
   "outputs": [],
   "source": [
    "column = 'FireplaceQu'"
   ]
  },
  {
   "cell_type": "code",
   "execution_count": 104,
   "metadata": {},
   "outputs": [
    {
     "data": {
      "text/html": [
       "<div>\n",
       "<style scoped>\n",
       "    .dataframe tbody tr th:only-of-type {\n",
       "        vertical-align: middle;\n",
       "    }\n",
       "\n",
       "    .dataframe tbody tr th {\n",
       "        vertical-align: top;\n",
       "    }\n",
       "\n",
       "    .dataframe thead th {\n",
       "        text-align: right;\n",
       "    }\n",
       "</style>\n",
       "<table border=\"1\" class=\"dataframe\">\n",
       "  <thead>\n",
       "    <tr style=\"text-align: right;\">\n",
       "      <th></th>\n",
       "      <th>0</th>\n",
       "    </tr>\n",
       "  </thead>\n",
       "  <tbody>\n",
       "    <tr>\n",
       "      <th>0</th>\n",
       "      <td>TA</td>\n",
       "    </tr>\n",
       "    <tr>\n",
       "      <th>1</th>\n",
       "      <td>Gd</td>\n",
       "    </tr>\n",
       "    <tr>\n",
       "      <th>2</th>\n",
       "      <td>Po</td>\n",
       "    </tr>\n",
       "    <tr>\n",
       "      <th>3</th>\n",
       "      <td>Fa</td>\n",
       "    </tr>\n",
       "    <tr>\n",
       "      <th>4</th>\n",
       "      <td>Ex</td>\n",
       "    </tr>\n",
       "  </tbody>\n",
       "</table>\n",
       "</div>"
      ],
      "text/plain": [
       "    0\n",
       "0  TA\n",
       "1  Gd\n",
       "2  Po\n",
       "3  Fa\n",
       "4  Ex"
      ]
     },
     "execution_count": 104,
     "metadata": {},
     "output_type": "execute_result"
    }
   ],
   "source": [
    "grouped = pd.DataFrame(df_copy[column].dropna().unique())\n",
    "grouped.head()"
   ]
  },
  {
   "cell_type": "code",
   "execution_count": 105,
   "metadata": {},
   "outputs": [
    {
     "data": {
      "text/plain": [
       "Index(['index', 0], dtype='object')"
      ]
     },
     "execution_count": 105,
     "metadata": {},
     "output_type": "execute_result"
    }
   ],
   "source": [
    "grouped.reset_index(inplace=True)\n",
    "grouped.columns"
   ]
  },
  {
   "cell_type": "code",
   "execution_count": 106,
   "metadata": {},
   "outputs": [
    {
     "data": {
      "text/plain": [
       "Index(['index', 'Key'], dtype='object')"
      ]
     },
     "execution_count": 106,
     "metadata": {},
     "output_type": "execute_result"
    }
   ],
   "source": [
    "grouped.rename(columns={0: 'Key'}, inplace=True)\n",
    "grouped.columns"
   ]
  },
  {
   "cell_type": "code",
   "execution_count": 107,
   "metadata": {},
   "outputs": [
    {
     "data": {
      "text/plain": [
       "(5, 2)"
      ]
     },
     "execution_count": 107,
     "metadata": {},
     "output_type": "execute_result"
    }
   ],
   "source": [
    "grouped.shape"
   ]
  },
  {
   "cell_type": "code",
   "execution_count": 108,
   "metadata": {},
   "outputs": [
    {
     "data": {
      "text/html": [
       "<div>\n",
       "<style scoped>\n",
       "    .dataframe tbody tr th:only-of-type {\n",
       "        vertical-align: middle;\n",
       "    }\n",
       "\n",
       "    .dataframe tbody tr th {\n",
       "        vertical-align: top;\n",
       "    }\n",
       "\n",
       "    .dataframe thead th {\n",
       "        text-align: right;\n",
       "    }\n",
       "</style>\n",
       "<table border=\"1\" class=\"dataframe\">\n",
       "  <thead>\n",
       "    <tr style=\"text-align: right;\">\n",
       "      <th></th>\n",
       "      <th>index</th>\n",
       "      <th>Key</th>\n",
       "    </tr>\n",
       "  </thead>\n",
       "  <tbody>\n",
       "    <tr>\n",
       "      <th>0</th>\n",
       "      <td>1</td>\n",
       "      <td>TA</td>\n",
       "    </tr>\n",
       "    <tr>\n",
       "      <th>1</th>\n",
       "      <td>2</td>\n",
       "      <td>Gd</td>\n",
       "    </tr>\n",
       "    <tr>\n",
       "      <th>2</th>\n",
       "      <td>3</td>\n",
       "      <td>Po</td>\n",
       "    </tr>\n",
       "    <tr>\n",
       "      <th>3</th>\n",
       "      <td>4</td>\n",
       "      <td>Fa</td>\n",
       "    </tr>\n",
       "    <tr>\n",
       "      <th>4</th>\n",
       "      <td>5</td>\n",
       "      <td>Ex</td>\n",
       "    </tr>\n",
       "  </tbody>\n",
       "</table>\n",
       "</div>"
      ],
      "text/plain": [
       "   index Key\n",
       "0      1  TA\n",
       "1      2  Gd\n",
       "2      3  Po\n",
       "3      4  Fa\n",
       "4      5  Ex"
      ]
     },
     "execution_count": 108,
     "metadata": {},
     "output_type": "execute_result"
    }
   ],
   "source": [
    "grouped['index'] += 1\n",
    "grouped"
   ]
  },
  {
   "cell_type": "code",
   "execution_count": 109,
   "metadata": {},
   "outputs": [
    {
     "data": {
      "text/plain": [
       "dict_keys(['index', 'columns', 'data'])"
      ]
     },
     "execution_count": 109,
     "metadata": {},
     "output_type": "execute_result"
    }
   ],
   "source": [
    "dict_ = grouped.to_dict(orient='split')\n",
    "dict_.keys()"
   ]
  },
  {
   "cell_type": "code",
   "execution_count": 110,
   "metadata": {},
   "outputs": [
    {
     "data": {
      "text/plain": [
       "{'data': [[1, 'TA'], [2, 'Gd'], [3, 'Po'], [4, 'Fa'], [5, 'Ex']]}"
      ]
     },
     "execution_count": 110,
     "metadata": {},
     "output_type": "execute_result"
    }
   ],
   "source": [
    "dict_.pop('index')\n",
    "dict_.pop('columns')\n",
    "dict_"
   ]
  },
  {
   "cell_type": "code",
   "execution_count": 111,
   "metadata": {},
   "outputs": [
    {
     "data": {
      "text/plain": [
       "{'TA': 1, 'Gd': 2, 'Po': 3, 'Fa': 4, 'Ex': 5}"
      ]
     },
     "execution_count": 111,
     "metadata": {},
     "output_type": "execute_result"
    }
   ],
   "source": [
    "dict__ = {}\n",
    "\n",
    "for line in dict_['data']:\n",
    "    #print(line[1], ' : ', line[0])\n",
    "    dict__[line[1]] = line[0]\n",
    "\n",
    "dict__"
   ]
  },
  {
   "cell_type": "code",
   "execution_count": 112,
   "metadata": {},
   "outputs": [
    {
     "data": {
      "text/plain": [
       "array([nan,  1.,  2.,  3.,  4.,  5.])"
      ]
     },
     "execution_count": 112,
     "metadata": {},
     "output_type": "execute_result"
    }
   ],
   "source": [
    "df_copy[column] = df_copy[column].replace(dict__)\n",
    "#df_copy[column] = df_copy[column].astype('int64')\n",
    "df_copy[column].unique()"
   ]
  },
  {
   "cell_type": "markdown",
   "metadata": {},
   "source": [
    "## Diccionario `GarageType`"
   ]
  },
  {
   "cell_type": "code",
   "execution_count": 113,
   "metadata": {},
   "outputs": [],
   "source": [
    "column = 'GarageType'"
   ]
  },
  {
   "cell_type": "code",
   "execution_count": 114,
   "metadata": {},
   "outputs": [
    {
     "data": {
      "text/html": [
       "<div>\n",
       "<style scoped>\n",
       "    .dataframe tbody tr th:only-of-type {\n",
       "        vertical-align: middle;\n",
       "    }\n",
       "\n",
       "    .dataframe tbody tr th {\n",
       "        vertical-align: top;\n",
       "    }\n",
       "\n",
       "    .dataframe thead th {\n",
       "        text-align: right;\n",
       "    }\n",
       "</style>\n",
       "<table border=\"1\" class=\"dataframe\">\n",
       "  <thead>\n",
       "    <tr style=\"text-align: right;\">\n",
       "      <th></th>\n",
       "      <th>0</th>\n",
       "    </tr>\n",
       "  </thead>\n",
       "  <tbody>\n",
       "    <tr>\n",
       "      <th>0</th>\n",
       "      <td>Attchd</td>\n",
       "    </tr>\n",
       "    <tr>\n",
       "      <th>1</th>\n",
       "      <td>Detchd</td>\n",
       "    </tr>\n",
       "    <tr>\n",
       "      <th>2</th>\n",
       "      <td>BuiltIn</td>\n",
       "    </tr>\n",
       "    <tr>\n",
       "      <th>3</th>\n",
       "      <td>Basment</td>\n",
       "    </tr>\n",
       "    <tr>\n",
       "      <th>4</th>\n",
       "      <td>2Types</td>\n",
       "    </tr>\n",
       "  </tbody>\n",
       "</table>\n",
       "</div>"
      ],
      "text/plain": [
       "         0\n",
       "0   Attchd\n",
       "1   Detchd\n",
       "2  BuiltIn\n",
       "3  Basment\n",
       "4   2Types"
      ]
     },
     "execution_count": 114,
     "metadata": {},
     "output_type": "execute_result"
    }
   ],
   "source": [
    "grouped = pd.DataFrame(df_copy[column].dropna().unique())\n",
    "grouped.head()"
   ]
  },
  {
   "cell_type": "code",
   "execution_count": 115,
   "metadata": {},
   "outputs": [
    {
     "data": {
      "text/plain": [
       "Index(['index', 0], dtype='object')"
      ]
     },
     "execution_count": 115,
     "metadata": {},
     "output_type": "execute_result"
    }
   ],
   "source": [
    "grouped.reset_index(inplace=True)\n",
    "grouped.columns"
   ]
  },
  {
   "cell_type": "code",
   "execution_count": 116,
   "metadata": {},
   "outputs": [
    {
     "data": {
      "text/plain": [
       "Index(['index', 'Key'], dtype='object')"
      ]
     },
     "execution_count": 116,
     "metadata": {},
     "output_type": "execute_result"
    }
   ],
   "source": [
    "grouped.rename(columns={0: 'Key'}, inplace=True)\n",
    "grouped.columns"
   ]
  },
  {
   "cell_type": "code",
   "execution_count": 117,
   "metadata": {},
   "outputs": [
    {
     "data": {
      "text/plain": [
       "(6, 2)"
      ]
     },
     "execution_count": 117,
     "metadata": {},
     "output_type": "execute_result"
    }
   ],
   "source": [
    "grouped.shape"
   ]
  },
  {
   "cell_type": "code",
   "execution_count": 118,
   "metadata": {},
   "outputs": [
    {
     "data": {
      "text/html": [
       "<div>\n",
       "<style scoped>\n",
       "    .dataframe tbody tr th:only-of-type {\n",
       "        vertical-align: middle;\n",
       "    }\n",
       "\n",
       "    .dataframe tbody tr th {\n",
       "        vertical-align: top;\n",
       "    }\n",
       "\n",
       "    .dataframe thead th {\n",
       "        text-align: right;\n",
       "    }\n",
       "</style>\n",
       "<table border=\"1\" class=\"dataframe\">\n",
       "  <thead>\n",
       "    <tr style=\"text-align: right;\">\n",
       "      <th></th>\n",
       "      <th>index</th>\n",
       "      <th>Key</th>\n",
       "    </tr>\n",
       "  </thead>\n",
       "  <tbody>\n",
       "    <tr>\n",
       "      <th>0</th>\n",
       "      <td>1</td>\n",
       "      <td>Attchd</td>\n",
       "    </tr>\n",
       "    <tr>\n",
       "      <th>1</th>\n",
       "      <td>2</td>\n",
       "      <td>Detchd</td>\n",
       "    </tr>\n",
       "    <tr>\n",
       "      <th>2</th>\n",
       "      <td>3</td>\n",
       "      <td>BuiltIn</td>\n",
       "    </tr>\n",
       "    <tr>\n",
       "      <th>3</th>\n",
       "      <td>4</td>\n",
       "      <td>Basment</td>\n",
       "    </tr>\n",
       "    <tr>\n",
       "      <th>4</th>\n",
       "      <td>5</td>\n",
       "      <td>2Types</td>\n",
       "    </tr>\n",
       "    <tr>\n",
       "      <th>5</th>\n",
       "      <td>6</td>\n",
       "      <td>CarPort</td>\n",
       "    </tr>\n",
       "  </tbody>\n",
       "</table>\n",
       "</div>"
      ],
      "text/plain": [
       "   index      Key\n",
       "0      1   Attchd\n",
       "1      2   Detchd\n",
       "2      3  BuiltIn\n",
       "3      4  Basment\n",
       "4      5   2Types\n",
       "5      6  CarPort"
      ]
     },
     "execution_count": 118,
     "metadata": {},
     "output_type": "execute_result"
    }
   ],
   "source": [
    "grouped['index'] += 1\n",
    "grouped"
   ]
  },
  {
   "cell_type": "code",
   "execution_count": 119,
   "metadata": {},
   "outputs": [
    {
     "data": {
      "text/plain": [
       "dict_keys(['index', 'columns', 'data'])"
      ]
     },
     "execution_count": 119,
     "metadata": {},
     "output_type": "execute_result"
    }
   ],
   "source": [
    "dict_ = grouped.to_dict(orient='split')\n",
    "dict_.keys()"
   ]
  },
  {
   "cell_type": "code",
   "execution_count": 120,
   "metadata": {},
   "outputs": [
    {
     "data": {
      "text/plain": [
       "{'data': [[1, 'Attchd'],\n",
       "  [2, 'Detchd'],\n",
       "  [3, 'BuiltIn'],\n",
       "  [4, 'Basment'],\n",
       "  [5, '2Types'],\n",
       "  [6, 'CarPort']]}"
      ]
     },
     "execution_count": 120,
     "metadata": {},
     "output_type": "execute_result"
    }
   ],
   "source": [
    "dict_.pop('index')\n",
    "dict_.pop('columns')\n",
    "dict_"
   ]
  },
  {
   "cell_type": "code",
   "execution_count": 121,
   "metadata": {},
   "outputs": [
    {
     "data": {
      "text/plain": [
       "{'Attchd': 1,\n",
       " 'Detchd': 2,\n",
       " 'BuiltIn': 3,\n",
       " 'Basment': 4,\n",
       " '2Types': 5,\n",
       " 'CarPort': 6}"
      ]
     },
     "execution_count": 121,
     "metadata": {},
     "output_type": "execute_result"
    }
   ],
   "source": [
    "dict__ = {}\n",
    "\n",
    "for line in dict_['data']:\n",
    "    #print(line[1], ' : ', line[0])\n",
    "    dict__[line[1]] = line[0]\n",
    "\n",
    "dict__"
   ]
  },
  {
   "cell_type": "code",
   "execution_count": 122,
   "metadata": {},
   "outputs": [
    {
     "data": {
      "text/plain": [
       "array([ 1.,  2.,  3., nan,  4.,  5.,  6.])"
      ]
     },
     "execution_count": 122,
     "metadata": {},
     "output_type": "execute_result"
    }
   ],
   "source": [
    "df_copy[column] = df_copy[column].replace(dict__)\n",
    "#df_copy[column] = df_copy[column].astype('int64')\n",
    "df_copy[column].unique()"
   ]
  },
  {
   "cell_type": "markdown",
   "metadata": {},
   "source": [
    "## Diccionario `GarageFinish`"
   ]
  },
  {
   "cell_type": "code",
   "execution_count": 123,
   "metadata": {},
   "outputs": [],
   "source": [
    "column = 'GarageFinish'"
   ]
  },
  {
   "cell_type": "code",
   "execution_count": 124,
   "metadata": {},
   "outputs": [
    {
     "data": {
      "text/html": [
       "<div>\n",
       "<style scoped>\n",
       "    .dataframe tbody tr th:only-of-type {\n",
       "        vertical-align: middle;\n",
       "    }\n",
       "\n",
       "    .dataframe tbody tr th {\n",
       "        vertical-align: top;\n",
       "    }\n",
       "\n",
       "    .dataframe thead th {\n",
       "        text-align: right;\n",
       "    }\n",
       "</style>\n",
       "<table border=\"1\" class=\"dataframe\">\n",
       "  <thead>\n",
       "    <tr style=\"text-align: right;\">\n",
       "      <th></th>\n",
       "      <th>0</th>\n",
       "    </tr>\n",
       "  </thead>\n",
       "  <tbody>\n",
       "    <tr>\n",
       "      <th>0</th>\n",
       "      <td>Unf</td>\n",
       "    </tr>\n",
       "    <tr>\n",
       "      <th>1</th>\n",
       "      <td>Fin</td>\n",
       "    </tr>\n",
       "    <tr>\n",
       "      <th>2</th>\n",
       "      <td>RFn</td>\n",
       "    </tr>\n",
       "  </tbody>\n",
       "</table>\n",
       "</div>"
      ],
      "text/plain": [
       "     0\n",
       "0  Unf\n",
       "1  Fin\n",
       "2  RFn"
      ]
     },
     "execution_count": 124,
     "metadata": {},
     "output_type": "execute_result"
    }
   ],
   "source": [
    "grouped = pd.DataFrame(df_copy[column].dropna().unique())\n",
    "grouped.head()"
   ]
  },
  {
   "cell_type": "code",
   "execution_count": 125,
   "metadata": {},
   "outputs": [
    {
     "data": {
      "text/plain": [
       "Index(['index', 0], dtype='object')"
      ]
     },
     "execution_count": 125,
     "metadata": {},
     "output_type": "execute_result"
    }
   ],
   "source": [
    "grouped.reset_index(inplace=True)\n",
    "grouped.columns"
   ]
  },
  {
   "cell_type": "code",
   "execution_count": 126,
   "metadata": {},
   "outputs": [
    {
     "data": {
      "text/plain": [
       "Index(['index', 'Key'], dtype='object')"
      ]
     },
     "execution_count": 126,
     "metadata": {},
     "output_type": "execute_result"
    }
   ],
   "source": [
    "grouped.rename(columns={0: 'Key'}, inplace=True)\n",
    "grouped.columns"
   ]
  },
  {
   "cell_type": "code",
   "execution_count": 127,
   "metadata": {},
   "outputs": [
    {
     "data": {
      "text/plain": [
       "(3, 2)"
      ]
     },
     "execution_count": 127,
     "metadata": {},
     "output_type": "execute_result"
    }
   ],
   "source": [
    "grouped.shape"
   ]
  },
  {
   "cell_type": "code",
   "execution_count": 128,
   "metadata": {},
   "outputs": [
    {
     "data": {
      "text/html": [
       "<div>\n",
       "<style scoped>\n",
       "    .dataframe tbody tr th:only-of-type {\n",
       "        vertical-align: middle;\n",
       "    }\n",
       "\n",
       "    .dataframe tbody tr th {\n",
       "        vertical-align: top;\n",
       "    }\n",
       "\n",
       "    .dataframe thead th {\n",
       "        text-align: right;\n",
       "    }\n",
       "</style>\n",
       "<table border=\"1\" class=\"dataframe\">\n",
       "  <thead>\n",
       "    <tr style=\"text-align: right;\">\n",
       "      <th></th>\n",
       "      <th>index</th>\n",
       "      <th>Key</th>\n",
       "    </tr>\n",
       "  </thead>\n",
       "  <tbody>\n",
       "    <tr>\n",
       "      <th>0</th>\n",
       "      <td>1</td>\n",
       "      <td>Unf</td>\n",
       "    </tr>\n",
       "    <tr>\n",
       "      <th>1</th>\n",
       "      <td>2</td>\n",
       "      <td>Fin</td>\n",
       "    </tr>\n",
       "    <tr>\n",
       "      <th>2</th>\n",
       "      <td>3</td>\n",
       "      <td>RFn</td>\n",
       "    </tr>\n",
       "  </tbody>\n",
       "</table>\n",
       "</div>"
      ],
      "text/plain": [
       "   index  Key\n",
       "0      1  Unf\n",
       "1      2  Fin\n",
       "2      3  RFn"
      ]
     },
     "execution_count": 128,
     "metadata": {},
     "output_type": "execute_result"
    }
   ],
   "source": [
    "grouped['index'] += 1\n",
    "grouped"
   ]
  },
  {
   "cell_type": "code",
   "execution_count": 129,
   "metadata": {},
   "outputs": [
    {
     "data": {
      "text/plain": [
       "dict_keys(['index', 'columns', 'data'])"
      ]
     },
     "execution_count": 129,
     "metadata": {},
     "output_type": "execute_result"
    }
   ],
   "source": [
    "dict_ = grouped.to_dict(orient='split')\n",
    "dict_.keys()"
   ]
  },
  {
   "cell_type": "code",
   "execution_count": 130,
   "metadata": {},
   "outputs": [
    {
     "data": {
      "text/plain": [
       "{'data': [[1, 'Unf'], [2, 'Fin'], [3, 'RFn']]}"
      ]
     },
     "execution_count": 130,
     "metadata": {},
     "output_type": "execute_result"
    }
   ],
   "source": [
    "dict_.pop('index')\n",
    "dict_.pop('columns')\n",
    "dict_"
   ]
  },
  {
   "cell_type": "code",
   "execution_count": 131,
   "metadata": {},
   "outputs": [
    {
     "data": {
      "text/plain": [
       "{'Unf': 1, 'Fin': 2, 'RFn': 3}"
      ]
     },
     "execution_count": 131,
     "metadata": {},
     "output_type": "execute_result"
    }
   ],
   "source": [
    "dict__ = {}\n",
    "\n",
    "for line in dict_['data']:\n",
    "    #print(line[1], ' : ', line[0])\n",
    "    dict__[line[1]] = line[0]\n",
    "\n",
    "dict__"
   ]
  },
  {
   "cell_type": "code",
   "execution_count": 132,
   "metadata": {},
   "outputs": [
    {
     "data": {
      "text/plain": [
       "array([ 1.,  2.,  3., nan])"
      ]
     },
     "execution_count": 132,
     "metadata": {},
     "output_type": "execute_result"
    }
   ],
   "source": [
    "df_copy[column] = df_copy[column].replace(dict__)\n",
    "#df_copy[column] = df_copy[column].astype('int64')\n",
    "df_copy[column].unique()"
   ]
  },
  {
   "cell_type": "markdown",
   "metadata": {},
   "source": [
    "## Diccionario `GarageQual`"
   ]
  },
  {
   "cell_type": "code",
   "execution_count": 133,
   "metadata": {},
   "outputs": [],
   "source": [
    "column = 'GarageQual'"
   ]
  },
  {
   "cell_type": "code",
   "execution_count": 134,
   "metadata": {},
   "outputs": [
    {
     "data": {
      "text/html": [
       "<div>\n",
       "<style scoped>\n",
       "    .dataframe tbody tr th:only-of-type {\n",
       "        vertical-align: middle;\n",
       "    }\n",
       "\n",
       "    .dataframe tbody tr th {\n",
       "        vertical-align: top;\n",
       "    }\n",
       "\n",
       "    .dataframe thead th {\n",
       "        text-align: right;\n",
       "    }\n",
       "</style>\n",
       "<table border=\"1\" class=\"dataframe\">\n",
       "  <thead>\n",
       "    <tr style=\"text-align: right;\">\n",
       "      <th></th>\n",
       "      <th>0</th>\n",
       "    </tr>\n",
       "  </thead>\n",
       "  <tbody>\n",
       "    <tr>\n",
       "      <th>0</th>\n",
       "      <td>TA</td>\n",
       "    </tr>\n",
       "    <tr>\n",
       "      <th>1</th>\n",
       "      <td>Fa</td>\n",
       "    </tr>\n",
       "    <tr>\n",
       "      <th>2</th>\n",
       "      <td>Gd</td>\n",
       "    </tr>\n",
       "    <tr>\n",
       "      <th>3</th>\n",
       "      <td>Po</td>\n",
       "    </tr>\n",
       "  </tbody>\n",
       "</table>\n",
       "</div>"
      ],
      "text/plain": [
       "    0\n",
       "0  TA\n",
       "1  Fa\n",
       "2  Gd\n",
       "3  Po"
      ]
     },
     "execution_count": 134,
     "metadata": {},
     "output_type": "execute_result"
    }
   ],
   "source": [
    "grouped = pd.DataFrame(df_copy[column].dropna().unique())\n",
    "grouped.head()"
   ]
  },
  {
   "cell_type": "code",
   "execution_count": 135,
   "metadata": {},
   "outputs": [
    {
     "data": {
      "text/plain": [
       "Index(['index', 0], dtype='object')"
      ]
     },
     "execution_count": 135,
     "metadata": {},
     "output_type": "execute_result"
    }
   ],
   "source": [
    "grouped.reset_index(inplace=True)\n",
    "grouped.columns"
   ]
  },
  {
   "cell_type": "code",
   "execution_count": 136,
   "metadata": {},
   "outputs": [
    {
     "data": {
      "text/plain": [
       "Index(['index', 'Key'], dtype='object')"
      ]
     },
     "execution_count": 136,
     "metadata": {},
     "output_type": "execute_result"
    }
   ],
   "source": [
    "grouped.rename(columns={0: 'Key'}, inplace=True)\n",
    "grouped.columns"
   ]
  },
  {
   "cell_type": "code",
   "execution_count": 137,
   "metadata": {},
   "outputs": [
    {
     "data": {
      "text/plain": [
       "(4, 2)"
      ]
     },
     "execution_count": 137,
     "metadata": {},
     "output_type": "execute_result"
    }
   ],
   "source": [
    "grouped.shape"
   ]
  },
  {
   "cell_type": "code",
   "execution_count": 138,
   "metadata": {},
   "outputs": [
    {
     "data": {
      "text/html": [
       "<div>\n",
       "<style scoped>\n",
       "    .dataframe tbody tr th:only-of-type {\n",
       "        vertical-align: middle;\n",
       "    }\n",
       "\n",
       "    .dataframe tbody tr th {\n",
       "        vertical-align: top;\n",
       "    }\n",
       "\n",
       "    .dataframe thead th {\n",
       "        text-align: right;\n",
       "    }\n",
       "</style>\n",
       "<table border=\"1\" class=\"dataframe\">\n",
       "  <thead>\n",
       "    <tr style=\"text-align: right;\">\n",
       "      <th></th>\n",
       "      <th>index</th>\n",
       "      <th>Key</th>\n",
       "    </tr>\n",
       "  </thead>\n",
       "  <tbody>\n",
       "    <tr>\n",
       "      <th>0</th>\n",
       "      <td>1</td>\n",
       "      <td>TA</td>\n",
       "    </tr>\n",
       "    <tr>\n",
       "      <th>1</th>\n",
       "      <td>2</td>\n",
       "      <td>Fa</td>\n",
       "    </tr>\n",
       "    <tr>\n",
       "      <th>2</th>\n",
       "      <td>3</td>\n",
       "      <td>Gd</td>\n",
       "    </tr>\n",
       "    <tr>\n",
       "      <th>3</th>\n",
       "      <td>4</td>\n",
       "      <td>Po</td>\n",
       "    </tr>\n",
       "  </tbody>\n",
       "</table>\n",
       "</div>"
      ],
      "text/plain": [
       "   index Key\n",
       "0      1  TA\n",
       "1      2  Fa\n",
       "2      3  Gd\n",
       "3      4  Po"
      ]
     },
     "execution_count": 138,
     "metadata": {},
     "output_type": "execute_result"
    }
   ],
   "source": [
    "grouped['index'] += 1\n",
    "grouped"
   ]
  },
  {
   "cell_type": "code",
   "execution_count": 139,
   "metadata": {},
   "outputs": [
    {
     "data": {
      "text/plain": [
       "dict_keys(['index', 'columns', 'data'])"
      ]
     },
     "execution_count": 139,
     "metadata": {},
     "output_type": "execute_result"
    }
   ],
   "source": [
    "dict_ = grouped.to_dict(orient='split')\n",
    "dict_.keys()"
   ]
  },
  {
   "cell_type": "code",
   "execution_count": 140,
   "metadata": {},
   "outputs": [
    {
     "data": {
      "text/plain": [
       "{'data': [[1, 'TA'], [2, 'Fa'], [3, 'Gd'], [4, 'Po']]}"
      ]
     },
     "execution_count": 140,
     "metadata": {},
     "output_type": "execute_result"
    }
   ],
   "source": [
    "dict_.pop('index')\n",
    "dict_.pop('columns')\n",
    "dict_"
   ]
  },
  {
   "cell_type": "code",
   "execution_count": 141,
   "metadata": {},
   "outputs": [
    {
     "data": {
      "text/plain": [
       "{'TA': 1, 'Fa': 2, 'Gd': 3, 'Po': 4}"
      ]
     },
     "execution_count": 141,
     "metadata": {},
     "output_type": "execute_result"
    }
   ],
   "source": [
    "dict__ = {}\n",
    "\n",
    "for line in dict_['data']:\n",
    "    #print(line[1], ' : ', line[0])\n",
    "    dict__[line[1]] = line[0]\n",
    "\n",
    "dict__"
   ]
  },
  {
   "cell_type": "code",
   "execution_count": 142,
   "metadata": {},
   "outputs": [
    {
     "data": {
      "text/plain": [
       "array([ 1., nan,  2.,  3.,  4.])"
      ]
     },
     "execution_count": 142,
     "metadata": {},
     "output_type": "execute_result"
    }
   ],
   "source": [
    "df_copy[column] = df_copy[column].replace(dict__)\n",
    "#df_copy[column] = df_copy[column].astype('int64')\n",
    "df_copy[column].unique()"
   ]
  },
  {
   "cell_type": "markdown",
   "metadata": {},
   "source": [
    "## Diccionario `GarageCond`"
   ]
  },
  {
   "cell_type": "code",
   "execution_count": 143,
   "metadata": {},
   "outputs": [],
   "source": [
    "column = 'GarageCond'"
   ]
  },
  {
   "cell_type": "code",
   "execution_count": 144,
   "metadata": {},
   "outputs": [
    {
     "data": {
      "text/html": [
       "<div>\n",
       "<style scoped>\n",
       "    .dataframe tbody tr th:only-of-type {\n",
       "        vertical-align: middle;\n",
       "    }\n",
       "\n",
       "    .dataframe tbody tr th {\n",
       "        vertical-align: top;\n",
       "    }\n",
       "\n",
       "    .dataframe thead th {\n",
       "        text-align: right;\n",
       "    }\n",
       "</style>\n",
       "<table border=\"1\" class=\"dataframe\">\n",
       "  <thead>\n",
       "    <tr style=\"text-align: right;\">\n",
       "      <th></th>\n",
       "      <th>0</th>\n",
       "    </tr>\n",
       "  </thead>\n",
       "  <tbody>\n",
       "    <tr>\n",
       "      <th>0</th>\n",
       "      <td>TA</td>\n",
       "    </tr>\n",
       "    <tr>\n",
       "      <th>1</th>\n",
       "      <td>Fa</td>\n",
       "    </tr>\n",
       "    <tr>\n",
       "      <th>2</th>\n",
       "      <td>Gd</td>\n",
       "    </tr>\n",
       "    <tr>\n",
       "      <th>3</th>\n",
       "      <td>Po</td>\n",
       "    </tr>\n",
       "    <tr>\n",
       "      <th>4</th>\n",
       "      <td>Ex</td>\n",
       "    </tr>\n",
       "  </tbody>\n",
       "</table>\n",
       "</div>"
      ],
      "text/plain": [
       "    0\n",
       "0  TA\n",
       "1  Fa\n",
       "2  Gd\n",
       "3  Po\n",
       "4  Ex"
      ]
     },
     "execution_count": 144,
     "metadata": {},
     "output_type": "execute_result"
    }
   ],
   "source": [
    "grouped = pd.DataFrame(df_copy[column].dropna().unique())\n",
    "grouped.head()"
   ]
  },
  {
   "cell_type": "code",
   "execution_count": 145,
   "metadata": {},
   "outputs": [
    {
     "data": {
      "text/plain": [
       "Index(['index', 0], dtype='object')"
      ]
     },
     "execution_count": 145,
     "metadata": {},
     "output_type": "execute_result"
    }
   ],
   "source": [
    "grouped.reset_index(inplace=True)\n",
    "grouped.columns"
   ]
  },
  {
   "cell_type": "code",
   "execution_count": 146,
   "metadata": {},
   "outputs": [
    {
     "data": {
      "text/plain": [
       "Index(['index', 'Key'], dtype='object')"
      ]
     },
     "execution_count": 146,
     "metadata": {},
     "output_type": "execute_result"
    }
   ],
   "source": [
    "grouped.rename(columns={0: 'Key'}, inplace=True)\n",
    "grouped.columns"
   ]
  },
  {
   "cell_type": "code",
   "execution_count": 147,
   "metadata": {},
   "outputs": [
    {
     "data": {
      "text/plain": [
       "(5, 2)"
      ]
     },
     "execution_count": 147,
     "metadata": {},
     "output_type": "execute_result"
    }
   ],
   "source": [
    "grouped.shape"
   ]
  },
  {
   "cell_type": "code",
   "execution_count": 148,
   "metadata": {},
   "outputs": [
    {
     "data": {
      "text/html": [
       "<div>\n",
       "<style scoped>\n",
       "    .dataframe tbody tr th:only-of-type {\n",
       "        vertical-align: middle;\n",
       "    }\n",
       "\n",
       "    .dataframe tbody tr th {\n",
       "        vertical-align: top;\n",
       "    }\n",
       "\n",
       "    .dataframe thead th {\n",
       "        text-align: right;\n",
       "    }\n",
       "</style>\n",
       "<table border=\"1\" class=\"dataframe\">\n",
       "  <thead>\n",
       "    <tr style=\"text-align: right;\">\n",
       "      <th></th>\n",
       "      <th>index</th>\n",
       "      <th>Key</th>\n",
       "    </tr>\n",
       "  </thead>\n",
       "  <tbody>\n",
       "    <tr>\n",
       "      <th>0</th>\n",
       "      <td>1</td>\n",
       "      <td>TA</td>\n",
       "    </tr>\n",
       "    <tr>\n",
       "      <th>1</th>\n",
       "      <td>2</td>\n",
       "      <td>Fa</td>\n",
       "    </tr>\n",
       "    <tr>\n",
       "      <th>2</th>\n",
       "      <td>3</td>\n",
       "      <td>Gd</td>\n",
       "    </tr>\n",
       "    <tr>\n",
       "      <th>3</th>\n",
       "      <td>4</td>\n",
       "      <td>Po</td>\n",
       "    </tr>\n",
       "    <tr>\n",
       "      <th>4</th>\n",
       "      <td>5</td>\n",
       "      <td>Ex</td>\n",
       "    </tr>\n",
       "  </tbody>\n",
       "</table>\n",
       "</div>"
      ],
      "text/plain": [
       "   index Key\n",
       "0      1  TA\n",
       "1      2  Fa\n",
       "2      3  Gd\n",
       "3      4  Po\n",
       "4      5  Ex"
      ]
     },
     "execution_count": 148,
     "metadata": {},
     "output_type": "execute_result"
    }
   ],
   "source": [
    "grouped['index'] += 1\n",
    "grouped"
   ]
  },
  {
   "cell_type": "code",
   "execution_count": 149,
   "metadata": {},
   "outputs": [
    {
     "data": {
      "text/plain": [
       "dict_keys(['index', 'columns', 'data'])"
      ]
     },
     "execution_count": 149,
     "metadata": {},
     "output_type": "execute_result"
    }
   ],
   "source": [
    "dict_ = grouped.to_dict(orient='split')\n",
    "dict_.keys()"
   ]
  },
  {
   "cell_type": "code",
   "execution_count": 150,
   "metadata": {},
   "outputs": [
    {
     "data": {
      "text/plain": [
       "{'data': [[1, 'TA'], [2, 'Fa'], [3, 'Gd'], [4, 'Po'], [5, 'Ex']]}"
      ]
     },
     "execution_count": 150,
     "metadata": {},
     "output_type": "execute_result"
    }
   ],
   "source": [
    "dict_.pop('index')\n",
    "dict_.pop('columns')\n",
    "dict_"
   ]
  },
  {
   "cell_type": "code",
   "execution_count": 151,
   "metadata": {},
   "outputs": [
    {
     "data": {
      "text/plain": [
       "{'TA': 1, 'Fa': 2, 'Gd': 3, 'Po': 4, 'Ex': 5}"
      ]
     },
     "execution_count": 151,
     "metadata": {},
     "output_type": "execute_result"
    }
   ],
   "source": [
    "dict__ = {}\n",
    "\n",
    "for line in dict_['data']:\n",
    "    #print(line[1], ' : ', line[0])\n",
    "    dict__[line[1]] = line[0]\n",
    "\n",
    "dict__"
   ]
  },
  {
   "cell_type": "code",
   "execution_count": 152,
   "metadata": {},
   "outputs": [
    {
     "data": {
      "text/plain": [
       "array([ 1., nan,  2.,  3.,  4.,  5.])"
      ]
     },
     "execution_count": 152,
     "metadata": {},
     "output_type": "execute_result"
    }
   ],
   "source": [
    "df_copy[column] = df_copy[column].replace(dict__)\n",
    "#df_copy[column] = df_copy[column].astype('int64')\n",
    "df_copy[column].unique()"
   ]
  },
  {
   "cell_type": "markdown",
   "metadata": {},
   "source": [
    "## Diccionario `GarageYrBlt`"
   ]
  },
  {
   "cell_type": "code",
   "execution_count": 153,
   "metadata": {},
   "outputs": [],
   "source": [
    "column = 'GarageYrBlt'"
   ]
  },
  {
   "cell_type": "code",
   "execution_count": 154,
   "metadata": {},
   "outputs": [
    {
     "data": {
      "text/html": [
       "<div>\n",
       "<style scoped>\n",
       "    .dataframe tbody tr th:only-of-type {\n",
       "        vertical-align: middle;\n",
       "    }\n",
       "\n",
       "    .dataframe tbody tr th {\n",
       "        vertical-align: top;\n",
       "    }\n",
       "\n",
       "    .dataframe thead th {\n",
       "        text-align: right;\n",
       "    }\n",
       "</style>\n",
       "<table border=\"1\" class=\"dataframe\">\n",
       "  <thead>\n",
       "    <tr style=\"text-align: right;\">\n",
       "      <th></th>\n",
       "      <th>0</th>\n",
       "    </tr>\n",
       "  </thead>\n",
       "  <tbody>\n",
       "    <tr>\n",
       "      <th>0</th>\n",
       "      <td>1961</td>\n",
       "    </tr>\n",
       "    <tr>\n",
       "      <th>1</th>\n",
       "      <td>1958</td>\n",
       "    </tr>\n",
       "    <tr>\n",
       "      <th>2</th>\n",
       "      <td>1997</td>\n",
       "    </tr>\n",
       "    <tr>\n",
       "      <th>3</th>\n",
       "      <td>1998</td>\n",
       "    </tr>\n",
       "    <tr>\n",
       "      <th>4</th>\n",
       "      <td>1992</td>\n",
       "    </tr>\n",
       "  </tbody>\n",
       "</table>\n",
       "</div>"
      ],
      "text/plain": [
       "      0\n",
       "0  1961\n",
       "1  1958\n",
       "2  1997\n",
       "3  1998\n",
       "4  1992"
      ]
     },
     "execution_count": 154,
     "metadata": {},
     "output_type": "execute_result"
    }
   ],
   "source": [
    "grouped = pd.DataFrame(df_copy[column].dropna().unique())\n",
    "grouped = grouped.astype('int64')\n",
    "grouped.head()"
   ]
  },
  {
   "cell_type": "code",
   "execution_count": 155,
   "metadata": {},
   "outputs": [
    {
     "data": {
      "text/plain": [
       "Index(['index', 0], dtype='object')"
      ]
     },
     "execution_count": 155,
     "metadata": {},
     "output_type": "execute_result"
    }
   ],
   "source": [
    "grouped.reset_index(inplace=True)\n",
    "grouped.columns"
   ]
  },
  {
   "cell_type": "code",
   "execution_count": 156,
   "metadata": {},
   "outputs": [
    {
     "data": {
      "text/plain": [
       "Index(['index', 'Key'], dtype='object')"
      ]
     },
     "execution_count": 156,
     "metadata": {},
     "output_type": "execute_result"
    }
   ],
   "source": [
    "grouped.rename(columns={0: 'Key'}, inplace=True)\n",
    "grouped.columns"
   ]
  },
  {
   "cell_type": "code",
   "execution_count": 157,
   "metadata": {},
   "outputs": [
    {
     "data": {
      "text/plain": [
       "(97, 2)"
      ]
     },
     "execution_count": 157,
     "metadata": {},
     "output_type": "execute_result"
    }
   ],
   "source": [
    "grouped.shape"
   ]
  },
  {
   "cell_type": "code",
   "execution_count": 158,
   "metadata": {},
   "outputs": [
    {
     "data": {
      "text/html": [
       "<div>\n",
       "<style scoped>\n",
       "    .dataframe tbody tr th:only-of-type {\n",
       "        vertical-align: middle;\n",
       "    }\n",
       "\n",
       "    .dataframe tbody tr th {\n",
       "        vertical-align: top;\n",
       "    }\n",
       "\n",
       "    .dataframe thead th {\n",
       "        text-align: right;\n",
       "    }\n",
       "</style>\n",
       "<table border=\"1\" class=\"dataframe\">\n",
       "  <thead>\n",
       "    <tr style=\"text-align: right;\">\n",
       "      <th></th>\n",
       "      <th>index</th>\n",
       "      <th>Key</th>\n",
       "    </tr>\n",
       "  </thead>\n",
       "  <tbody>\n",
       "    <tr>\n",
       "      <th>0</th>\n",
       "      <td>1</td>\n",
       "      <td>1961</td>\n",
       "    </tr>\n",
       "    <tr>\n",
       "      <th>1</th>\n",
       "      <td>2</td>\n",
       "      <td>1958</td>\n",
       "    </tr>\n",
       "    <tr>\n",
       "      <th>2</th>\n",
       "      <td>3</td>\n",
       "      <td>1997</td>\n",
       "    </tr>\n",
       "    <tr>\n",
       "      <th>3</th>\n",
       "      <td>4</td>\n",
       "      <td>1998</td>\n",
       "    </tr>\n",
       "    <tr>\n",
       "      <th>4</th>\n",
       "      <td>5</td>\n",
       "      <td>1992</td>\n",
       "    </tr>\n",
       "    <tr>\n",
       "      <th>5</th>\n",
       "      <td>6</td>\n",
       "      <td>1993</td>\n",
       "    </tr>\n",
       "    <tr>\n",
       "      <th>6</th>\n",
       "      <td>7</td>\n",
       "      <td>1990</td>\n",
       "    </tr>\n",
       "    <tr>\n",
       "      <th>7</th>\n",
       "      <td>8</td>\n",
       "      <td>1970</td>\n",
       "    </tr>\n",
       "    <tr>\n",
       "      <th>8</th>\n",
       "      <td>9</td>\n",
       "      <td>1999</td>\n",
       "    </tr>\n",
       "    <tr>\n",
       "      <th>9</th>\n",
       "      <td>10</td>\n",
       "      <td>1971</td>\n",
       "    </tr>\n",
       "    <tr>\n",
       "      <th>10</th>\n",
       "      <td>11</td>\n",
       "      <td>1975</td>\n",
       "    </tr>\n",
       "    <tr>\n",
       "      <th>11</th>\n",
       "      <td>12</td>\n",
       "      <td>2009</td>\n",
       "    </tr>\n",
       "    <tr>\n",
       "      <th>12</th>\n",
       "      <td>13</td>\n",
       "      <td>2005</td>\n",
       "    </tr>\n",
       "    <tr>\n",
       "      <th>13</th>\n",
       "      <td>14</td>\n",
       "      <td>2003</td>\n",
       "    </tr>\n",
       "    <tr>\n",
       "      <th>14</th>\n",
       "      <td>15</td>\n",
       "      <td>2002</td>\n",
       "    </tr>\n",
       "    <tr>\n",
       "      <th>15</th>\n",
       "      <td>16</td>\n",
       "      <td>2006</td>\n",
       "    </tr>\n",
       "    <tr>\n",
       "      <th>16</th>\n",
       "      <td>17</td>\n",
       "      <td>2004</td>\n",
       "    </tr>\n",
       "    <tr>\n",
       "      <th>17</th>\n",
       "      <td>18</td>\n",
       "      <td>1920</td>\n",
       "    </tr>\n",
       "    <tr>\n",
       "      <th>18</th>\n",
       "      <td>19</td>\n",
       "      <td>1974</td>\n",
       "    </tr>\n",
       "    <tr>\n",
       "      <th>19</th>\n",
       "      <td>20</td>\n",
       "      <td>2000</td>\n",
       "    </tr>\n",
       "    <tr>\n",
       "      <th>20</th>\n",
       "      <td>21</td>\n",
       "      <td>2010</td>\n",
       "    </tr>\n",
       "    <tr>\n",
       "      <th>21</th>\n",
       "      <td>22</td>\n",
       "      <td>1967</td>\n",
       "    </tr>\n",
       "    <tr>\n",
       "      <th>22</th>\n",
       "      <td>23</td>\n",
       "      <td>1978</td>\n",
       "    </tr>\n",
       "    <tr>\n",
       "      <th>23</th>\n",
       "      <td>24</td>\n",
       "      <td>1966</td>\n",
       "    </tr>\n",
       "    <tr>\n",
       "      <th>24</th>\n",
       "      <td>25</td>\n",
       "      <td>1964</td>\n",
       "    </tr>\n",
       "    <tr>\n",
       "      <th>25</th>\n",
       "      <td>26</td>\n",
       "      <td>1994</td>\n",
       "    </tr>\n",
       "    <tr>\n",
       "      <th>26</th>\n",
       "      <td>27</td>\n",
       "      <td>1949</td>\n",
       "    </tr>\n",
       "    <tr>\n",
       "      <th>27</th>\n",
       "      <td>28</td>\n",
       "      <td>1959</td>\n",
       "    </tr>\n",
       "    <tr>\n",
       "      <th>28</th>\n",
       "      <td>29</td>\n",
       "      <td>1956</td>\n",
       "    </tr>\n",
       "    <tr>\n",
       "      <th>29</th>\n",
       "      <td>30</td>\n",
       "      <td>1952</td>\n",
       "    </tr>\n",
       "    <tr>\n",
       "      <th>...</th>\n",
       "      <td>...</td>\n",
       "      <td>...</td>\n",
       "    </tr>\n",
       "    <tr>\n",
       "      <th>67</th>\n",
       "      <td>68</td>\n",
       "      <td>1972</td>\n",
       "    </tr>\n",
       "    <tr>\n",
       "      <th>68</th>\n",
       "      <td>69</td>\n",
       "      <td>1984</td>\n",
       "    </tr>\n",
       "    <tr>\n",
       "      <th>69</th>\n",
       "      <td>70</td>\n",
       "      <td>1985</td>\n",
       "    </tr>\n",
       "    <tr>\n",
       "      <th>70</th>\n",
       "      <td>71</td>\n",
       "      <td>1996</td>\n",
       "    </tr>\n",
       "    <tr>\n",
       "      <th>71</th>\n",
       "      <td>72</td>\n",
       "      <td>1995</td>\n",
       "    </tr>\n",
       "    <tr>\n",
       "      <th>72</th>\n",
       "      <td>73</td>\n",
       "      <td>1980</td>\n",
       "    </tr>\n",
       "    <tr>\n",
       "      <th>73</th>\n",
       "      <td>74</td>\n",
       "      <td>1986</td>\n",
       "    </tr>\n",
       "    <tr>\n",
       "      <th>74</th>\n",
       "      <td>75</td>\n",
       "      <td>1981</td>\n",
       "    </tr>\n",
       "    <tr>\n",
       "      <th>75</th>\n",
       "      <td>76</td>\n",
       "      <td>1982</td>\n",
       "    </tr>\n",
       "    <tr>\n",
       "      <th>76</th>\n",
       "      <td>77</td>\n",
       "      <td>1991</td>\n",
       "    </tr>\n",
       "    <tr>\n",
       "      <th>77</th>\n",
       "      <td>78</td>\n",
       "      <td>1988</td>\n",
       "    </tr>\n",
       "    <tr>\n",
       "      <th>78</th>\n",
       "      <td>79</td>\n",
       "      <td>1953</td>\n",
       "    </tr>\n",
       "    <tr>\n",
       "      <th>79</th>\n",
       "      <td>80</td>\n",
       "      <td>1924</td>\n",
       "    </tr>\n",
       "    <tr>\n",
       "      <th>80</th>\n",
       "      <td>81</td>\n",
       "      <td>1927</td>\n",
       "    </tr>\n",
       "    <tr>\n",
       "      <th>81</th>\n",
       "      <td>82</td>\n",
       "      <td>1946</td>\n",
       "    </tr>\n",
       "    <tr>\n",
       "      <th>82</th>\n",
       "      <td>83</td>\n",
       "      <td>1934</td>\n",
       "    </tr>\n",
       "    <tr>\n",
       "      <th>83</th>\n",
       "      <td>84</td>\n",
       "      <td>1983</td>\n",
       "    </tr>\n",
       "    <tr>\n",
       "      <th>84</th>\n",
       "      <td>85</td>\n",
       "      <td>1916</td>\n",
       "    </tr>\n",
       "    <tr>\n",
       "      <th>85</th>\n",
       "      <td>86</td>\n",
       "      <td>1918</td>\n",
       "    </tr>\n",
       "    <tr>\n",
       "      <th>86</th>\n",
       "      <td>87</td>\n",
       "      <td>1937</td>\n",
       "    </tr>\n",
       "    <tr>\n",
       "      <th>87</th>\n",
       "      <td>88</td>\n",
       "      <td>1932</td>\n",
       "    </tr>\n",
       "    <tr>\n",
       "      <th>88</th>\n",
       "      <td>89</td>\n",
       "      <td>1935</td>\n",
       "    </tr>\n",
       "    <tr>\n",
       "      <th>89</th>\n",
       "      <td>90</td>\n",
       "      <td>1925</td>\n",
       "    </tr>\n",
       "    <tr>\n",
       "      <th>90</th>\n",
       "      <td>91</td>\n",
       "      <td>1921</td>\n",
       "    </tr>\n",
       "    <tr>\n",
       "      <th>91</th>\n",
       "      <td>92</td>\n",
       "      <td>1895</td>\n",
       "    </tr>\n",
       "    <tr>\n",
       "      <th>92</th>\n",
       "      <td>93</td>\n",
       "      <td>1922</td>\n",
       "    </tr>\n",
       "    <tr>\n",
       "      <th>93</th>\n",
       "      <td>94</td>\n",
       "      <td>2207</td>\n",
       "    </tr>\n",
       "    <tr>\n",
       "      <th>94</th>\n",
       "      <td>95</td>\n",
       "      <td>1936</td>\n",
       "    </tr>\n",
       "    <tr>\n",
       "      <th>95</th>\n",
       "      <td>96</td>\n",
       "      <td>1943</td>\n",
       "    </tr>\n",
       "    <tr>\n",
       "      <th>96</th>\n",
       "      <td>97</td>\n",
       "      <td>1919</td>\n",
       "    </tr>\n",
       "  </tbody>\n",
       "</table>\n",
       "<p>97 rows × 2 columns</p>\n",
       "</div>"
      ],
      "text/plain": [
       "    index   Key\n",
       "0       1  1961\n",
       "1       2  1958\n",
       "2       3  1997\n",
       "3       4  1998\n",
       "4       5  1992\n",
       "5       6  1993\n",
       "6       7  1990\n",
       "7       8  1970\n",
       "8       9  1999\n",
       "9      10  1971\n",
       "10     11  1975\n",
       "11     12  2009\n",
       "12     13  2005\n",
       "13     14  2003\n",
       "14     15  2002\n",
       "15     16  2006\n",
       "16     17  2004\n",
       "17     18  1920\n",
       "18     19  1974\n",
       "19     20  2000\n",
       "20     21  2010\n",
       "21     22  1967\n",
       "22     23  1978\n",
       "23     24  1966\n",
       "24     25  1964\n",
       "25     26  1994\n",
       "26     27  1949\n",
       "27     28  1959\n",
       "28     29  1956\n",
       "29     30  1952\n",
       "..    ...   ...\n",
       "67     68  1972\n",
       "68     69  1984\n",
       "69     70  1985\n",
       "70     71  1996\n",
       "71     72  1995\n",
       "72     73  1980\n",
       "73     74  1986\n",
       "74     75  1981\n",
       "75     76  1982\n",
       "76     77  1991\n",
       "77     78  1988\n",
       "78     79  1953\n",
       "79     80  1924\n",
       "80     81  1927\n",
       "81     82  1946\n",
       "82     83  1934\n",
       "83     84  1983\n",
       "84     85  1916\n",
       "85     86  1918\n",
       "86     87  1937\n",
       "87     88  1932\n",
       "88     89  1935\n",
       "89     90  1925\n",
       "90     91  1921\n",
       "91     92  1895\n",
       "92     93  1922\n",
       "93     94  2207\n",
       "94     95  1936\n",
       "95     96  1943\n",
       "96     97  1919\n",
       "\n",
       "[97 rows x 2 columns]"
      ]
     },
     "execution_count": 158,
     "metadata": {},
     "output_type": "execute_result"
    }
   ],
   "source": [
    "grouped['index'] += 1\n",
    "grouped"
   ]
  },
  {
   "cell_type": "code",
   "execution_count": 159,
   "metadata": {},
   "outputs": [
    {
     "data": {
      "text/plain": [
       "dict_keys(['index', 'columns', 'data'])"
      ]
     },
     "execution_count": 159,
     "metadata": {},
     "output_type": "execute_result"
    }
   ],
   "source": [
    "dict_ = grouped.to_dict(orient='split')\n",
    "dict_.keys()"
   ]
  },
  {
   "cell_type": "code",
   "execution_count": 160,
   "metadata": {},
   "outputs": [
    {
     "data": {
      "text/plain": [
       "{'data': [[1, 1961],\n",
       "  [2, 1958],\n",
       "  [3, 1997],\n",
       "  [4, 1998],\n",
       "  [5, 1992],\n",
       "  [6, 1993],\n",
       "  [7, 1990],\n",
       "  [8, 1970],\n",
       "  [9, 1999],\n",
       "  [10, 1971],\n",
       "  [11, 1975],\n",
       "  [12, 2009],\n",
       "  [13, 2005],\n",
       "  [14, 2003],\n",
       "  [15, 2002],\n",
       "  [16, 2006],\n",
       "  [17, 2004],\n",
       "  [18, 1920],\n",
       "  [19, 1974],\n",
       "  [20, 2000],\n",
       "  [21, 2010],\n",
       "  [22, 1967],\n",
       "  [23, 1978],\n",
       "  [24, 1966],\n",
       "  [25, 1964],\n",
       "  [26, 1994],\n",
       "  [27, 1949],\n",
       "  [28, 1959],\n",
       "  [29, 1956],\n",
       "  [30, 1952],\n",
       "  [31, 1955],\n",
       "  [32, 1989],\n",
       "  [33, 1950],\n",
       "  [34, 1960],\n",
       "  [35, 1963],\n",
       "  [36, 1900],\n",
       "  [37, 1957],\n",
       "  [38, 1938],\n",
       "  [39, 1948],\n",
       "  [40, 1962],\n",
       "  [41, 1928],\n",
       "  [42, 1930],\n",
       "  [43, 1926],\n",
       "  [44, 1939],\n",
       "  [45, 1973],\n",
       "  [46, 1942],\n",
       "  [47, 1979],\n",
       "  [48, 1923],\n",
       "  [49, 1915],\n",
       "  [50, 1917],\n",
       "  [51, 1940],\n",
       "  [52, 1910],\n",
       "  [53, 1969],\n",
       "  [54, 1968],\n",
       "  [55, 1977],\n",
       "  [56, 1945],\n",
       "  [57, 1987],\n",
       "  [58, 1947],\n",
       "  [59, 1954],\n",
       "  [60, 1941],\n",
       "  [61, 1951],\n",
       "  [62, 1896],\n",
       "  [63, 1976],\n",
       "  [64, 2008],\n",
       "  [65, 2007],\n",
       "  [66, 1965],\n",
       "  [67, 2001],\n",
       "  [68, 1972],\n",
       "  [69, 1984],\n",
       "  [70, 1985],\n",
       "  [71, 1996],\n",
       "  [72, 1995],\n",
       "  [73, 1980],\n",
       "  [74, 1986],\n",
       "  [75, 1981],\n",
       "  [76, 1982],\n",
       "  [77, 1991],\n",
       "  [78, 1988],\n",
       "  [79, 1953],\n",
       "  [80, 1924],\n",
       "  [81, 1927],\n",
       "  [82, 1946],\n",
       "  [83, 1934],\n",
       "  [84, 1983],\n",
       "  [85, 1916],\n",
       "  [86, 1918],\n",
       "  [87, 1937],\n",
       "  [88, 1932],\n",
       "  [89, 1935],\n",
       "  [90, 1925],\n",
       "  [91, 1921],\n",
       "  [92, 1895],\n",
       "  [93, 1922],\n",
       "  [94, 2207],\n",
       "  [95, 1936],\n",
       "  [96, 1943],\n",
       "  [97, 1919]]}"
      ]
     },
     "execution_count": 160,
     "metadata": {},
     "output_type": "execute_result"
    }
   ],
   "source": [
    "dict_.pop('index')\n",
    "dict_.pop('columns')\n",
    "dict_"
   ]
  },
  {
   "cell_type": "code",
   "execution_count": 161,
   "metadata": {},
   "outputs": [
    {
     "data": {
      "text/plain": [
       "{1961: 1,\n",
       " 1958: 2,\n",
       " 1997: 3,\n",
       " 1998: 4,\n",
       " 1992: 5,\n",
       " 1993: 6,\n",
       " 1990: 7,\n",
       " 1970: 8,\n",
       " 1999: 9,\n",
       " 1971: 10,\n",
       " 1975: 11,\n",
       " 2009: 12,\n",
       " 2005: 13,\n",
       " 2003: 14,\n",
       " 2002: 15,\n",
       " 2006: 16,\n",
       " 2004: 17,\n",
       " 1920: 18,\n",
       " 1974: 19,\n",
       " 2000: 20,\n",
       " 2010: 21,\n",
       " 1967: 22,\n",
       " 1978: 23,\n",
       " 1966: 24,\n",
       " 1964: 25,\n",
       " 1994: 26,\n",
       " 1949: 27,\n",
       " 1959: 28,\n",
       " 1956: 29,\n",
       " 1952: 30,\n",
       " 1955: 31,\n",
       " 1989: 32,\n",
       " 1950: 33,\n",
       " 1960: 34,\n",
       " 1963: 35,\n",
       " 1900: 36,\n",
       " 1957: 37,\n",
       " 1938: 38,\n",
       " 1948: 39,\n",
       " 1962: 40,\n",
       " 1928: 41,\n",
       " 1930: 42,\n",
       " 1926: 43,\n",
       " 1939: 44,\n",
       " 1973: 45,\n",
       " 1942: 46,\n",
       " 1979: 47,\n",
       " 1923: 48,\n",
       " 1915: 49,\n",
       " 1917: 50,\n",
       " 1940: 51,\n",
       " 1910: 52,\n",
       " 1969: 53,\n",
       " 1968: 54,\n",
       " 1977: 55,\n",
       " 1945: 56,\n",
       " 1987: 57,\n",
       " 1947: 58,\n",
       " 1954: 59,\n",
       " 1941: 60,\n",
       " 1951: 61,\n",
       " 1896: 62,\n",
       " 1976: 63,\n",
       " 2008: 64,\n",
       " 2007: 65,\n",
       " 1965: 66,\n",
       " 2001: 67,\n",
       " 1972: 68,\n",
       " 1984: 69,\n",
       " 1985: 70,\n",
       " 1996: 71,\n",
       " 1995: 72,\n",
       " 1980: 73,\n",
       " 1986: 74,\n",
       " 1981: 75,\n",
       " 1982: 76,\n",
       " 1991: 77,\n",
       " 1988: 78,\n",
       " 1953: 79,\n",
       " 1924: 80,\n",
       " 1927: 81,\n",
       " 1946: 82,\n",
       " 1934: 83,\n",
       " 1983: 84,\n",
       " 1916: 85,\n",
       " 1918: 86,\n",
       " 1937: 87,\n",
       " 1932: 88,\n",
       " 1935: 89,\n",
       " 1925: 90,\n",
       " 1921: 91,\n",
       " 1895: 92,\n",
       " 1922: 93,\n",
       " 2207: 94,\n",
       " 1936: 95,\n",
       " 1943: 96,\n",
       " 1919: 97}"
      ]
     },
     "execution_count": 161,
     "metadata": {},
     "output_type": "execute_result"
    }
   ],
   "source": [
    "dict__ = {}\n",
    "\n",
    "for line in dict_['data']:\n",
    "    #print(line[1], ' : ', line[0])\n",
    "    dict__[line[1]] = line[0]\n",
    "\n",
    "dict__"
   ]
  },
  {
   "cell_type": "code",
   "execution_count": 162,
   "metadata": {},
   "outputs": [
    {
     "data": {
      "text/plain": [
       "array([ 1.,  2.,  3.,  4.,  5.,  6.,  7.,  8.,  9., 10., 11., 12., 13.,\n",
       "       14., 15., 16., 17., 18., 19., 20., 21., 22., 23., 24., 25., nan,\n",
       "       26., 27., 28., 29., 30., 31., 32., 33., 34., 35., 36., 37., 38.,\n",
       "       39., 40., 41., 42., 43., 44., 45., 46., 47., 48., 49., 50., 51.,\n",
       "       52., 53., 54., 55., 56., 57., 58., 59., 60., 61., 62., 63., 64.,\n",
       "       65., 66., 67., 68., 69., 70., 71., 72., 73., 74., 75., 76., 77.,\n",
       "       78., 79., 80., 81., 82., 83., 84., 85., 86., 87., 88., 89., 90.,\n",
       "       91., 92., 93., 94., 95., 96., 97.])"
      ]
     },
     "execution_count": 162,
     "metadata": {},
     "output_type": "execute_result"
    }
   ],
   "source": [
    "df_copy[column] = df_copy[column].replace(dict__)\n",
    "#df_copy[column] = df_copy[column].astype('int64')\n",
    "df_copy[column].unique()"
   ]
  },
  {
   "cell_type": "markdown",
   "metadata": {},
   "source": [
    "## Diccionario `PavedDrive`"
   ]
  },
  {
   "cell_type": "code",
   "execution_count": 163,
   "metadata": {},
   "outputs": [],
   "source": [
    "column = 'PavedDrive'"
   ]
  },
  {
   "cell_type": "code",
   "execution_count": 164,
   "metadata": {},
   "outputs": [
    {
     "data": {
      "text/html": [
       "<div>\n",
       "<style scoped>\n",
       "    .dataframe tbody tr th:only-of-type {\n",
       "        vertical-align: middle;\n",
       "    }\n",
       "\n",
       "    .dataframe tbody tr th {\n",
       "        vertical-align: top;\n",
       "    }\n",
       "\n",
       "    .dataframe thead th {\n",
       "        text-align: right;\n",
       "    }\n",
       "</style>\n",
       "<table border=\"1\" class=\"dataframe\">\n",
       "  <thead>\n",
       "    <tr style=\"text-align: right;\">\n",
       "      <th></th>\n",
       "      <th>0</th>\n",
       "    </tr>\n",
       "  </thead>\n",
       "  <tbody>\n",
       "    <tr>\n",
       "      <th>0</th>\n",
       "      <td>Y</td>\n",
       "    </tr>\n",
       "    <tr>\n",
       "      <th>1</th>\n",
       "      <td>N</td>\n",
       "    </tr>\n",
       "    <tr>\n",
       "      <th>2</th>\n",
       "      <td>P</td>\n",
       "    </tr>\n",
       "  </tbody>\n",
       "</table>\n",
       "</div>"
      ],
      "text/plain": [
       "   0\n",
       "0  Y\n",
       "1  N\n",
       "2  P"
      ]
     },
     "execution_count": 164,
     "metadata": {},
     "output_type": "execute_result"
    }
   ],
   "source": [
    "grouped = pd.DataFrame(df_copy[column].dropna().unique())\n",
    "grouped.head()"
   ]
  },
  {
   "cell_type": "code",
   "execution_count": 165,
   "metadata": {},
   "outputs": [
    {
     "data": {
      "text/plain": [
       "Index(['index', 0], dtype='object')"
      ]
     },
     "execution_count": 165,
     "metadata": {},
     "output_type": "execute_result"
    }
   ],
   "source": [
    "grouped.reset_index(inplace=True)\n",
    "grouped.columns"
   ]
  },
  {
   "cell_type": "code",
   "execution_count": 166,
   "metadata": {},
   "outputs": [
    {
     "data": {
      "text/plain": [
       "Index(['index', 'Key'], dtype='object')"
      ]
     },
     "execution_count": 166,
     "metadata": {},
     "output_type": "execute_result"
    }
   ],
   "source": [
    "grouped.rename(columns={0: 'Key'}, inplace=True)\n",
    "grouped.columns"
   ]
  },
  {
   "cell_type": "code",
   "execution_count": 167,
   "metadata": {},
   "outputs": [
    {
     "data": {
      "text/plain": [
       "(3, 2)"
      ]
     },
     "execution_count": 167,
     "metadata": {},
     "output_type": "execute_result"
    }
   ],
   "source": [
    "grouped.shape"
   ]
  },
  {
   "cell_type": "code",
   "execution_count": 168,
   "metadata": {},
   "outputs": [
    {
     "data": {
      "text/html": [
       "<div>\n",
       "<style scoped>\n",
       "    .dataframe tbody tr th:only-of-type {\n",
       "        vertical-align: middle;\n",
       "    }\n",
       "\n",
       "    .dataframe tbody tr th {\n",
       "        vertical-align: top;\n",
       "    }\n",
       "\n",
       "    .dataframe thead th {\n",
       "        text-align: right;\n",
       "    }\n",
       "</style>\n",
       "<table border=\"1\" class=\"dataframe\">\n",
       "  <thead>\n",
       "    <tr style=\"text-align: right;\">\n",
       "      <th></th>\n",
       "      <th>index</th>\n",
       "      <th>Key</th>\n",
       "    </tr>\n",
       "  </thead>\n",
       "  <tbody>\n",
       "    <tr>\n",
       "      <th>0</th>\n",
       "      <td>1</td>\n",
       "      <td>Y</td>\n",
       "    </tr>\n",
       "    <tr>\n",
       "      <th>1</th>\n",
       "      <td>2</td>\n",
       "      <td>N</td>\n",
       "    </tr>\n",
       "    <tr>\n",
       "      <th>2</th>\n",
       "      <td>3</td>\n",
       "      <td>P</td>\n",
       "    </tr>\n",
       "  </tbody>\n",
       "</table>\n",
       "</div>"
      ],
      "text/plain": [
       "   index Key\n",
       "0      1   Y\n",
       "1      2   N\n",
       "2      3   P"
      ]
     },
     "execution_count": 168,
     "metadata": {},
     "output_type": "execute_result"
    }
   ],
   "source": [
    "grouped['index'] += 1\n",
    "grouped"
   ]
  },
  {
   "cell_type": "code",
   "execution_count": 169,
   "metadata": {},
   "outputs": [
    {
     "data": {
      "text/plain": [
       "dict_keys(['index', 'columns', 'data'])"
      ]
     },
     "execution_count": 169,
     "metadata": {},
     "output_type": "execute_result"
    }
   ],
   "source": [
    "dict_ = grouped.to_dict(orient='split')\n",
    "dict_.keys()"
   ]
  },
  {
   "cell_type": "code",
   "execution_count": 170,
   "metadata": {},
   "outputs": [
    {
     "data": {
      "text/plain": [
       "{'data': [[1, 'Y'], [2, 'N'], [3, 'P']]}"
      ]
     },
     "execution_count": 170,
     "metadata": {},
     "output_type": "execute_result"
    }
   ],
   "source": [
    "dict_.pop('index')\n",
    "dict_.pop('columns')\n",
    "dict_"
   ]
  },
  {
   "cell_type": "code",
   "execution_count": 171,
   "metadata": {},
   "outputs": [
    {
     "data": {
      "text/plain": [
       "{'Y': 1, 'N': 2, 'P': 3}"
      ]
     },
     "execution_count": 171,
     "metadata": {},
     "output_type": "execute_result"
    }
   ],
   "source": [
    "dict__ = {}\n",
    "\n",
    "for line in dict_['data']:\n",
    "    #print(line[1], ' : ', line[0])\n",
    "    dict__[line[1]] = line[0]\n",
    "\n",
    "dict__"
   ]
  },
  {
   "cell_type": "code",
   "execution_count": 172,
   "metadata": {},
   "outputs": [
    {
     "data": {
      "text/plain": [
       "array([1, 2, 3])"
      ]
     },
     "execution_count": 172,
     "metadata": {},
     "output_type": "execute_result"
    }
   ],
   "source": [
    "df_copy[column] = df_copy[column].replace(dict__)\n",
    "#df_copy[column] = df_copy[column].astype('int64')\n",
    "df_copy[column].unique()"
   ]
  },
  {
   "cell_type": "markdown",
   "metadata": {},
   "source": [
    "## Diccionario `SaleType`"
   ]
  },
  {
   "cell_type": "code",
   "execution_count": 173,
   "metadata": {},
   "outputs": [],
   "source": [
    "column = 'SaleType'"
   ]
  },
  {
   "cell_type": "code",
   "execution_count": 174,
   "metadata": {},
   "outputs": [
    {
     "data": {
      "text/html": [
       "<div>\n",
       "<style scoped>\n",
       "    .dataframe tbody tr th:only-of-type {\n",
       "        vertical-align: middle;\n",
       "    }\n",
       "\n",
       "    .dataframe tbody tr th {\n",
       "        vertical-align: top;\n",
       "    }\n",
       "\n",
       "    .dataframe thead th {\n",
       "        text-align: right;\n",
       "    }\n",
       "</style>\n",
       "<table border=\"1\" class=\"dataframe\">\n",
       "  <thead>\n",
       "    <tr style=\"text-align: right;\">\n",
       "      <th></th>\n",
       "      <th>0</th>\n",
       "    </tr>\n",
       "  </thead>\n",
       "  <tbody>\n",
       "    <tr>\n",
       "      <th>0</th>\n",
       "      <td>WD</td>\n",
       "    </tr>\n",
       "    <tr>\n",
       "      <th>1</th>\n",
       "      <td>COD</td>\n",
       "    </tr>\n",
       "    <tr>\n",
       "      <th>2</th>\n",
       "      <td>New</td>\n",
       "    </tr>\n",
       "    <tr>\n",
       "      <th>3</th>\n",
       "      <td>ConLD</td>\n",
       "    </tr>\n",
       "    <tr>\n",
       "      <th>4</th>\n",
       "      <td>Oth</td>\n",
       "    </tr>\n",
       "  </tbody>\n",
       "</table>\n",
       "</div>"
      ],
      "text/plain": [
       "       0\n",
       "0     WD\n",
       "1    COD\n",
       "2    New\n",
       "3  ConLD\n",
       "4    Oth"
      ]
     },
     "execution_count": 174,
     "metadata": {},
     "output_type": "execute_result"
    }
   ],
   "source": [
    "grouped = pd.DataFrame(df_copy[column].dropna().unique())\n",
    "grouped.head()"
   ]
  },
  {
   "cell_type": "code",
   "execution_count": 175,
   "metadata": {},
   "outputs": [
    {
     "data": {
      "text/plain": [
       "Index(['index', 0], dtype='object')"
      ]
     },
     "execution_count": 175,
     "metadata": {},
     "output_type": "execute_result"
    }
   ],
   "source": [
    "grouped.reset_index(inplace=True)\n",
    "grouped.columns"
   ]
  },
  {
   "cell_type": "code",
   "execution_count": 176,
   "metadata": {},
   "outputs": [
    {
     "data": {
      "text/plain": [
       "Index(['index', 'Key'], dtype='object')"
      ]
     },
     "execution_count": 176,
     "metadata": {},
     "output_type": "execute_result"
    }
   ],
   "source": [
    "grouped.rename(columns={0: 'Key'}, inplace=True)\n",
    "grouped.columns"
   ]
  },
  {
   "cell_type": "code",
   "execution_count": 177,
   "metadata": {},
   "outputs": [
    {
     "data": {
      "text/plain": [
       "(9, 2)"
      ]
     },
     "execution_count": 177,
     "metadata": {},
     "output_type": "execute_result"
    }
   ],
   "source": [
    "grouped.shape"
   ]
  },
  {
   "cell_type": "code",
   "execution_count": 178,
   "metadata": {},
   "outputs": [
    {
     "data": {
      "text/html": [
       "<div>\n",
       "<style scoped>\n",
       "    .dataframe tbody tr th:only-of-type {\n",
       "        vertical-align: middle;\n",
       "    }\n",
       "\n",
       "    .dataframe tbody tr th {\n",
       "        vertical-align: top;\n",
       "    }\n",
       "\n",
       "    .dataframe thead th {\n",
       "        text-align: right;\n",
       "    }\n",
       "</style>\n",
       "<table border=\"1\" class=\"dataframe\">\n",
       "  <thead>\n",
       "    <tr style=\"text-align: right;\">\n",
       "      <th></th>\n",
       "      <th>index</th>\n",
       "      <th>Key</th>\n",
       "    </tr>\n",
       "  </thead>\n",
       "  <tbody>\n",
       "    <tr>\n",
       "      <th>0</th>\n",
       "      <td>1</td>\n",
       "      <td>WD</td>\n",
       "    </tr>\n",
       "    <tr>\n",
       "      <th>1</th>\n",
       "      <td>2</td>\n",
       "      <td>COD</td>\n",
       "    </tr>\n",
       "    <tr>\n",
       "      <th>2</th>\n",
       "      <td>3</td>\n",
       "      <td>New</td>\n",
       "    </tr>\n",
       "    <tr>\n",
       "      <th>3</th>\n",
       "      <td>4</td>\n",
       "      <td>ConLD</td>\n",
       "    </tr>\n",
       "    <tr>\n",
       "      <th>4</th>\n",
       "      <td>5</td>\n",
       "      <td>Oth</td>\n",
       "    </tr>\n",
       "    <tr>\n",
       "      <th>5</th>\n",
       "      <td>6</td>\n",
       "      <td>Con</td>\n",
       "    </tr>\n",
       "    <tr>\n",
       "      <th>6</th>\n",
       "      <td>7</td>\n",
       "      <td>ConLw</td>\n",
       "    </tr>\n",
       "    <tr>\n",
       "      <th>7</th>\n",
       "      <td>8</td>\n",
       "      <td>ConLI</td>\n",
       "    </tr>\n",
       "    <tr>\n",
       "      <th>8</th>\n",
       "      <td>9</td>\n",
       "      <td>CWD</td>\n",
       "    </tr>\n",
       "  </tbody>\n",
       "</table>\n",
       "</div>"
      ],
      "text/plain": [
       "   index    Key\n",
       "0      1     WD\n",
       "1      2    COD\n",
       "2      3    New\n",
       "3      4  ConLD\n",
       "4      5    Oth\n",
       "5      6    Con\n",
       "6      7  ConLw\n",
       "7      8  ConLI\n",
       "8      9    CWD"
      ]
     },
     "execution_count": 178,
     "metadata": {},
     "output_type": "execute_result"
    }
   ],
   "source": [
    "grouped['index'] += 1\n",
    "grouped"
   ]
  },
  {
   "cell_type": "code",
   "execution_count": 179,
   "metadata": {},
   "outputs": [
    {
     "data": {
      "text/plain": [
       "dict_keys(['index', 'columns', 'data'])"
      ]
     },
     "execution_count": 179,
     "metadata": {},
     "output_type": "execute_result"
    }
   ],
   "source": [
    "dict_ = grouped.to_dict(orient='split')\n",
    "dict_.keys()"
   ]
  },
  {
   "cell_type": "code",
   "execution_count": 180,
   "metadata": {},
   "outputs": [
    {
     "data": {
      "text/plain": [
       "{'data': [[1, 'WD'],\n",
       "  [2, 'COD'],\n",
       "  [3, 'New'],\n",
       "  [4, 'ConLD'],\n",
       "  [5, 'Oth'],\n",
       "  [6, 'Con'],\n",
       "  [7, 'ConLw'],\n",
       "  [8, 'ConLI'],\n",
       "  [9, 'CWD']]}"
      ]
     },
     "execution_count": 180,
     "metadata": {},
     "output_type": "execute_result"
    }
   ],
   "source": [
    "dict_.pop('index')\n",
    "dict_.pop('columns')\n",
    "dict_"
   ]
  },
  {
   "cell_type": "code",
   "execution_count": 181,
   "metadata": {},
   "outputs": [
    {
     "data": {
      "text/plain": [
       "{'WD': 1,\n",
       " 'COD': 2,\n",
       " 'New': 3,\n",
       " 'ConLD': 4,\n",
       " 'Oth': 5,\n",
       " 'Con': 6,\n",
       " 'ConLw': 7,\n",
       " 'ConLI': 8,\n",
       " 'CWD': 9}"
      ]
     },
     "execution_count": 181,
     "metadata": {},
     "output_type": "execute_result"
    }
   ],
   "source": [
    "dict__ = {}\n",
    "\n",
    "for line in dict_['data']:\n",
    "    #print(line[1], ' : ', line[0])\n",
    "    dict__[line[1]] = line[0]\n",
    "\n",
    "dict__"
   ]
  },
  {
   "cell_type": "code",
   "execution_count": 182,
   "metadata": {},
   "outputs": [
    {
     "data": {
      "text/plain": [
       "array([ 1.,  2.,  3.,  4.,  5.,  6.,  7.,  8.,  9., nan])"
      ]
     },
     "execution_count": 182,
     "metadata": {},
     "output_type": "execute_result"
    }
   ],
   "source": [
    "df_copy[column] = df_copy[column].replace(dict__)\n",
    "#df_copy[column] = df_copy[column].astype('int64')\n",
    "df_copy[column].unique()"
   ]
  },
  {
   "cell_type": "markdown",
   "metadata": {},
   "source": [
    "## Diccionario `SaleCondition`"
   ]
  },
  {
   "cell_type": "code",
   "execution_count": 183,
   "metadata": {},
   "outputs": [],
   "source": [
    "column = 'SaleCondition'"
   ]
  },
  {
   "cell_type": "code",
   "execution_count": 184,
   "metadata": {},
   "outputs": [
    {
     "data": {
      "text/html": [
       "<div>\n",
       "<style scoped>\n",
       "    .dataframe tbody tr th:only-of-type {\n",
       "        vertical-align: middle;\n",
       "    }\n",
       "\n",
       "    .dataframe tbody tr th {\n",
       "        vertical-align: top;\n",
       "    }\n",
       "\n",
       "    .dataframe thead th {\n",
       "        text-align: right;\n",
       "    }\n",
       "</style>\n",
       "<table border=\"1\" class=\"dataframe\">\n",
       "  <thead>\n",
       "    <tr style=\"text-align: right;\">\n",
       "      <th></th>\n",
       "      <th>0</th>\n",
       "    </tr>\n",
       "  </thead>\n",
       "  <tbody>\n",
       "    <tr>\n",
       "      <th>0</th>\n",
       "      <td>Normal</td>\n",
       "    </tr>\n",
       "    <tr>\n",
       "      <th>1</th>\n",
       "      <td>Partial</td>\n",
       "    </tr>\n",
       "    <tr>\n",
       "      <th>2</th>\n",
       "      <td>Abnorml</td>\n",
       "    </tr>\n",
       "    <tr>\n",
       "      <th>3</th>\n",
       "      <td>Family</td>\n",
       "    </tr>\n",
       "    <tr>\n",
       "      <th>4</th>\n",
       "      <td>Alloca</td>\n",
       "    </tr>\n",
       "  </tbody>\n",
       "</table>\n",
       "</div>"
      ],
      "text/plain": [
       "         0\n",
       "0   Normal\n",
       "1  Partial\n",
       "2  Abnorml\n",
       "3   Family\n",
       "4   Alloca"
      ]
     },
     "execution_count": 184,
     "metadata": {},
     "output_type": "execute_result"
    }
   ],
   "source": [
    "grouped = pd.DataFrame(df_copy[column].dropna().unique())\n",
    "grouped.head()"
   ]
  },
  {
   "cell_type": "code",
   "execution_count": 185,
   "metadata": {},
   "outputs": [
    {
     "data": {
      "text/plain": [
       "Index(['index', 0], dtype='object')"
      ]
     },
     "execution_count": 185,
     "metadata": {},
     "output_type": "execute_result"
    }
   ],
   "source": [
    "grouped.reset_index(inplace=True)\n",
    "grouped.columns"
   ]
  },
  {
   "cell_type": "code",
   "execution_count": 186,
   "metadata": {},
   "outputs": [
    {
     "data": {
      "text/plain": [
       "Index(['index', 'Key'], dtype='object')"
      ]
     },
     "execution_count": 186,
     "metadata": {},
     "output_type": "execute_result"
    }
   ],
   "source": [
    "grouped.rename(columns={0: 'Key'}, inplace=True)\n",
    "grouped.columns"
   ]
  },
  {
   "cell_type": "code",
   "execution_count": 187,
   "metadata": {},
   "outputs": [
    {
     "data": {
      "text/plain": [
       "(6, 2)"
      ]
     },
     "execution_count": 187,
     "metadata": {},
     "output_type": "execute_result"
    }
   ],
   "source": [
    "grouped.shape"
   ]
  },
  {
   "cell_type": "code",
   "execution_count": 188,
   "metadata": {},
   "outputs": [
    {
     "data": {
      "text/html": [
       "<div>\n",
       "<style scoped>\n",
       "    .dataframe tbody tr th:only-of-type {\n",
       "        vertical-align: middle;\n",
       "    }\n",
       "\n",
       "    .dataframe tbody tr th {\n",
       "        vertical-align: top;\n",
       "    }\n",
       "\n",
       "    .dataframe thead th {\n",
       "        text-align: right;\n",
       "    }\n",
       "</style>\n",
       "<table border=\"1\" class=\"dataframe\">\n",
       "  <thead>\n",
       "    <tr style=\"text-align: right;\">\n",
       "      <th></th>\n",
       "      <th>index</th>\n",
       "      <th>Key</th>\n",
       "    </tr>\n",
       "  </thead>\n",
       "  <tbody>\n",
       "    <tr>\n",
       "      <th>0</th>\n",
       "      <td>1</td>\n",
       "      <td>Normal</td>\n",
       "    </tr>\n",
       "    <tr>\n",
       "      <th>1</th>\n",
       "      <td>2</td>\n",
       "      <td>Partial</td>\n",
       "    </tr>\n",
       "    <tr>\n",
       "      <th>2</th>\n",
       "      <td>3</td>\n",
       "      <td>Abnorml</td>\n",
       "    </tr>\n",
       "    <tr>\n",
       "      <th>3</th>\n",
       "      <td>4</td>\n",
       "      <td>Family</td>\n",
       "    </tr>\n",
       "    <tr>\n",
       "      <th>4</th>\n",
       "      <td>5</td>\n",
       "      <td>Alloca</td>\n",
       "    </tr>\n",
       "    <tr>\n",
       "      <th>5</th>\n",
       "      <td>6</td>\n",
       "      <td>AdjLand</td>\n",
       "    </tr>\n",
       "  </tbody>\n",
       "</table>\n",
       "</div>"
      ],
      "text/plain": [
       "   index      Key\n",
       "0      1   Normal\n",
       "1      2  Partial\n",
       "2      3  Abnorml\n",
       "3      4   Family\n",
       "4      5   Alloca\n",
       "5      6  AdjLand"
      ]
     },
     "execution_count": 188,
     "metadata": {},
     "output_type": "execute_result"
    }
   ],
   "source": [
    "grouped['index'] += 1\n",
    "grouped"
   ]
  },
  {
   "cell_type": "code",
   "execution_count": 189,
   "metadata": {},
   "outputs": [
    {
     "data": {
      "text/plain": [
       "dict_keys(['index', 'columns', 'data'])"
      ]
     },
     "execution_count": 189,
     "metadata": {},
     "output_type": "execute_result"
    }
   ],
   "source": [
    "dict_ = grouped.to_dict(orient='split')\n",
    "dict_.keys()"
   ]
  },
  {
   "cell_type": "code",
   "execution_count": 190,
   "metadata": {},
   "outputs": [
    {
     "data": {
      "text/plain": [
       "{'data': [[1, 'Normal'],\n",
       "  [2, 'Partial'],\n",
       "  [3, 'Abnorml'],\n",
       "  [4, 'Family'],\n",
       "  [5, 'Alloca'],\n",
       "  [6, 'AdjLand']]}"
      ]
     },
     "execution_count": 190,
     "metadata": {},
     "output_type": "execute_result"
    }
   ],
   "source": [
    "dict_.pop('index')\n",
    "dict_.pop('columns')\n",
    "dict_"
   ]
  },
  {
   "cell_type": "code",
   "execution_count": 191,
   "metadata": {},
   "outputs": [
    {
     "data": {
      "text/plain": [
       "{'Normal': 1,\n",
       " 'Partial': 2,\n",
       " 'Abnorml': 3,\n",
       " 'Family': 4,\n",
       " 'Alloca': 5,\n",
       " 'AdjLand': 6}"
      ]
     },
     "execution_count": 191,
     "metadata": {},
     "output_type": "execute_result"
    }
   ],
   "source": [
    "dict__ = {}\n",
    "\n",
    "for line in dict_['data']:\n",
    "    #print(line[1], ' : ', line[0])\n",
    "    dict__[line[1]] = line[0]\n",
    "\n",
    "dict__"
   ]
  },
  {
   "cell_type": "code",
   "execution_count": 192,
   "metadata": {},
   "outputs": [
    {
     "data": {
      "text/plain": [
       "array([1, 2, 3, 4, 5, 6])"
      ]
     },
     "execution_count": 192,
     "metadata": {},
     "output_type": "execute_result"
    }
   ],
   "source": [
    "df_copy[column] = df_copy[column].replace(dict__)\n",
    "#df_copy[column] = df_copy[column].astype('int64')\n",
    "df_copy[column].unique()"
   ]
  },
  {
   "cell_type": "code",
   "execution_count": 193,
   "metadata": {},
   "outputs": [
    {
     "name": "stdout",
     "output_type": "stream",
     "text": [
      "Id  :  [1461 1462 1463 ... 2917 2918 2919] \n",
      "\n",
      "MSSubClass  :  [ 20  60 120 160  80  30  50  90  85 190  45  70  75 180  40 150] \n",
      "\n",
      "MSZoning  :  [ 1.  0.  2.  3. nan] \n",
      "\n",
      "LotFrontage  :  [ 80.  81.  74.  78.  43.  75.  nan  63.  85.  70.  26.  21.  24. 102.\n",
      "  94.  90.  79. 110. 105.  41. 100.  67.  60.  73.  92.  84.  39.  88.\n",
      "  25.  30.  57.  68.  98. 120.  87. 119.  65.  56.  69.  50.  53.  52.\n",
      "  51.  72.  86. 124.  44.  83.  64.  82.  38.  89.  35.  58.  66.  93.\n",
      "  31.  76.  28.  61.  95. 129.  59.  77.  96.  47.  34. 117.  48.  62.\n",
      "  42. 106. 112.  32. 115.  71.  45. 109. 113. 125. 101. 104. 108. 130.\n",
      " 135.  36.  55. 136.  97.  91.  37.  22. 103.  99.  40. 123.  54. 107.\n",
      " 150. 160. 195. 128.  33. 118. 134. 155. 126.  46. 149. 200. 121. 131.\n",
      " 114.  49. 133. 140.] \n",
      "\n",
      "LotArea  :  [11622 14267 13830 ...  1894 20000 10441] \n",
      "\n",
      "Street  :  ['Pave' 'Grvl'] \n",
      "\n",
      "Alley  :  [nan 'Pave' 'Grvl'] \n",
      "\n",
      "LotShape  :  ['Reg' 'IR1' 'IR2' 'IR3'] \n",
      "\n",
      "LandContour  :  ['Lvl' 'HLS' 'Bnk' 'Low'] \n",
      "\n",
      "Utilities  :  ['AllPub' nan] \n",
      "\n",
      "LotConfig  :  ['Inside' 'Corner' 'FR2' 'CulDSac' 'FR3'] \n",
      "\n",
      "LandSlope  :  ['Gtl' 'Mod' 'Sev'] \n",
      "\n",
      "Neighborhood  :  ['NAmes' 'Gilbert' 'StoneBr' 'BrDale' 'NPkVill' 'NridgHt' 'Blmngtn'\n",
      " 'NoRidge' 'Somerst' 'SawyerW' 'Sawyer' 'NWAmes' 'OldTown' 'BrkSide'\n",
      " 'ClearCr' 'SWISU' 'Edwards' 'CollgCr' 'Crawfor' 'Blueste' 'IDOTRR'\n",
      " 'Mitchel' 'Timber' 'MeadowV' 'Veenker'] \n",
      "\n",
      "Condition1  :  ['Feedr' 'Norm' 'PosN' 'RRNe' 'Artery' 'RRNn' 'PosA' 'RRAn' 'RRAe'] \n",
      "\n",
      "Condition2  :  ['Norm' 'Feedr' 'PosA' 'PosN' 'Artery'] \n",
      "\n",
      "BldgType  :  ['1Fam' 'TwnhsE' 'Twnhs' 'Duplex' '2fmCon'] \n",
      "\n",
      "HouseStyle  :  ['1Story' '2Story' 'SLvl' '1.5Fin' 'SFoyer' '2.5Unf' '1.5Unf'] \n",
      "\n",
      "OverallQual  :  [ 5  6  8  7  4  9  2  3 10  1] \n",
      "\n",
      "OverallCond  :  [6 5 7 8 2 9 3 4 1] \n",
      "\n",
      "YearBuilt  :  [1961 1958 1997 1998 1992 1993 1990 1970 1999 1971 1975 2009 2005 2003\n",
      " 2002 2006 2004 1920 1974 2000 2010 1967 1978 1966 1964 1962 1952 1949\n",
      " 1959 1956 1955 1948 1960 1963 1900 1957 1938 1923 1890 1910 1922 1950\n",
      " 1925 1939 1940 1942 1936 1930 1915 1912 1917 1907 1968 1977 1927 1947\n",
      " 1954 1987 1996 1972 1945 1924 1931 1941 1994 1989 1921 1896 1976 2008\n",
      " 1965 1973 1984 1985 1991 1969 1995 1980 2007 1986 1981 1951 1953 1935\n",
      " 1902 1946 1934 1983 1880 1979 2001 1916 1918 1988 1937 1905 1928 1926\n",
      " 1929 1914 1895 1982 1879 1901 1919 1932] \n",
      "\n",
      "YearRemodAdd  :  [1961 1958 1998 1992 1994 2007 1990 1970 1999 1971 1975 2010 2005 2006\n",
      " 2004 2002 1950 1993 2000 2003 1967 1978 1966 1964 2001 2008 2009 1959\n",
      " 1956 1952 1955 1960 1984 1954 1957 1962 1997 1980 1968 1987 1979 1996\n",
      " 1972 1985 1991 1989 1977 1976 1973 1986 1969 1995 1974 1981 1965 1951\n",
      " 1953 1963 1982 1988 1983] \n",
      "\n",
      "RoofStyle  :  ['Gable' 'Hip' 'Gambrel' 'Flat' 'Mansard' 'Shed'] \n",
      "\n",
      "RoofMatl  :  ['CompShg' 'Tar&Grv' 'WdShake' 'WdShngl'] \n",
      "\n",
      "Exterior1st  :  ['VinylSd' 'Wd Sdng' 'HdBoard' 'Plywood' 'MetalSd' 'CemntBd' 'WdShing'\n",
      " 'BrkFace' 'AsbShng' 'BrkComm' 'Stucco' 'AsphShn' nan 'CBlock'] \n",
      "\n",
      "Exterior2nd  :  ['VinylSd' 'Wd Sdng' 'HdBoard' 'Plywood' 'MetalSd' 'Brk Cmn' 'CmentBd'\n",
      " 'ImStucc' 'Wd Shng' 'AsbShng' 'Stucco' 'CBlock' 'BrkFace' 'AsphShn' nan\n",
      " 'Stone'] \n",
      "\n",
      "MasVnrType  :  ['None' 'BrkFace' 'Stone' 'BrkCmn' nan] \n",
      "\n",
      "MasVnrArea  :  [0.000e+00 1.080e+02 2.000e+01 5.040e+02 4.920e+02 1.620e+02 2.560e+02\n",
      " 6.150e+02 2.400e+02 1.095e+03 2.320e+02 1.780e+02 1.400e+01 1.140e+02\n",
      " 2.260e+02 1.220e+02 2.500e+02 1.800e+02 1.200e+02 2.160e+02 1.159e+03\n",
      " 1.720e+02 2.680e+02 1.440e+02 2.650e+02 3.400e+02 5.060e+02 1.500e+02\n",
      " 9.100e+01 4.320e+02 2.180e+02 7.710e+02 3.000e+02 9.000e+01 7.200e+01\n",
      " 4.700e+01 2.880e+02 9.600e+01 1.770e+02 8.500e+01 8.000e+01 3.200e+02\n",
      " 1.700e+02 2.030e+02 3.710e+02 4.300e+02 4.400e+01 1.860e+02 6.000e+01\n",
      " 4.400e+02 1.880e+02 3.200e+01 4.500e+01 1.570e+02 1.010e+02 2.290e+02\n",
      " 1.610e+02 1.960e+02 4.250e+02 1.650e+02 7.260e+02 4.500e+02 4.720e+02\n",
      " 3.020e+02 2.380e+02 2.840e+02 2.850e+02 4.180e+02 7.240e+02 3.830e+02\n",
      " 1.350e+02 1.760e+02 7.300e+02 4.700e+02 3.080e+02 5.000e+02 2.700e+02\n",
      " 1.630e+02 1.600e+01 2.000e+02       nan 2.100e+02 6.340e+02 2.860e+02\n",
      " 3.720e+02 2.940e+02 2.600e+02 2.060e+02 1.980e+02 1.210e+02 2.640e+02\n",
      " 1.400e+02 1.320e+02 1.410e+02 1.150e+02 2.800e+02 2.520e+02 5.130e+02\n",
      " 1.280e+02 2.830e+02 5.090e+02 1.600e+02 7.000e+01 2.170e+02 3.000e+00\n",
      " 1.640e+02 6.570e+02 4.800e+02 2.950e+02 1.430e+02 8.200e+01 4.200e+02\n",
      " 1.240e+02 4.440e+02 2.300e+01 5.400e+01 3.660e+02 1.490e+02 1.000e+02\n",
      " 2.420e+02 3.640e+02 3.520e+02 7.600e+01 6.800e+01 4.000e+01 2.090e+02\n",
      " 7.400e+01 2.590e+02 8.800e+01 1.740e+02 2.460e+02 4.060e+02 3.100e+02\n",
      " 2.900e+02 1.820e+02 1.190e+02 1.940e+02 1.300e+02 2.960e+02 1.020e+02\n",
      " 6.210e+02 1.680e+02 4.020e+02 3.590e+02 4.220e+02 3.560e+02 5.540e+02\n",
      " 4.680e+02 3.680e+02 1.260e+02 6.800e+02 1.110e+03 2.210e+02 7.140e+02\n",
      " 1.060e+02 2.400e+01 6.470e+02 1.290e+03 4.950e+02 4.660e+02 1.560e+02\n",
      " 2.920e+02 9.500e+01 3.800e+01 1.450e+02 3.040e+02 5.680e+02 1.790e+02\n",
      " 4.560e+02 1.050e+03 4.100e+02 1.870e+02 5.200e+01 8.400e+01 3.600e+02\n",
      " 1.250e+02 2.760e+02 3.900e+01 2.750e+02 1.900e+02 2.510e+02 2.270e+02\n",
      " 1.340e+02 1.920e+02 2.050e+02 5.000e+01 2.120e+02 2.220e+02 5.800e+01\n",
      " 6.680e+02 2.580e+02 2.280e+02 6.740e+02 1.970e+02 9.800e+01 1.380e+02\n",
      " 1.460e+02 7.100e+02 9.450e+02 3.060e+02 6.700e+01 5.490e+02 2.530e+02\n",
      " 5.670e+02 3.780e+02 4.000e+02 3.650e+02 9.700e+02 5.100e+02 5.020e+02\n",
      " 3.940e+02 2.350e+02 2.200e+01 5.150e+02 3.090e+02 5.260e+02 2.480e+02\n",
      " 7.540e+02 1.480e+02 2.980e+02 3.530e+02 2.720e+02 3.000e+01 3.600e+01\n",
      " 3.420e+02 6.000e+02 4.100e+01 5.250e+02 1.120e+02 5.600e+01 2.020e+02\n",
      " 1.360e+02 8.700e+01 2.910e+02 6.900e+01 2.890e+02 5.300e+01 8.600e+01\n",
      " 2.790e+02 1.000e+00 2.340e+02 4.420e+02 8.900e+01 3.230e+02 2.040e+02\n",
      " 1.130e+02 5.100e+01 2.140e+02 5.190e+02 2.540e+02 1.580e+02 1.224e+03\n",
      " 4.230e+02 6.520e+02 4.730e+02 1.660e+02 8.860e+02 9.400e+01 1.890e+02\n",
      " 2.800e+01 2.440e+02 9.020e+02 4.340e+02 6.620e+02 1.840e+02 7.340e+02\n",
      " 5.500e+02 2.300e+02 5.140e+02 3.800e+02 2.150e+02 3.850e+02 1.420e+02\n",
      " 2.780e+02 5.180e+02 5.720e+02 2.360e+02 1.800e+01 3.220e+02 8.770e+02\n",
      " 3.970e+02 7.380e+02 5.010e+02 1.180e+02 6.920e+02 3.320e+02 6.320e+02\n",
      " 5.220e+02 3.790e+02 1.040e+02 3.050e+02 9.900e+01 6.500e+01 1.230e+02\n",
      " 1.530e+02 5.320e+02 6.200e+01 1.990e+02 2.610e+02 3.550e+02 4.050e+02\n",
      " 3.270e+02 2.570e+02 3.820e+02] \n",
      "\n",
      "ExterQual  :  ['TA' 'Gd' 'Ex' 'Fa'] \n",
      "\n",
      "ExterCond  :  ['TA' 'Gd' 'Fa' 'Po' 'Ex'] \n",
      "\n",
      "Foundation  :  ['CBlock' 'PConc' 'BrkTil' 'Stone' 'Slab' 'Wood'] \n",
      "\n",
      "BsmtQual  :  ['TA' 'Gd' 'Ex' 'Fa' nan] \n",
      "\n",
      "BsmtCond  :  ['TA' 'Po' 'Fa' 'Gd' nan] \n",
      "\n",
      "BsmtExposure  :  ['No' 'Gd' 'Mn' 'Av' nan] \n",
      "\n",
      "BsmtFinType1  :  [ 1.  2.  3.  4.  5.  6. nan] \n",
      "\n",
      "BsmtFinSF1  :  [ 468.  923.  791.  602.  263.    0.  935.  637.  804. 1051.  156.  300.\n",
      "  514.  110.   28. 1373.  578.   24.   16.  326. 1414.  126.  250. 1129.\n",
      " 1298.  280.  368.  376.  466.  244. 1032.  484.  833.  506. 1137.  687.\n",
      "  329.  698. 1059. 1010. 1500.  670.  944. 1188.  856.  936.  734.  339.\n",
      "  648.  532.  481.  588.  717.   48.  579.  274.  780.  176.  283.  788.\n",
      "  474.  188.  452.  264.  360.  276.  448.  960.  766. 1026.   73.  736.\n",
      "  704.  240.  775. 1319.  267. 1092.  964.  288.  104.  192.  954. 1346.\n",
      " 1433.  860.  870.  353.  198.  480. 1682.  672. 1070.  528.  133.  238.\n",
      "  426.  375.  343.  747.   76.  308.  615.  679.   78.   42.  915.  294.\n",
      "  469.  207.  458.  476. 1341.  564.  844.  847.  850.  284. 1965.  341.\n",
      "  741.  189.  600.  400.  363.  832.  622.  225. 1333.  888.  636.  500.\n",
      "  726.  254.  306.  435.  389.  320.  279.  536.  644. 1360.  986. 1232.\n",
      " 2288. 1531. 1230. 1015. 1037. 1142. 1262. 1972.  836.  881.  876. 2146.\n",
      " 1557.  800. 1196.  652.  494.  651.  241.  683.  913. 1173.  236.  816.\n",
      "  624. 1294.  379. 2158.  682. 1430.  771.  410.   54.  516.   52.   36.\n",
      "  331.   68.  660.  864.  544.  140. 1733.  601.  962.  507.  549. 1252.\n",
      "  121.  560.  553.  955.  432.  403.  625.  310.  998.  388.  568.  100.\n",
      " 1312. 1387.  708.  172.  155.  490.  700.  931.  699.  390.  384.  872.\n",
      "  745.  546.  621.  630.  433.  120.  941.  826.  633.  421.  220.  273.\n",
      "  134.  522.  169.  749. 1200. 1152.  527.  456.  257.  342.  173.  552.\n",
      "  460.   70. 1094.  820. 1021. 1104. 1359.  902.  755.  950.  606. 1259.\n",
      "  710. 1234. 1246. 1111. 1478.  399.  547.  332. 1078.  626.  728.  793.\n",
      "  246.  154.   65.  312.  784.  471.  454.  803. 1476.  445.  767.  841.\n",
      "   55. 1758. 1115.  462.  904. 1640.  594.  720.  114.  718.  330.  496.\n",
      "  706.  851.  138.  450.  656.  504.  319. 1337. 1034.  983. 1206.  890.\n",
      "  988. 1023.  252.  119.  483.  350.  286.  378. 1012. 1728. 1375. 1420.\n",
      " 1082. 1249.   40. 2257. 1149. 1075.  372.   20. 1204.  846. 1073. 1087.\n",
      " 1660.  228. 1096.  729.  666.   80.  362.  537.  472.  397.   53.  764.\n",
      "  489.  190.  520.  550. 1027. 1004. 1141.  681.  612.  813.  128. 1044.\n",
      "  828.  301.  603.  732.  260.  583.  658.   32.  531.  575. 1053.  958.\n",
      "  774.  148.  744.  697.  315.  673.  370.   96.  590.  116.  234.  200.\n",
      "  406.  175.  521.  201.   nan  203.  196.  758.  221. 1300.  634.  776.\n",
      "  336.  599. 1035.  324.  779. 1271.  355. 2085. 1153.  770.  262.  722.\n",
      " 1308.  688.  663.  781.   88. 1194. 1538.  662. 1593.   56.  609. 1033.\n",
      "  224.  281.  210. 1116.  366.  299. 1474. 1383.  893. 1036.  920. 1029.\n",
      " 1223. 1011. 1571. 1309.  865.  769.  318.  501.  437.  785.  358.  534.\n",
      "  638.  647.  838.  186.  871.  414.  248.  926. 1101. 1047.  797. 1558.\n",
      "  256.  321. 1328.  903.  492.  566.   81.  314.  930.  632.  725. 1151.\n",
      " 1518. 1304. 1812. 1684.  778.  938.  669. 1178.  866. 1030.  762.  848.\n",
      " 1000.  918. 1084.  574. 1181. 1048.  335. 1225. 1220. 1572.  812.  727.\n",
      "  787.  968.   60.  937.  565.  417.  901.  457. 1732. 1632.  973.  910.\n",
      "  346.  819.  792.  617.  438.  311.  654. 1386.  130.  144.  150.  873.\n",
      "  908.  668.  512.  408.  441.   85.  595.  292.  242.  952.  739. 1098.\n",
      "  782.  122.  168.  259.  316.  317.  351.  354.  485.  925.  513.  249.\n",
      "  748.  216.  386.  258.  587.  491.  453.  557. 1080.  497.  608.   51.\n",
      "  539.  420.  502.  671.  385. 1412. 1198.  709.  132.  611. 4010.  467.\n",
      "   77.  371.  113.  533.  540.  577.  434.  548.  967.  737. 1573. 1001.\n",
      "  585. 1392. 1239.  924.  949.  215. 1329.  503. 1148. 1112.  796.  811.\n",
      " 1090.  596.  773. 1127. 1110.  705. 1218.  205. 1191. 1416. 1005.  951.\n",
      "  402.  282.  382.  373. 1369. 1505. 1290.  880.  994.  415. 1038.  505.\n",
      " 1182.  380.  247. 1562. 1836.  278.  554.  162.  181.  712.  659. 1118.\n",
      "  361.  760.  799.  996.  486.  939.  623.  678.  914.  824.  271.  488.\n",
      " 1018.  338.  580.  701.  455.  809.  953.  381.  208.  143.  576.  416.\n",
      "  347.  510.  194.  794.  810.  535.  230.  425.  261.  393. 1576. 1122.\n",
      "  853.  894.  509.  639.  685.  976.  475.  691.  424.  305.  646.  526.\n",
      "  374. 1564.  909. 1136. 1350. 1455. 1243.  149. 1224.  337.] \n",
      "\n",
      "BsmtFinType2  :  [ 1.  2.  3.  4.  5.  6. nan] \n",
      "\n",
      "BsmtFinSF2  :  [ 144.    0.   78.  859.  981.   42.   46.  162.  174.  350.  263. 1073.\n",
      "   12.  159.  474.  453.  684.  387.  688.  252.  590.  284.  276.  168.\n",
      "  294.  622.  113. 1526.  360.  774.  364.  596.  884.   92.  216.  136.\n",
      "  147.  201.  512.  247.  202.  483.  750.   60.  102.   95.   63.  262.\n",
      "  393.  286.  450.   72.  243.  694.  875.  507.  435.  419.  250.  116.\n",
      "  624.   76.  270.  110.  288.  186.  449.   48.  613.  495.  852.  555.\n",
      "  799.  811.  842.  670.  382.  456.  308.   52.  196.  128.  488.  319.\n",
      "  273.   nan  240.  956.  723.  120.  679.   40.  121.  604.  153.  619.\n",
      "    6.  351. 1037.  829.  264.   38.  206.  167.  543.  259.  404.  138.\n",
      "  955.  691.  354.   66.  154.  442.  448.  210.  227.  398.  127.  722.\n",
      "  761.  529.  522.  873.  891.  755.  321.  915.  417.  432.  465.  841.\n",
      "  105.  831.  278. 1020.  530.   80.  904.  539.  620.  156.  108.  492.\n",
      " 1393. 1039.  497.   68.  402.  748.  281.  912.  373.  982.  826.  850.\n",
      " 1164. 1083.  400.  337.  297.  344.] \n",
      "\n",
      "BsmtUnfSF  :  [ 270.  406.  137.  324. 1017.  763.  233.  789.  663.    0.  354.  327.\n",
      "  225.  341.  836. 1590. 1544. 1588. 1794. 1473. 1093. 1346. 1324. 1129.\n",
      "   58.  847. 1629. 1595. 1218.   54.  831.  816.  223.  261.  190.  840.\n",
      "  320.  224.  290.  286.  610.  491.  659. 1323.  143.  386.  534.  150.\n",
      "  500.  533.  228.  470.  482.  136. 1604.  292.  125.  510.  832.  525.\n",
      "  456.  576.  161.  237.  415.  661.  357.  827.  247.  678.  930.  346.\n",
      "  455.  200.  634.  577.  144.  308.  316.  480.  252.  164.  888.  780.\n",
      "  662.  656.  689.  186.  232.  120. 1128.   89.  328.  660.  153.  172.\n",
      "  564.  218.  162. 1250.   86. 1198.  676.  140.  396.  296. 1040.  176.\n",
      "  381.  126.  744.  960.  974.  618.  894.  850.  657.   80.  235. 1115.\n",
      "  321.  756.  221.  434. 1958. 1258. 1214.  384. 1026. 1430. 1344.   30.\n",
      "  370.  546.  395.   36. 1216.  166.  388.  208.  318.  590.   98.  158.\n",
      "  100.  243. 1077.  846.  195.  476.  107. 1181.  722. 1064.  441.  304.\n",
      " 1058.  471.  540. 1180.  543.  138.  624.  229.   79.  498.  466.  484.\n",
      "  300.  220.  416.  379.  788.  342. 1736.  251.  278.  724.  467.  632.\n",
      " 1082. 1598.  522.  425.  474.  643. 1084. 1451.  516. 1405.  728.  745.\n",
      " 1204.  868.  130.  204.  219.  111.  264.  282.  262.  254.  549. 1696.\n",
      " 1614.  408. 1043. 1436. 1402. 1530. 1348. 1836.  222.  422.  402. 1087.\n",
      " 1158.  835. 1114. 1450.  276.  400. 1332.  122.  345.   28.  288.  182.\n",
      "  189. 1376. 1726.  183.  249.  142.  306. 1619.  392.  932.  588.  216.\n",
      " 1568.  160.  461.  265.  294.  356.  640.  613.  507.  141.  175.  313.\n",
      "  785.  280.  565.  727.  295. 1866.  572.  323.   93.  810.  792.  405.\n",
      " 1054. 1313.  560.  720.  630. 1248.  996.  108.  206.  559.  174. 1041.\n",
      "  901.  339.  240.  504.  269.  600.  801.  861.  677.  917.  972.  741.\n",
      "  245. 1022.  297.  248.  679.  938. 1048.  672.  198.  483.  851.   46.\n",
      "  585.  552.  550.  825.  916.  104.  605.  348.  616. 1468.  479.  380.\n",
      "  382. 1474.  704.  649.  513.  322.  132.  335. 1068.  944.  462.  608.\n",
      "  615.  301. 1678.  604.   94.  583.  112.  674.  621.   91.   90.  561.\n",
      "  118.  581.  760.  412.  135. 1527.  432.  526.  250.  117.  912.  338.\n",
      "  594.   75.  778.  898. 1008. 1280.  332. 1018. 1152.  547. 1632. 1488.\n",
      "  692.  469.  273.  738.  440. 1444.  213.  896.  684.   25.  275.  570.\n",
      "  575.  430.  538.  165.  908.  454.  404. 1765. 1486. 1347.  596.  496.\n",
      " 1318.  764. 1146.  438.  707.  167. 1173. 1519. 1242. 1341.  226.  794.\n",
      " 1339. 1660. 1095. 1162.  284.  355.  439.  375. 1328. 1211.  210.  194.\n",
      "  587.   72.  177.  147.  584.  952.  599. 1439.  723. 1625.  196. 1728.\n",
      "  242.  638.  505.  529.  503.  437.  330.  998. 1824.  747.  892.  168.\n",
      "  675.  444.  188.  453.  936.  181. 1800.  398. 1117.   96.  680.  828.\n",
      "  931.  481.  459.  407.  448.  797.  508.  739.  784.  869.  329.  849.\n",
      "  554.  460.  949.  475.  992.  497.   nan  449.  897. 1046.  796.  768.\n",
      " 1272.  880.  647.  451.  536.  197.  234.  852.  326.  212.  925.  545.\n",
      "  639.  298.  331.  457.  628. 1615.  598.  631.  268.  110.  255.   83.\n",
      "  782.  180. 1257.  163. 1421. 1508. 1327.  541.  725. 1228.  336.  884.\n",
      "  591.  397.  555.  367.  520.  821.  173.  592. 1140.  910.  352. 1495.\n",
      "  403.  443.  873.  393.   35. 1092.  325.   88.  271.  207.  217.  686.\n",
      "  749.   52.  277. 1168.  903.  752.  918. 1559.   53.  815. 1028.  201.\n",
      "   22.  372. 1012.  359.  214. 1337.  423.  263. 1694. 1108.  740. 1704.\n",
      "  636. 1582. 1802. 1706.  436. 1602. 1298.  272.  729. 1300.  698. 1246.\n",
      " 1266.   56.  192. 1510.  941.  736. 1066.  770. 1369. 1496.  394. 1528.\n",
      "  769.  716.  982. 1302. 1314. 1335. 1574. 1685. 1100. 1143.  365. 1461.\n",
      "   76.  527. 1081. 1550.  179.  319.  385. 1594.  171.  548.  431.  433.\n",
      "  710. 1560.  191.   63.  765. 1144.  410.  424.  928.  156.  666.   55.\n",
      "  312.  569.  967.  808. 1075.  667.  371.  819.  809.  966.  750.  969.\n",
      "  366.  771.  717.  187.  635.   20.  420.  231.   95.  109.  486.  935.\n",
      "  411.  951. 1105. 1643. 2140. 1526. 1453. 1270.  879.  472.  646.  215.\n",
      "  845.  501.  399.  102.  193.  860.  683.  333.  426. 1330.  115. 1179.\n",
      "  123. 1085. 1195.  238.  971.  285. 1680.  427. 1262.  279.  311.  957.\n",
      "  106.  856.   17. 1689.  963.  970.  593. 1491.   27.   48.  185.  490.\n",
      "  595. 1851.  113.  781. 1074. 1640. 2062. 1191.  889.  644. 1390.  523.\n",
      "  494.  945.   42.  127.  363.  369. 1618. 1721. 1090. 1209. 1088. 1251.\n",
      " 1326. 1052.  767. 1126.  848. 1035.  253.  655.  358.  742. 1504. 1254.\n",
      "  858. 1118. 1400. 1131.  891.   78.  939.  362.  450.  530.  713.  293.\n",
      "   34.  360. 1404.   60. 1584.  307.  556.   99.  350.  517.  929.  521.\n",
      " 1153.  715.  802. 1556.  236.  863.  502.  817.  844.  798. 1226. 1020.\n",
      "  641.  477. 1921.  830. 1967. 1466.  872.   33. 1411. 1057.  532. 1308.\n",
      "  260. 1558.  535.  579.   57.  170. 1065.  258.  131.  390.  340. 1150.\n",
      "  864.  128.  818.  299.  637.  697.  671.  487. 1664.  129.  378.  383.\n",
      "   45. 1503.] \n",
      "\n",
      "TotalBsmtSF  :  [ 882. 1329.  928.  926. 1280.  763. 1168.  789. 1300. 1405.  483.  525.\n",
      "  855.  836. 1590. 1544. 1698. 1822. 2846. 1671. 1370. 1324. 1145.  384.\n",
      "  847. 1629. 1595. 1218. 1468.  831.  816. 1208. 1231. 1390. 1488.  840.\n",
      "  600.  756.  530. 1642.  975. 1492. 1829. 1224.  715. 1232. 1209. 1510.\n",
      "  533. 1728. 1140.  782. 1080. 1604. 1480. 1143. 1206. 1244.  832.  864.\n",
      "  972.  988.  576. 1175. 1395.  709.  936. 1347.  827. 1027. 1008.  678.\n",
      "  930.  346.  738. 1108.  765.  608.  572.  835.  780.  528. 1124.  888.\n",
      "  662. 1422.  689. 1212.  707.  856. 1832. 1319.  720. 1420.  660. 1117.\n",
      "  663. 1172. 1508. 1250. 1433.  946. 1222.  676.  870.  878. 1026.  876.\n",
      " 1978. 1040.  848.    0.  381. 1196.  744.  960. 1107.  894. 1528. 1032.\n",
      "  423.  982. 1191.  480.  629. 1594. 1049. 1243. 1958. 1336. 1214. 1068.\n",
      " 1430. 1344.  945.  546.  833. 1216.  624. 1679. 1152. 1434. 2208. 1418.\n",
      " 1587.  952. 1181. 1122. 1427. 1043. 1058. 1621. 1116. 1176. 1180.  804.\n",
      " 1057. 1776. 1365. 2020. 2630. 1736. 1782. 1739. 1504. 1774. 1760. 2452.\n",
      " 1082. 1598. 1358. 1306. 1350. 2492. 2200. 1884. 1451. 1712.  728.  745.\n",
      " 1220.  868.  846.  698.  794. 1177. 1455. 2024. 1070. 1173. 1696. 1614.\n",
      " 1702. 2458. 1436. 1402. 1530. 1372.  900. 1836. 1652. 1553.  812. 1141.\n",
      " 1158. 1512. 1114. 1450.  913. 1332.  754.  980. 1024.  912. 2014. 1376.\n",
      " 1726.  691. 1694. 1740.  392.  752.  932. 1288.  908. 1568. 1165. 1048.\n",
      " 1313. 1292. 1680. 1453. 1562. 1169. 1202. 1382. 1200. 1866. 1062.  631.\n",
      "  793. 1031.  699.  792.  405. 1054.  560.  416.  630. 1248. 1380.  951.\n",
      " 1105.  160.  795. 1041.  732.  941. 1045.  901.  240.  504.  690.  801.\n",
      "  768.  861.  677.  917.  741.  245. 1022.  297.  468. 1072.  672. 1020.\n",
      " 1204.  858.  585. 1052.  456.  552. 1138.  825. 1073.  747. 1089.  520.\n",
      " 1079. 1094. 1555. 1720. 1838. 1282. 1254. 1498.  704. 1449.  990. 1463.\n",
      " 1431.  907.  914. 1569.  944. 1462. 1417. 1578. 1014.  547. 1078. 1678.\n",
      " 1150.  583. 1273.  920. 1112. 1561. 1067. 1310.  516.  561. 1803.  760.\n",
      " 1596.  902.  957. 1582. 2190. 1641.  712. 1645. 1188.  796.  828.  784.\n",
      "  680.  916. 1348. 1664. 1337. 1632. 1710. 1675. 1260. 2048. 1211. 1444.\n",
      " 1236.  896. 1055. 2418. 1950. 1850. 1620. 1414.  948. 1148. 2535. 1603.\n",
      " 1479. 1765. 1858. 1367. 1800. 1342.  764. 1415. 1393. 1146. 1037. 1519.\n",
      " 1982. 1064. 1242. 1341.  955. 1460. 1363. 1660. 1162.  886.  984.  890.\n",
      " 1001. 1848. 1235. 1419. 1557.  970. 1230.  994. 1426. 1625. 1118.  348.\n",
      " 1296. 1036. 1104.  998. 1824.  892. 1312. 1081. 1256.  854.  192.  931.\n",
      "  884.  481.  684.  904.  407.  448.  797.  973.  723.  869.  554.  981.\n",
      "  949.  739.  992.  565.   nan  989. 1100.  810. 1272.  880.  451.  536.\n",
      " 1046.  450. 1060. 1524.  570. 1580. 1509.  621. 1077. 1602.  628. 1615.\n",
      " 2271. 1751. 1401. 1182. 1076. 1257. 1357. 1778. 1129.  850. 1445. 1564.\n",
      " 1351. 1092. 1127. 1029.  911. 1228.  644.  798.  942. 1091. 1898. 1151.\n",
      "  173.  356.  592. 1840.  910. 1277. 1518.  352. 1495. 1432. 1666. 1964.\n",
      " 1189.  550.  526.  462. 1113.  845.  686.  923.  938.  903. 1302. 1166.\n",
      " 1149. 2660. 1612. 2220. 1742. 1284.  725. 1529. 1153. 1259. 1084.  925.\n",
      " 1061. 1790. 2108. 1934. 1994. 2552. 1704. 2320.  918. 1802. 1706. 1317.\n",
      "  895. 1721. 1298. 1362. 1554. 1577. 1326. 1246. 1406. 1266.  915. 1779.\n",
      " 1408. 1389. 1066. 1325. 1369. 1542. 1966. 1538. 1494. 1338. 1335. 1574.\n",
      " 1685. 1461. 1223. 1044. 1378. 1511. 1352. 1550. 1339. 2002. 2461. 1295.\n",
      " 1093.  964. 1174. 1042. 1130. 1592.  822.  666.  370.  808. 1560. 1053.\n",
      " 1144. 1331.  922. 1190.  924.  736. 1170. 1377.  967. 1075.  616.  687.\n",
      "  819.  966.  750.  969.  976.  771. 1005.  943. 1240.  671.  409.  484.\n",
      " 1038.  779. 1643. 2140. 1546. 1489. 1270.  879.  929.  635. 1097.  853.\n",
      "  985. 1015.  995.  385. 1673.  979.  860. 1556. 1531. 1330. 1088. 1179.\n",
      "  734. 5095. 1195. 1290.  651.  531.  851. 1004.  279.  859.  837. 1573.\n",
      " 1441. 1409. 1454.  852. 1501. 1689. 1265. 1267. 1922. 1491. 1160.  716.\n",
      " 1396. 1090. 1178. 1617. 1705. 1851.  813.  781.  821. 1074. 1700. 2062.\n",
      " 1398. 1714. 1910. 1047.  675. 1103. 1487.  494. 1069. 1738. 1618. 1868.\n",
      " 1606. 1792. 1780. 1686. 1368. 1142. 1035. 1540. 1733. 1286. 1670. 1278.\n",
      " 2036. 1400. 1131.  891. 1217.  636. 1748. 1334.  569. 1051. 1187. 1251.\n",
      " 1056. 1584. 1121. 1050.  216.  301. 2171.  713. 1083. 1135. 1438. 1025.\n",
      " 1147.  502.  844.  492.  770. 1226.  596.  396.  610.  806. 1921.  830.\n",
      " 1059. 1967. 1949.  872. 1865. 1000.  430.  799. 1308. 1570. 1388. 1425.\n",
      "  842.  826. 1065.  954.  498.  755.  818.  824.  817.  637.  697.  432.\n",
      "  641. 1128. 1381.  264.  996.] \n",
      "\n",
      "Heating  :  [1 2 3 4] \n",
      "\n",
      "HeatingQC  :  [1 2 3 4 5] \n",
      "\n",
      "CentralAir  :  [1 2] \n",
      "\n",
      "Electrical  :  [1 2 3 4] \n",
      "\n",
      "1stFlrSF  :  [ 896 1329  928  926 1280  763 1187  789 1341  882 1337  483  525  855\n",
      "  836 1627 1544 1698 1822 2696 1687 1370 1324 1145  744  847 1645 1595\n",
      " 1218 1468  831 1012 1494 1251 1402 1488  840  600  756  530 1418  975\n",
      " 1492 1829 1287  930 1232 1209 1510 1131 1728 1929 1019 1128 1604 1480\n",
      " 1143 1206 1580  832 1064  972  988  985  816 1175 1395 1157  936 1347\n",
      "  827 1027 1060  868 1030 1160  765  608  848  955  780  548 1068  888\n",
      "  662 1675  725 1212  942 1832  892  864 1373  720 1483 1117 1052 1074\n",
      " 1169 1172 1508 1298 1433  964 1222  965 1026  876 1978 1044  640  992\n",
      " 1196  792 1096  960 1296  856  862  894 1225 1102 1034 1191  540  727\n",
      "  952 1646 1036 1285 2048 1346 1214 1264 1430 1344  945  546  874  833\n",
      " 1216  624 1803 1152 1434 1008  958 2522 1478 1734  751  707 1190  946\n",
      " 1154 1671 1539 1707 1016 1058 1621 1116 1193 1180 1050  804 1055 1120\n",
      " 1794 1365 2020 2674 1736 1782 1743 1531 1808 1760 2452 1105 1606 1358\n",
      " 1306 2492 2200 1884 1456 1712 1405  728  745 1220  846  806  698  878\n",
      "  819  774 1223 1466 2063 1094 1215 1696 1658 1702 1432 2490 1436 1530\n",
      " 1448  909 1836 1662 1553  812 1141 1158  871 1512 1114 1450  913 1332\n",
      "  754  980 1020  912 2014 1376 1726 1256  713 1694 1740 1487 1271 1336\n",
      " 1316 1568 1165 1320 1362 1313 1292  825 1576 1691 1453 1567 1144 1202\n",
      " 1382 1200 1866 1062 1112  793 1031 1210  801  676  717 1078  599 1248\n",
      " 1380 1040  951 1142 1041  732 1183  993  941 1045  861  810  764 1101\n",
      "  768  612 1090  664  797 1001  822  995  994 1072 1048 1272 1088 1146\n",
      "  741  978 1204  704  687  904 1138 2071  660 1383 1073 1089 1049 1061\n",
      " 1338 1079 1288 1535 1229 1513 1168 1680 1720 1838 1290 1254 1498  944\n",
      "  990 1463 1444  907  914 1611 1828 1417 1602 1149 1368 1678 1560  854\n",
      "  647  628 1273 1240 1561  986 1906  516  561 1182 2365  572 1648 2036\n",
      " 1641 1375 1479 1404  796 1091  883  784  680  916 1384 1682  932  851\n",
      " 1474 1710 1688 1260 2064 1211 1277 1420 1236  630 1582 2464 1950 1850\n",
      " 1632 1414  948 1170 2470 1575 1515 1804 1367 1800 1342 1455 1246  813\n",
      " 1037  873 1533 2006 1108 1578 1460 1372 1660  835 1162  886  844  984\n",
      "  890 1364 1827 1245  703  757 1638 1310 1419 1557  684  872  962 1469\n",
      " 1239 1599 1427 1620 1625  925  845 1014 1118  453 1496 1104 1176 1440\n",
      " 1570  950 1790 1764 1824  869  747  672 1312 1081 1024 1133  828 1095\n",
      "  884  899  407 1588  830  730  709 1377  723 1093 1195  736  949 1013\n",
      "  565  808 1226 1242  880  788  759 1054 1075 1126 1140 1188 1721 1524\n",
      "  617 1518 1509  621 1626 1302 1615 2276 1766 1511 1643  782 1174 1076\n",
      " 1558 1366 1786 1129 1445 1564 1361 1092 1033 1127 3820  585  929 1424\n",
      "  798 1265  983 1898  919  760 1151  733  671  432 2032  910 1689 1501\n",
      " 1537  920  712 1495 1964 1189  526  889 1150 1587  924  947  691  957\n",
      " 1179 1321 1164 2338 1612 2234 2042 1284 1664 1085 1177 1353 1084 1422\n",
      " 1816 2122 1943 1148 2046 2552 1722 2290 1802 1718 1217  895 1614 1554\n",
      " 1577  738 1326  752 1258 1589 1266 1119 1525  940  961 1779 1411 1335\n",
      " 1369 1542 1534 1966 1528 1538 1506  982 1584 1685 1100 1486 1378 1565\n",
      " 1352 1550  769 2362 2497 1403 1082 1295 1610 1594 1107 1224 1042 1374\n",
      " 1652  908  666  442 1053  922 1647 1000 1308 1035 1238  866 1022  967\n",
      "  761 1156  616  991  968  903  933  969 1497  976  838 1262  778  999\n",
      " 1452 1005  897  943 1299  998 1522 1325 1630 2422 1038 1080 1029 1651\n",
      " 2140 1546 1500 1270  879  646 1097  853 1025 1009  875 1673  860 1592\n",
      " 1330  901  734 5095  740  567  686  867 1230  529 2726 1392 1409  918\n",
      " 2279 1922 1491 2034 1356 1676  716 1608 1178  887 1293 1797 1390 1851\n",
      "  781  821 1700 2079 1714 2000 1083 1109 1103  494 1069 1387 1738 1618\n",
      " 1868 1792 1780 1426 1686 1666 1548 1205 1540 1933 1305 1670 1504 1278\n",
      "  858 1400  891 1398  636 1286 2151 1520  520 1334 1051  898 1043 1624\n",
      " 1124 1056 2039  900  715  448  981 1207 1773 1472 1900 1556 1007 1147\n",
      "  502 1032  714  492  885 1017  834  665 1921 1640  934 1059 1458 1967\n",
      " 1949 1830 1350  799 1057 1208 1846 1590 1388  795 1425 1282 1065 1070\n",
      "  970 1482  498  743  755  818  824 1125 1122  959  641  729  576 1778\n",
      " 1650 1960 1600 1360  996] \n",
      "\n",
      "2ndFlrSF  :  [   0  701  678  892  676  504  567  601  707  563  630  886  830  828\n",
      " 1098  823  840  600  636  756  550  873 1215  604  715  644  532  537\n",
      "  505  408  687  424  606  185 1111 1128  602  582  908  524  348  498\n",
      "  492  608 1074  780  662  499  180  319  942  744  720  864  558  838\n",
      "  614  800 1054  328 1788  772 1075  380  880  700  546 1216  650  615\n",
      "  645  663 1275  670  631  684  809  988  896 1134  868  816  839  978\n",
      " 1325 1012 1295  728  745  762  748  683 1126  695  656 1089 1221  967\n",
      " 1017  841  941 1209  897  786  702  918 1629  739  782 1369  972 1315\n",
      "  726  322  760 1296  368  629  813  517  496  690  646  560  677  917\n",
      "  624  741  653  320  588  672 1040  784  686  462  649  425  611  747\n",
      " 1114 1619  718  815  844 1116  885  926  788  444  436  595  727 1240\n",
      "  516  668  928  862  848  790  858 1332  767 1420 1104  898 1158 1140\n",
      " 1162 1139  884 1285  778  639 1061 1250  520  919  861  855  794  825\n",
      "  850  893  640 1319  959  689  792  924 1345  860  732  453  412  182\n",
      "  501  564  375  680  658  561  552  396  797  308  973  363 1182  473\n",
      "  594  378  554  468  651  512  764  742  768  428  448  536  486  648\n",
      " 1721 1099  735  899  870  895  871  581 1198  878  714  208  343  960\n",
      "  673  442  890  943  330  420  804  432  910  936  730  770 1342 1377\n",
      "  754  845  793  713 1402 1036  570 1142 1238 1168  923  530  757 1048\n",
      "  752 1101 1131  750 1407 1171 1277 1097 1203  995  528  863  925  900\n",
      " 1232  976 1008  984 1309  228  500  544 1778  783  616  430  494  642\n",
      "  659  671  144  525  548  423 1164  356  240  245 1042  477 1005 1087\n",
      "  638  400  376  717  929  916  927  857  940  869  738  753  450 1133\n",
      "  674  125  539  531  585  775  851  495  665  957 1340  716  712  955\n",
      "  990 1384 1862 1371 1405  912 1358  766  465  466 1044 1335  814  488\n",
      " 1321  881 1029 1368 1567 1189 1234  795  887 1306  623  704 1248  272\n",
      "  821  779 1007  510  476  580  502  867  297  810  434  583  875  596\n",
      "  341  351 1836  541 1246  568  812  915 1037 1124 1045  827 1150  312\n",
      "  576  218  493  736  755  818  464  610  592  549  697  336  360  688\n",
      " 1004] \n",
      "\n",
      "LowQualFinSF  :  [   0  362 1064  431  436  259  312  108  697  512  114  205   80  140\n",
      "  450] \n",
      "\n",
      "GrLivArea  :  [ 896 1329 1629 1604 1280 1655 1187 1465 1341  882 1337  987 1092 1456\n",
      "  836 2334 1544 1698 1822 2696 2250 1370 1324 1145 1374 1733 2475 1595\n",
      " 1218 1468 1659 1012 1494 2349 2225 1488 1680 1200 1236 1512 1080 1418\n",
      " 1848 1492 1829 2495 1891 1645 1232 1209 1510 1775 1728 2461 1556 1128\n",
      " 1480 1143 1206 1580 1064  972  988  985 1224 1175 1395 1844  936 1347\n",
      " 1251 1633 1245  832 1566 2268 2256 1470 1612 2068  765 1132 1196 1453\n",
      " 1416 1040 1536 1068 1962 1560 1675 1392  919 1884 1832  892  864 1373\n",
      " 1440 1483  756 1981 1610 1074 1531 1172 1508 1298 1433 1802 1222 1445\n",
      "  965 1692 1026  876 1978 2098  848  640  992 1120 1096  960 1296  856\n",
      " 2650 1666 2133 2177 1652 1034 1191  540 1107  952 1646 1916 1285 2048\n",
      " 1346 1214 1444 1264 1430 1344  945  874  833 2432 1274 1479 1803 1797\n",
      " 1434 1608 2283 1628 2522 1478 1734 1382 1636 1516 1190 1934 2050 1671\n",
      " 2673 1707 1874 1811 1621 1116 1193 1180 1050 1548 1055 2772 2690 2020\n",
      " 2674 1736 1782 2520 1743 1808 1760 2452 2400 1606 1358 1306 2492 2200\n",
      " 1712 1405 1490 1220 1630 1594 1489 1342 2004 1514 2312 2687 2063 2061\n",
      " 2232 1696 1658 1702 1432 2490 1436 1402 1530 1448 1795 1836 1662 1553\n",
      " 1653 1141 1158 1812 1114 1450 2122 1730 1332 1540 1400 1882  980 1020\n",
      "  912 2014 1755 3005 1726 1256 1452 1694 1740 2499 2067 2640 1336 1216\n",
      " 2288 1568 1320  894 1362 1313 1292 2140 1576 1691 1567 1144 1202 1866\n",
      " 1062 1112  793 1031 1210 1527  792 1352 1039 1078 2377 1690  599  846\n",
      "  725 2544 1380  951 1105 1142 1133 1041  732 1183 1461 1495 1806  941\n",
      " 1045 1378 1944 1464 1558 1701 1447 1328  861  612 2007 1288  816 1521\n",
      "  797 1654  995 1582 1072 1768 2128 1930 1427 1864 1403  704 1152 1052\n",
      " 1774 1138 2071  660 1383 1073 1639 1089 1049 1061 1338 1879 2016 2228\n",
      " 1535 1229 1513 2787 1720 1838 1290 1254 1498 1422 1759  990 1463 1772\n",
      "  907  914 1611 2184 1725 1870 1828 1417 1602 1396 1149 1368 1678 1268\n",
      " 1242 1228 1273 2480 1561 1523 1906 1032 1982 2365 2168  572 1648  810\n",
      " 2052  926 1287 2036 1641 2237 1008 1404  796 1091  883 1632 1384 1682\n",
      " 1709 2500 1474 1710 1688 1260 2064 1211 2044 1308 2840 2340 1792 1302\n",
      " 2464 1950 2748 2790 2331 2088 2332 2470 1575 2649 1367 1800 1626 1455\n",
      " 1246 1515 1986 1892 1414 2322 1651 2199 2172 2006 2125 2501 2197 1578\n",
      " 1861 1460 1372 1660 1663 1162 1609 1657 1677 1737  984  890 2683 2786\n",
      " 1549 1638 1310 1419 1557 1789 1586 1607 2393 1239 2944 1620 1625  925\n",
      " 1670 1014 1118  906 1496 1036 1988 1176 1570 1104  950 1790 1764 1824\n",
      "  869 1159  672 1044 1312 1081 1027 1278 1588  825 1117 1323 1360 1656\n",
      "  899 1499  407 1627 1017 2350 1086 1093 1668 1738 1672  949 1497 1013\n",
      " 1136  808 2009 1902 1716 1984  768 1969  759 1054 1075 1126 1140 1188\n",
      " 1721 1350  904 1524 1079 1518 1509 1269 2814 2037 1356 1615 2276 1766\n",
      " 1511 1643 1771 1823 1174 1076 2161 1947 1786 2327 1564 1361 1033 1127\n",
      " 1398 3820  784 1053 1137  930 1204 1424 1920 1316 1603 1938 1873 1898\n",
      " 1090 1955  733 2032 1820 1872 1689 1501 1537 1780 1442 1964 1189 1475\n",
      " 1160  845  889 1587 1714 2299 1642 1179 1321 2541 2338 2234 2042 1284\n",
      " 1664 1177 1353 1877 1816 2656 2550 2046 2552 2758 2290 2152 2100 2956\n",
      " 2385 1818 1614 1554 1577 1458 1746 1326 1504 1258 1589 1266 1119 1525\n",
      " 1394 1948 1995 1644 2551 3078 2582 2202 2538 1369 1542 1534 1966 1528\n",
      " 1538 1506 1977 1830 1335 1880 1584 1685 2443 1100 1094 1486 2503 1037\n",
      " 1151 1565 1550 1573 2362 2497 2411 1082 1295 2075  964 1042 2154  908\n",
      "  666  670 1150  922 1411 1154  948 1647  924 3086 1281  888 1238 1170\n",
      " 1377 1022  967 1798 1650 2454  968 1060 1435  884 1409 1322 1426 2264\n",
      " 1376 1173 2294 1952 2180 1315 1484 2267 1282  999 1005  868  897  943\n",
      " 1375 2654 1299  998 1522 1325 2422 1038 1958 1546 1500 1270 1097 1753\n",
      " 1842 1025 1009  879  875 1673 1932 1729 1592 2439 1992 1476 1330 1491\n",
      " 1088 1351 2233 1408 5095 1195  865 2592 1098 1718 1226 1355 2726 1215\n",
      " 1601 1991 1001  918 2279 1240 1922 2486 2034 1676 1178  887 1293 1024\n",
      " 1390 1851 1776 2212 1169 2798 3390 2473 2698 2795 2000 1102 1857 1083\n",
      " 2318 1875 1103 1365 1030 1069 1387 2589 1618 1868 2206 2091 2253 2389\n",
      " 2358 1914 1686 2373 1364 1598 1889 1976 2855 3500 2494 2799 1131 1585\n",
      " 1837 1731 1217  909 2646 2826 1223 1334 1051 1770  976  898 1248 1043\n",
      " 1624 1124 1056 2039  713  715  720 1146 1207 1773 1472 2448 1428 1004\n",
      " 1951  844  492 1182  840 2104 1827  819 1921 1640  934 1059 1967 1949\n",
      "  872 1000 1700 3672 1057 2559 1876 1208 1846 1590 1809 1596 1388 1425\n",
      " 1749 1779 1762 1909 2214 2049 1939 1724 2314 1669 1482  498 1551 1340\n",
      " 1717 1801 2315  641  729 1778 1960 1600 1304  630  970] \n",
      "\n",
      "BsmtFullBath  :  [ 0.  1.  2.  3. nan] \n",
      "\n",
      "BsmtHalfBath  :  [ 0.  1. nan  2.] \n",
      "\n",
      "FullBath  :  [1 2 3 4 0] \n",
      "\n",
      "HalfBath  :  [0 1 2] \n",
      "\n",
      "BedroomAbvGr  :  [2 3 4 1 6 5 0] \n",
      "\n",
      "KitchenAbvGr  :  [1 2 0] \n",
      "\n",
      "KitchenQual  :  [ 1.  2.  3.  4. nan] \n",
      "\n",
      "TotRmsAbvGrd  :  [ 5  6  7  4 10  8  9  3 12 11 13 15] \n",
      "\n",
      "Functional  :  [ 1.  2.  3.  4.  5.  6.  7. nan] \n",
      "\n",
      "Fireplaces  :  [0 1 2 3 4] \n",
      "\n",
      "FireplaceQu  :  [nan  1.  2.  3.  4.  5.] \n",
      "\n",
      "GarageType  :  [ 1.  2.  3. nan  4.  5.  6.] \n",
      "\n",
      "GarageYrBlt  :  [ 1.  2.  3.  4.  5.  6.  7.  8.  9. 10. 11. 12. 13. 14. 15. 16. 17. 18.\n",
      " 19. 20. 21. 22. 23. 24. 25. nan 26. 27. 28. 29. 30. 31. 32. 33. 34. 35.\n",
      " 36. 37. 38. 39. 40. 41. 42. 43. 44. 45. 46. 47. 48. 49. 50. 51. 52. 53.\n",
      " 54. 55. 56. 57. 58. 59. 60. 61. 62. 63. 64. 65. 66. 67. 68. 69. 70. 71.\n",
      " 72. 73. 74. 75. 76. 77. 78. 79. 80. 81. 82. 83. 84. 85. 86. 87. 88. 89.\n",
      " 90. 91. 92. 93. 94. 95. 96. 97.] \n",
      "\n",
      "GarageFinish  :  [ 1.  2.  3. nan] \n",
      "\n",
      "GarageCars  :  [ 1.  2.  3.  0.  4.  5. nan] \n",
      "\n",
      "GarageArea  :  [ 730.  312.  482.  470.  506.  440.  420.  393.  525.  511.  264.  320.\n",
      "  308.  751.  868.  678.  958.  756.  484.  430.  437.  400.  433.  962.\n",
      "  880.  676.  528.  429.  461.  762.  713.  588.  480.  496.  852.  592.\n",
      "  596.  535.  660.  441.  490.  504.  517.    0.  315.  576.  620.  263.\n",
      "  318.  305.  280.  240.  551.  780.  288.  624.  363.  200.  572.  180.\n",
      "  365.  231.  450.  416.  591.  690.  522.  467.  209.  366. 1017.  615.\n",
      "  580.  513.  850.  621.  319.  336.  352.  260.  399.  473.  598.  531.\n",
      "  625.  330.  741.  776.  520.  686.  253.  286.  495.  616.  275.  502.\n",
      "  632.  390.  564.  396.  409.  567.  529.  479.  581.  565.  478.  477.\n",
      "  345.  656.  754.  864.  896.  834.  932.  640.  927.  700.  583.  886.\n",
      "  871.  949.  685.  649.  539.  701.  392.  397.  436.  434.  644.  394.\n",
      "  658.  410.  810.  815.  647.  623.  972.  726.  844.  492.  795.  984.\n",
      "  692.  782.  711.  628.  845.  788.  559.  542.  465.  612.  732.  300.\n",
      "  252.  524.  704.  561.  641.  642.  540.  527.  784.  515.  498.  768.\n",
      "  610.  549.  368.  550.  530.  297.  304.  350.  294.  230.  246.  720.\n",
      "  281.  907.  364.  384.  900.  483.  162.  324.  472.  287.  357.  207.\n",
      "  216.  250. 1184.  316.  379.  220.  226.  668.  340.  266.  462.  672.\n",
      "  820. 1138.  846.  904.  662.  577.  608.  343.  444. 1231.  570.  521.\n",
      "  523.  544.  195.  313.  256.  215.  307.  463.  295.  452.  501.  351.\n",
      "  541.  885.  578.  486.  920.  698.  898.  386.  404.  460.  683.  670.\n",
      "  557.  738.  489. 1314.  787.  905.  650.  706. 1150. 1003.  789.  746.\n",
      "  870.  944.  474.  428.  431.  403.  516.  687.  938.  783.  851.  627.\n",
      "  276.  636.  545.  546.  469.  512.  464.  267.  451.  292.  301. 1488.\n",
      "  372.  401.  311.  299.  225.  828.  869.  342.  370.  160.  355.  164.\n",
      "  360.  228.  270.  626.  912.  249.  322.  614.  534.  453. 1348.  874.\n",
      "  811.  438.  558.  600.  532.  725.  715.  560.  721.  814.  205.  369.\n",
      "  599.  344.  786.  356.  487.  185.  816.  432.  666.  435.  892.  499.\n",
      "  257.  398.  729. 1110.  556.  724.  663.  481.  585.  488.  856. 1040.\n",
      "  878. 1174.  728.  843.  916.  818.  774.  554.  876.  631.  454.  388.\n",
      "  630.  442.  925.  806.  758.  933.  605. 1092.  574.  859.  575.  590.\n",
      "  594.  744.  566.  283.  476.  466.  552. 1105.  412.  510.  792.  310.\n",
      "  293.  371. 1200.  338.  184.  374.  468.  331.  224.  217.  408.  456.\n",
      "  323.  638.  494.  303.  332.  894.  796.  674.  619.  747.  497.  242.\n",
      "  597.  748.  622.  579. 1154.  509.  691.   nan  100.  471.  571. 1041.\n",
      "  963.  423.  443.  773.  618.  402.  675.  736.  722.  582.  485.  543.\n",
      "  831. 1085.  899.  427.  617.  959.  803.  760.  928.  584.  449.  688.\n",
      "  888.  326.  568.  273.  234.  353.  684.  791. 1008.  648.  418.  378.\n",
      "  258.  210.  586.  836.  569.  848.  317.  646.  555.  380.  265.  609.\n",
      "  272.  518.  714.  682.] \n",
      "\n",
      "GarageQual  :  [ 1. nan  2.  3.  4.] \n",
      "\n",
      "GarageCond  :  [ 1. nan  2.  3.  4.  5.] \n",
      "\n",
      "PavedDrive  :  [1 2 3] \n",
      "\n",
      "WoodDeckSF  :  [ 140  393  212  360    0  157  483  192  240  203  275  173  144  220\n",
      "  238  120   36  100   23  121  296   32  198  168  160  280  277  224\n",
      "   42  252  414  657   84   51   54  135  221  306  344   56  226  496\n",
      "   80  336  450   71  316  188  331   60  257  141  112  128  375  328\n",
      "  174  200  431   22  287  129  162   48  182   52  256  178  225   40\n",
      "  210  108  147  150  319   99  184  165  114  230  170  208  231  218\n",
      "  148  300  298  297   70  205  146  248  158  171  462  502  501  228\n",
      "  312  321  172   85  156  126  187  180  266  244  189   24  290  131\n",
      "  400   73  185  154   66   72  262  194  329  279  176  467  119  302\n",
      "   90  305  124  308  138  214  152   28   16  411  209  358   30  216\n",
      "  268  143  385  133  145  132  117  237  294  155   20  169   25  233\n",
      "  490   88   76  265   38  272   64  204  311  102   50  424  339  211\n",
      "  259  292  134  213  318  428  282   92   81  315  390  167  407  136\n",
      "  186  130  196  110  264  460  286  193  340  455  202  190  235  284\n",
      "  278   63   58  116  285   14  521  366  164  646  142  127  352  386\n",
      "  405  546  118  291  123  274  232  201 1424  690  330  421  246  250\n",
      "  351  444  295  354  243  247  307  870  432    4  161  641  177   94\n",
      "  125  245  191   75  631   49  345  355  520  199   96   27  314   77\n",
      "  684  453  288  105  413  406  320   68  197  530  474] \n",
      "\n",
      "OpenPorchSF  :  [  0  36  34  82  84  21  75  68  30 133  35  74 119 150 130  49  23 116\n",
      "  48 172 136 102  50 111 166  32 192 184 137  76  69  78 224  40  73  28\n",
      " 100 228 108  18  10 132 144  58  38 104  52 278  92  54  59  39  85  25\n",
      " 156  81  56  53  70  26  64 312  46  72  57  43 176  55 134  45  27  20\n",
      " 162 197  98  90 273 190  60  63 235  42 183  16 165  44 226 121 126 140\n",
      " 175 120  88 178  91  93 177 254 169  11  77  99  67 110 189 204  12 103\n",
      "  33  61  15  24 188 215 105 142 222 193  96 114 240  41 113 148 201 112\n",
      " 160 154  95 238 173 180 207 182 200  65 131 153  87 168  66 251  62  22\n",
      " 230 304 299 365 139 195 216  89 236  29 372 217  51 123 276 265 122 101\n",
      " 135 164  80 141 368 203 210 127 256  47 241 174 194  86 324 208 171 152\n",
      " 211 570 484 742 146 444 266  97  37 246  31 155 191 382   6 341 115 253\n",
      " 245 107 170 274 225] \n",
      "\n",
      "EnclosedPorch  :  [   0   80  186  120  150  205  113  135  126  334  246   18   60   41\n",
      "  128   35   48   32  364  112  248  168   45  239   52   56   36   86\n",
      "  265   64  280  222  209  218   84  264  260  203  140  100  134  432\n",
      "  156   42   40  169  176  148  244   25   81  160  238   94   98   51\n",
      "   34  105  213  102  288   24   90  144  211   55  180   57   78   72\n",
      "  368  154  165   92   16  192   66   96  109  236   30  139  219  101\n",
      "  117  204  122  190  231   70  138  183  121  207  224  116  249  290\n",
      "  175   20   26  143  136   77  170   88   68 1012   43  196  240  584\n",
      "  216  212  133  200  324  161   75  167   28  123  104  296  256  164\n",
      "  225  208  429  132   23] \n",
      "\n",
      "3SsnPorch  :  [  0 224 255 225 360 150 153 174 120 219 176  86 323] \n",
      "\n",
      "ScreenPorch  :  [120   0 144 256 216 204 160 240 148 168 266 166 200 155 108 490 156 196\n",
      " 121  92 288 342 255 111 112 231 182 140 110 117 195 115 141 208 192  94\n",
      " 164  95  64 576 227 161 100 221 171 135 322 174 175 180 217 201 109 165\n",
      " 225 150  84 126 116 153 228 145 138  88 280 123 210 224 264 270 142 162\n",
      " 348 113 104] \n",
      "\n",
      "PoolArea  :  [  0 144 368 444 228 561 800] \n",
      "\n",
      "PoolQC  :  [nan 'Ex' 'Gd'] \n",
      "\n",
      "Fence  :  ['MnPrv' nan 'GdPrv' 'GdWo' 'MnWw'] \n",
      "\n",
      "MiscFeature  :  [nan 'Gar2' 'Shed' 'Othr'] \n",
      "\n",
      "MiscVal  :  [    0 12500   500  1500   300   450    80   600   490  1200   650   400\n",
      "   900  2500   700   750  2000  6500  1000  4500  3000 17000  1512   455\n",
      "   460   420] \n",
      "\n",
      "MoSold  :  [ 6  3  1  4  5  2  7 10  8 11  9 12] \n",
      "\n",
      "YrSold  :  [2010 2009 2008 2007 2006] \n",
      "\n",
      "SaleType  :  [ 1.  2.  3.  4.  5.  6.  7.  8.  9. nan] \n",
      "\n",
      "SaleCondition  :  [1 2 3 4 5 6] \n",
      "\n"
     ]
    }
   ],
   "source": [
    "for line in df_copy.columns:\n",
    "    print(line, ' : ', df_copy[line].unique(), '\\n')"
   ]
  },
  {
   "cell_type": "code",
   "execution_count": 194,
   "metadata": {},
   "outputs": [
    {
     "name": "stdout",
     "output_type": "stream",
     "text": [
      "nan\n"
     ]
    }
   ],
   "source": [
    "import math\n",
    "print(math.nan)"
   ]
  },
  {
   "cell_type": "code",
   "execution_count": 195,
   "metadata": {},
   "outputs": [
    {
     "data": {
      "text/plain": [
       "nan"
      ]
     },
     "execution_count": 195,
     "metadata": {},
     "output_type": "execute_result"
    }
   ],
   "source": [
    "import numpy as np\n",
    "np.NaN"
   ]
  },
  {
   "cell_type": "markdown",
   "metadata": {},
   "source": [
    "## NaN"
   ]
  },
  {
   "cell_type": "code",
   "execution_count": 196,
   "metadata": {},
   "outputs": [],
   "source": [
    "df_copy.fillna(value=-1, inplace=True)"
   ]
  },
  {
   "cell_type": "code",
   "execution_count": 197,
   "metadata": {},
   "outputs": [
    {
     "name": "stdout",
     "output_type": "stream",
     "text": [
      "Id\n",
      "MSSubClass\n",
      "MSZoning\n",
      "LotFrontage\n",
      "LotArea\n",
      "Street\n",
      "Alley\n",
      "Alley\n",
      "LotShape\n",
      "LandContour\n",
      "Utilities\n",
      "LotConfig\n",
      "LandSlope\n",
      "Neighborhood\n",
      "Condition1\n",
      "Condition2\n",
      "BldgType\n",
      "HouseStyle\n",
      "OverallQual\n",
      "OverallCond\n",
      "YearBuilt\n",
      "YearRemodAdd\n",
      "RoofStyle\n",
      "RoofMatl\n",
      "Exterior1st\n",
      "Exterior2nd\n",
      "MasVnrType\n",
      "MasVnrArea\n",
      "ExterQual\n",
      "ExterCond\n",
      "Foundation\n",
      "BsmtQual\n",
      "BsmtCond\n",
      "BsmtExposure\n",
      "BsmtFinType1\n",
      "BsmtFinSF1\n",
      "BsmtFinType2\n",
      "BsmtFinSF2\n",
      "BsmtUnfSF\n",
      "TotalBsmtSF\n",
      "Heating\n",
      "HeatingQC\n",
      "CentralAir\n",
      "Electrical\n",
      "1stFlrSF\n",
      "2ndFlrSF\n",
      "LowQualFinSF\n",
      "GrLivArea\n",
      "BsmtFullBath\n",
      "BsmtHalfBath\n",
      "FullBath\n",
      "HalfBath\n",
      "BedroomAbvGr\n",
      "KitchenAbvGr\n",
      "KitchenQual\n",
      "TotRmsAbvGrd\n",
      "Functional\n",
      "Fireplaces\n",
      "FireplaceQu\n",
      "GarageType\n",
      "GarageYrBlt\n",
      "GarageFinish\n",
      "GarageCars\n",
      "GarageArea\n",
      "GarageQual\n",
      "GarageCond\n",
      "PavedDrive\n",
      "WoodDeckSF\n",
      "OpenPorchSF\n",
      "EnclosedPorch\n",
      "3SsnPorch\n",
      "ScreenPorch\n",
      "PoolArea\n",
      "PoolQC\n",
      "PoolQC\n",
      "Fence\n",
      "Fence\n",
      "MiscFeature\n",
      "MiscFeature\n",
      "MiscVal\n",
      "MoSold\n",
      "YrSold\n",
      "SaleType\n",
      "SaleCondition\n"
     ]
    }
   ],
   "source": [
    "n = df_copy.columns.values.tolist()\n",
    "m = round(df_copy.shape[0]*.80)\n",
    "\n",
    "l = []\n",
    "for i in n:\n",
    "    print(i)\n",
    "    if df_copy[i].value_counts().get(-1) != None:\n",
    "#        print(m, \" < \", df_copy[i].value_counts().get(-1))\n",
    "        if m < df_copy[i].value_counts().get(-1):\n",
    "            print(i)\n",
    "            l.append(i)\n",
    "            df_copy.drop(labels=i, axis=1, inplace=True)"
   ]
  },
  {
   "cell_type": "code",
   "execution_count": 198,
   "metadata": {},
   "outputs": [],
   "source": [
    "df_copy.replace(to_replace= -1, value=np.NaN, inplace=True)"
   ]
  },
  {
   "cell_type": "code",
   "execution_count": 199,
   "metadata": {},
   "outputs": [
    {
     "data": {
      "text/html": [
       "<div>\n",
       "<style scoped>\n",
       "    .dataframe tbody tr th:only-of-type {\n",
       "        vertical-align: middle;\n",
       "    }\n",
       "\n",
       "    .dataframe tbody tr th {\n",
       "        vertical-align: top;\n",
       "    }\n",
       "\n",
       "    .dataframe thead th {\n",
       "        text-align: right;\n",
       "    }\n",
       "</style>\n",
       "<table border=\"1\" class=\"dataframe\">\n",
       "  <thead>\n",
       "    <tr style=\"text-align: right;\">\n",
       "      <th></th>\n",
       "      <th>Id</th>\n",
       "      <th>MSSubClass</th>\n",
       "      <th>MSZoning</th>\n",
       "      <th>LotFrontage</th>\n",
       "      <th>LotArea</th>\n",
       "      <th>Street</th>\n",
       "      <th>LotShape</th>\n",
       "      <th>LandContour</th>\n",
       "      <th>Utilities</th>\n",
       "      <th>LotConfig</th>\n",
       "      <th>...</th>\n",
       "      <th>OpenPorchSF</th>\n",
       "      <th>EnclosedPorch</th>\n",
       "      <th>3SsnPorch</th>\n",
       "      <th>ScreenPorch</th>\n",
       "      <th>PoolArea</th>\n",
       "      <th>MiscVal</th>\n",
       "      <th>MoSold</th>\n",
       "      <th>YrSold</th>\n",
       "      <th>SaleType</th>\n",
       "      <th>SaleCondition</th>\n",
       "    </tr>\n",
       "  </thead>\n",
       "  <tbody>\n",
       "    <tr>\n",
       "      <th>0</th>\n",
       "      <td>1461</td>\n",
       "      <td>20</td>\n",
       "      <td>1.0</td>\n",
       "      <td>80.0</td>\n",
       "      <td>11622</td>\n",
       "      <td>Pave</td>\n",
       "      <td>Reg</td>\n",
       "      <td>Lvl</td>\n",
       "      <td>AllPub</td>\n",
       "      <td>Inside</td>\n",
       "      <td>...</td>\n",
       "      <td>0</td>\n",
       "      <td>0</td>\n",
       "      <td>0</td>\n",
       "      <td>120</td>\n",
       "      <td>0</td>\n",
       "      <td>0</td>\n",
       "      <td>6</td>\n",
       "      <td>2010</td>\n",
       "      <td>1.0</td>\n",
       "      <td>1</td>\n",
       "    </tr>\n",
       "    <tr>\n",
       "      <th>1</th>\n",
       "      <td>1462</td>\n",
       "      <td>20</td>\n",
       "      <td>0.0</td>\n",
       "      <td>81.0</td>\n",
       "      <td>14267</td>\n",
       "      <td>Pave</td>\n",
       "      <td>IR1</td>\n",
       "      <td>Lvl</td>\n",
       "      <td>AllPub</td>\n",
       "      <td>Corner</td>\n",
       "      <td>...</td>\n",
       "      <td>36</td>\n",
       "      <td>0</td>\n",
       "      <td>0</td>\n",
       "      <td>0</td>\n",
       "      <td>0</td>\n",
       "      <td>12500</td>\n",
       "      <td>6</td>\n",
       "      <td>2010</td>\n",
       "      <td>1.0</td>\n",
       "      <td>1</td>\n",
       "    </tr>\n",
       "    <tr>\n",
       "      <th>2</th>\n",
       "      <td>1463</td>\n",
       "      <td>60</td>\n",
       "      <td>0.0</td>\n",
       "      <td>74.0</td>\n",
       "      <td>13830</td>\n",
       "      <td>Pave</td>\n",
       "      <td>IR1</td>\n",
       "      <td>Lvl</td>\n",
       "      <td>AllPub</td>\n",
       "      <td>Inside</td>\n",
       "      <td>...</td>\n",
       "      <td>34</td>\n",
       "      <td>0</td>\n",
       "      <td>0</td>\n",
       "      <td>0</td>\n",
       "      <td>0</td>\n",
       "      <td>0</td>\n",
       "      <td>3</td>\n",
       "      <td>2010</td>\n",
       "      <td>1.0</td>\n",
       "      <td>1</td>\n",
       "    </tr>\n",
       "    <tr>\n",
       "      <th>3</th>\n",
       "      <td>1464</td>\n",
       "      <td>60</td>\n",
       "      <td>0.0</td>\n",
       "      <td>78.0</td>\n",
       "      <td>9978</td>\n",
       "      <td>Pave</td>\n",
       "      <td>IR1</td>\n",
       "      <td>Lvl</td>\n",
       "      <td>AllPub</td>\n",
       "      <td>Inside</td>\n",
       "      <td>...</td>\n",
       "      <td>36</td>\n",
       "      <td>0</td>\n",
       "      <td>0</td>\n",
       "      <td>0</td>\n",
       "      <td>0</td>\n",
       "      <td>0</td>\n",
       "      <td>6</td>\n",
       "      <td>2010</td>\n",
       "      <td>1.0</td>\n",
       "      <td>1</td>\n",
       "    </tr>\n",
       "    <tr>\n",
       "      <th>4</th>\n",
       "      <td>1465</td>\n",
       "      <td>120</td>\n",
       "      <td>0.0</td>\n",
       "      <td>43.0</td>\n",
       "      <td>5005</td>\n",
       "      <td>Pave</td>\n",
       "      <td>IR1</td>\n",
       "      <td>HLS</td>\n",
       "      <td>AllPub</td>\n",
       "      <td>Inside</td>\n",
       "      <td>...</td>\n",
       "      <td>82</td>\n",
       "      <td>0</td>\n",
       "      <td>0</td>\n",
       "      <td>144</td>\n",
       "      <td>0</td>\n",
       "      <td>0</td>\n",
       "      <td>1</td>\n",
       "      <td>2010</td>\n",
       "      <td>1.0</td>\n",
       "      <td>1</td>\n",
       "    </tr>\n",
       "  </tbody>\n",
       "</table>\n",
       "<p>5 rows × 76 columns</p>\n",
       "</div>"
      ],
      "text/plain": [
       "     Id  MSSubClass  MSZoning  LotFrontage  LotArea Street LotShape  \\\n",
       "0  1461          20       1.0         80.0    11622   Pave      Reg   \n",
       "1  1462          20       0.0         81.0    14267   Pave      IR1   \n",
       "2  1463          60       0.0         74.0    13830   Pave      IR1   \n",
       "3  1464          60       0.0         78.0     9978   Pave      IR1   \n",
       "4  1465         120       0.0         43.0     5005   Pave      IR1   \n",
       "\n",
       "  LandContour Utilities LotConfig      ...       OpenPorchSF EnclosedPorch  \\\n",
       "0         Lvl    AllPub    Inside      ...                 0             0   \n",
       "1         Lvl    AllPub    Corner      ...                36             0   \n",
       "2         Lvl    AllPub    Inside      ...                34             0   \n",
       "3         Lvl    AllPub    Inside      ...                36             0   \n",
       "4         HLS    AllPub    Inside      ...                82             0   \n",
       "\n",
       "  3SsnPorch ScreenPorch PoolArea MiscVal  MoSold  YrSold  SaleType  \\\n",
       "0         0         120        0       0       6    2010       1.0   \n",
       "1         0           0        0   12500       6    2010       1.0   \n",
       "2         0           0        0       0       3    2010       1.0   \n",
       "3         0           0        0       0       6    2010       1.0   \n",
       "4         0         144        0       0       1    2010       1.0   \n",
       "\n",
       "   SaleCondition  \n",
       "0              1  \n",
       "1              1  \n",
       "2              1  \n",
       "3              1  \n",
       "4              1  \n",
       "\n",
       "[5 rows x 76 columns]"
      ]
     },
     "execution_count": 199,
     "metadata": {},
     "output_type": "execute_result"
    }
   ],
   "source": [
    "df_copy.head()"
   ]
  },
  {
   "cell_type": "code",
   "execution_count": 200,
   "metadata": {},
   "outputs": [
    {
     "name": "stdout",
     "output_type": "stream",
     "text": [
      "<class 'pandas.core.frame.DataFrame'>\n",
      "RangeIndex: 1459 entries, 0 to 1458\n",
      "Data columns (total 76 columns):\n",
      "Id               1459 non-null int64\n",
      "MSSubClass       1459 non-null int64\n",
      "MSZoning         1455 non-null float64\n",
      "LotFrontage      1232 non-null float64\n",
      "LotArea          1459 non-null int64\n",
      "Street           1459 non-null object\n",
      "LotShape         1459 non-null object\n",
      "LandContour      1459 non-null object\n",
      "Utilities        1457 non-null object\n",
      "LotConfig        1459 non-null object\n",
      "LandSlope        1459 non-null object\n",
      "Neighborhood     1459 non-null object\n",
      "Condition1       1459 non-null object\n",
      "Condition2       1459 non-null object\n",
      "BldgType         1459 non-null object\n",
      "HouseStyle       1459 non-null object\n",
      "OverallQual      1459 non-null int64\n",
      "OverallCond      1459 non-null int64\n",
      "YearBuilt        1459 non-null int64\n",
      "YearRemodAdd     1459 non-null int64\n",
      "RoofStyle        1459 non-null object\n",
      "RoofMatl         1459 non-null object\n",
      "Exterior1st      1458 non-null object\n",
      "Exterior2nd      1458 non-null object\n",
      "MasVnrType       1443 non-null object\n",
      "MasVnrArea       1444 non-null float64\n",
      "ExterQual        1459 non-null object\n",
      "ExterCond        1459 non-null object\n",
      "Foundation       1459 non-null object\n",
      "BsmtQual         1415 non-null object\n",
      "BsmtCond         1414 non-null object\n",
      "BsmtExposure     1415 non-null object\n",
      "BsmtFinType1     1417 non-null float64\n",
      "BsmtFinSF1       1458 non-null float64\n",
      "BsmtFinType2     1417 non-null float64\n",
      "BsmtFinSF2       1458 non-null float64\n",
      "BsmtUnfSF        1458 non-null float64\n",
      "TotalBsmtSF      1458 non-null float64\n",
      "Heating          1459 non-null int64\n",
      "HeatingQC        1459 non-null int64\n",
      "CentralAir       1459 non-null int64\n",
      "Electrical       1459 non-null int64\n",
      "1stFlrSF         1459 non-null int64\n",
      "2ndFlrSF         1459 non-null int64\n",
      "LowQualFinSF     1459 non-null int64\n",
      "GrLivArea        1459 non-null int64\n",
      "BsmtFullBath     1457 non-null float64\n",
      "BsmtHalfBath     1457 non-null float64\n",
      "FullBath         1459 non-null int64\n",
      "HalfBath         1459 non-null int64\n",
      "BedroomAbvGr     1459 non-null int64\n",
      "KitchenAbvGr     1459 non-null int64\n",
      "KitchenQual      1458 non-null float64\n",
      "TotRmsAbvGrd     1459 non-null int64\n",
      "Functional       1457 non-null float64\n",
      "Fireplaces       1459 non-null int64\n",
      "FireplaceQu      729 non-null float64\n",
      "GarageType       1383 non-null float64\n",
      "GarageYrBlt      1381 non-null float64\n",
      "GarageFinish     1381 non-null float64\n",
      "GarageCars       1458 non-null float64\n",
      "GarageArea       1458 non-null float64\n",
      "GarageQual       1381 non-null float64\n",
      "GarageCond       1381 non-null float64\n",
      "PavedDrive       1459 non-null int64\n",
      "WoodDeckSF       1459 non-null int64\n",
      "OpenPorchSF      1459 non-null int64\n",
      "EnclosedPorch    1459 non-null int64\n",
      "3SsnPorch        1459 non-null int64\n",
      "ScreenPorch      1459 non-null int64\n",
      "PoolArea         1459 non-null int64\n",
      "MiscVal          1459 non-null int64\n",
      "MoSold           1459 non-null int64\n",
      "YrSold           1459 non-null int64\n",
      "SaleType         1458 non-null float64\n",
      "SaleCondition    1459 non-null int64\n",
      "dtypes: float64(22), int64(32), object(22)\n",
      "memory usage: 866.4+ KB\n"
     ]
    }
   ],
   "source": [
    "df_copy.info()"
   ]
  },
  {
   "cell_type": "code",
   "execution_count": 201,
   "metadata": {},
   "outputs": [],
   "source": [
    "df_copy.to_csv('test_clean.csv')"
   ]
  },
  {
   "cell_type": "code",
   "execution_count": null,
   "metadata": {},
   "outputs": [],
   "source": []
  }
 ],
 "metadata": {
  "kernelspec": {
   "display_name": "Python 3",
   "language": "python",
   "name": "python3"
  },
  "language_info": {
   "codemirror_mode": {
    "name": "ipython",
    "version": 3
   },
   "file_extension": ".py",
   "mimetype": "text/x-python",
   "name": "python",
   "nbconvert_exporter": "python",
   "pygments_lexer": "ipython3",
   "version": "3.6.5"
  }
 },
 "nbformat": 4,
 "nbformat_minor": 2
}
